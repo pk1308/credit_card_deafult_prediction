{
  "cells": [
    {
      "cell_type": "markdown",
      "id": "630a2437",
      "metadata": {
        "id": "630a2437"
      },
      "source": [
        "# Getting Started Tutorial"
      ]
    },
    {
      "cell_type": "markdown",
      "id": "3c3dfc08",
      "metadata": {
        "id": "3c3dfc08"
      },
      "source": [
        "To install Evidently using the pip package manager, run:\n",
        "\n",
        "```$ pip install evidently```\n",
        "\n",
        "\n",
        "If you want to see reports inside a Jupyter notebook, you need to also install the Jupyter nbextension. After installing evidently, run the two following commands in the terminal from the Evidently directory.\n",
        "\n",
        "To install jupyter nbextension, run:\n",
        "\n",
        "```$ jupyter nbextension install --sys-prefix --symlink --overwrite --py evidently```\n",
        "\n",
        "To enable it, run:\n",
        "\n",
        "```$ jupyter nbextension enable evidently --py --sys-prefix```\n",
        "\n",
        "That's it!"
      ]
    },
    {
      "cell_type": "code",
      "execution_count": 1,
      "id": "10563321",
      "metadata": {},
      "outputs": [],
      "source": [
        "import os \n",
        "\n",
        "os.chdir(\"..\")"
      ]
    },
    {
      "cell_type": "code",
      "execution_count": 2,
      "id": "f0db0498",
      "metadata": {},
      "outputs": [],
      "source": [
        "from CreditCard.constants import DATABASE_FILE\n",
        "from CreditCard.utils import read_yaml\n",
        "from pathlib import Path"
      ]
    },
    {
      "cell_type": "code",
      "execution_count": 3,
      "id": "63c9e944",
      "metadata": {},
      "outputs": [
        {
          "data": {
            "text/plain": [
              "WindowsPath('c:/Users/princ/OneDrive/Desktop/project-python/creditcard/configs/database.yaml')"
            ]
          },
          "execution_count": 3,
          "metadata": {},
          "output_type": "execute_result"
        }
      ],
      "source": [
        "DATABASE_FILE"
      ]
    },
    {
      "cell_type": "code",
      "execution_count": 4,
      "id": "16c0e909",
      "metadata": {},
      "outputs": [],
      "source": [
        "from CreditCard.Database import MongoDB"
      ]
    },
    {
      "cell_type": "code",
      "execution_count": 5,
      "id": "0a049075",
      "metadata": {},
      "outputs": [
        {
          "name": "stderr",
          "output_type": "stream",
          "text": [
            "2023-03-16 14:33:37.000 | INFO     | CreditCard.utils.common:read_yaml:34 - yaml file: c:\\Users\\princ\\OneDrive\\Desktop\\project-python\\creditcard\\configs\\database.yaml loaded successfully\n",
            "2023-03-16 14:33:37.070 | DEBUG    | CreditCard.Database:__init__:27 - connection to mongo db successful\n",
            "2023-03-16 14:33:37.071 | DEBUG    | CreditCard.Database:__init__:37 - connection to mongo db successful\n"
          ]
        }
      ],
      "source": [
        "test_cont = MongoDB(\"test\")"
      ]
    },
    {
      "cell_type": "code",
      "execution_count": 1,
      "id": "fd815c6f",
      "metadata": {},
      "outputs": [],
      "source": [
        "import pandas as pd "
      ]
    },
    {
      "cell_type": "code",
      "execution_count": 2,
      "id": "090cc332",
      "metadata": {},
      "outputs": [],
      "source": [
        "df = pd.read_csv(r'C:\\Users\\princ\\OneDrive\\Desktop\\project-python\\creditcard\\artifact\\Stage00_data_ingestion\\ingested_data\\test.csv')"
      ]
    },
    {
      "cell_type": "code",
      "execution_count": 3,
      "id": "7218bd2f",
      "metadata": {},
      "outputs": [],
      "source": [
        "df1 = df = pd.read_csv(r'C:\\Users\\princ\\OneDrive\\Desktop\\project-python\\creditcard\\artifact\\Stage00_data_ingestion\\raw_data\\UCI_Credit_Card.csv')"
      ]
    },
    {
      "cell_type": "code",
      "execution_count": 22,
      "id": "d1d77749",
      "metadata": {},
      "outputs": [],
      "source": [
        "tests = TestSuite(tests=[\n",
        "    TestNumberOfDuplicatedRows(),\n",
        "])\n"
      ]
    },
    {
      "cell_type": "code",
      "execution_count": 32,
      "id": "d7e07f19",
      "metadata": {},
      "outputs": [],
      "source": [
        "tests.run(reference_data=df , current_data=df)"
      ]
    },
    {
      "cell_type": "code",
      "execution_count": 34,
      "id": "22e23e53",
      "metadata": {},
      "outputs": [
        {
          "data": {
            "text/html": [
              "\n",
              "<link rel=\"stylesheet\" href=\"https://fonts.googleapis.com/icon?family=Material+Icons\"/>\n",
              "<style>\n",
              ".reset-this-parent {\n",
              "  all: initial;\n",
              "}\n",
              ".reset-this-parent h5 {\n",
              "  all: initial;\n",
              "  font: initial;\n",
              "}\n",
              "\n",
              "svg {\n",
              "  height: intrinsic !important;\n",
              "}\n",
              "</style>\n",
              "<script>\n",
              "    var evidently_dashboard_f9a7748fbb2848749c77c48ff8387ae6 = {\"name\": \"Test Suite\", \"widgets\": [{\"type\": \"counter\", \"title\": \"\", \"size\": 2, \"id\": \"3dd509fc-cfe7-4bfe-9858-a0f0e8d49303\", \"details\": \"\", \"alertsPosition\": null, \"alertStats\": null, \"params\": {\"counters\": [{\"value\": \"1\", \"label\": \"Tests\"}, {\"value\": \"1\", \"label\": \"Success\"}, {\"value\": \"0\", \"label\": \"Warning\"}, {\"value\": \"0\", \"label\": \"Fail\"}, {\"value\": \"0\", \"label\": \"Error\"}]}, \"insights\": [], \"alerts\": [], \"tabs\": [], \"widgets\": [], \"pageSize\": 5}, {\"type\": \"test_suite\", \"title\": \"\", \"size\": 2, \"id\": \"bc67347f-1e33-477b-bccc-c233f14595dd\", \"details\": \"\", \"alertsPosition\": null, \"alertStats\": null, \"params\": {\"tests\": [{\"title\": \"Number of Duplicate Rows\", \"description\": \"The number of duplicate rows is 0. The test threshold is eq=0 \\u00b1 1e-12.\", \"state\": \"success\", \"details\": {\"parts\": []}, \"groups\": {\"test_group\": \"data_integrity\", \"test_type\": \"Number of Duplicate Rows\"}}], \"testGroupTypes\": [{\"id\": \"by_feature\", \"title\": \"By feature\", \"values\": [{\"id\": \"no group\", \"title\": \"Dataset-level tests\", \"description\": \"Some tests cannot be grouped by feature\", \"sort_index\": 0, \"severity\": null}]}, {\"id\": \"test_group\", \"title\": \"By test group\", \"values\": [{\"id\": \"no group\", \"title\": \"Ungrouped\", \"description\": \"Some tests don\\u2019t belong to any group under the selected condition\", \"sort_index\": 0, \"severity\": null}, {\"id\": \"classification\", \"title\": \"Classification\", \"description\": \"\", \"sort_index\": 0, \"severity\": null}, {\"id\": \"data_drift\", \"title\": \"Data Drift\", \"description\": \"\", \"sort_index\": 0, \"severity\": null}, {\"id\": \"data_integrity\", \"title\": \"Data Integrity\", \"description\": \"\", \"sort_index\": 0, \"severity\": null}, {\"id\": \"data_quality\", \"title\": \"Data Quality\", \"description\": \"\", \"sort_index\": 0, \"severity\": null}, {\"id\": \"regression\", \"title\": \"Regression\", \"description\": \"\", \"sort_index\": 0, \"severity\": null}]}, {\"id\": \"test_type\", \"title\": \"By test type\", \"values\": []}, {\"id\": \"by_class\", \"title\": \"By class\", \"values\": []}]}, \"insights\": [], \"alerts\": [], \"tabs\": [], \"widgets\": [], \"pageSize\": 5}]};\n",
              "    var additional_graphs_evidently_dashboard_f9a7748fbb2848749c77c48ff8387ae6 = {};\n",
              "</script>\n",
              "<script>\n",
              "function domReady(fn) {\n",
              "  // If we're early to the party\n",
              "  document.addEventListener(\"DOMContentLoaded\", fn);\n",
              "  // If late; I mean on time.\n",
              "  if (document.readyState === \"interactive\" || document.readyState === \"complete\" ) {\n",
              "    fn();\n",
              "  }\n",
              "}\n",
              "\n",
              "domReady(function () {\n",
              "    requirejs([\"evidently\"], function(ev) {\n",
              "        drawDashboard(evidently_dashboard_f9a7748fbb2848749c77c48ff8387ae6,\n",
              "        new Map(Object.entries(additional_graphs_evidently_dashboard_f9a7748fbb2848749c77c48ff8387ae6)),\n",
              "        \"root_evidently_dashboard_f9a7748fbb2848749c77c48ff8387ae6\");\n",
              "    },\n",
              "    function(err) {\n",
              "        $(\"#root_evidently_dashboard_f9a7748fbb2848749c77c48ff8387ae6\").innerHTML = \"Failed to load\";\n",
              "    })\n",
              "});\n",
              "</script>\n",
              "<div class=\"reset-this-parent\" id=\"root_evidently_dashboard_f9a7748fbb2848749c77c48ff8387ae6\">Loading...</div>\n",
              "\n"
            ],
            "text/plain": [
              "<evidently.test_suite.test_suite.TestSuite at 0x2274d200190>"
            ]
          },
          "execution_count": 34,
          "metadata": {},
          "output_type": "execute_result"
        }
      ],
      "source": []
    },
    {
      "cell_type": "code",
      "execution_count": 4,
      "id": "4fe07479",
      "metadata": {},
      "outputs": [
        {
          "data": {
            "text/html": [
              "<div>\n",
              "<style scoped>\n",
              "    .dataframe tbody tr th:only-of-type {\n",
              "        vertical-align: middle;\n",
              "    }\n",
              "\n",
              "    .dataframe tbody tr th {\n",
              "        vertical-align: top;\n",
              "    }\n",
              "\n",
              "    .dataframe thead tr th {\n",
              "        text-align: left;\n",
              "    }\n",
              "</style>\n",
              "<table border=\"1\" class=\"dataframe\">\n",
              "  <thead>\n",
              "  </thead>\n",
              "  <tbody>\n",
              "  </tbody>\n",
              "</table>\n",
              "</div>"
            ],
            "text/plain": [
              "Empty DataFrame\n",
              "Columns: []\n",
              "Index: []"
            ]
          },
          "execution_count": 4,
          "metadata": {},
          "output_type": "execute_result"
        }
      ],
      "source": [
        "df1.compare(df)"
      ]
    },
    {
      "cell_type": "code",
      "execution_count": 27,
      "id": "afd5ed90",
      "metadata": {},
      "outputs": [
        {
          "data": {
            "text/plain": [
              "0"
            ]
          },
          "execution_count": 27,
          "metadata": {},
          "output_type": "execute_result"
        }
      ],
      "source": [
        "df1.duplicated().sum()"
      ]
    },
    {
      "cell_type": "code",
      "execution_count": 31,
      "id": "b895752b",
      "metadata": {},
      "outputs": [
        {
          "data": {
            "text/html": [
              "<div>\n",
              "<style scoped>\n",
              "    .dataframe tbody tr th:only-of-type {\n",
              "        vertical-align: middle;\n",
              "    }\n",
              "\n",
              "    .dataframe tbody tr th {\n",
              "        vertical-align: top;\n",
              "    }\n",
              "\n",
              "    .dataframe thead th {\n",
              "        text-align: right;\n",
              "    }\n",
              "</style>\n",
              "<table border=\"1\" class=\"dataframe\">\n",
              "  <thead>\n",
              "    <tr style=\"text-align: right;\">\n",
              "      <th></th>\n",
              "      <th>ID</th>\n",
              "      <th>LIMIT_BAL</th>\n",
              "      <th>SEX</th>\n",
              "      <th>EDUCATION</th>\n",
              "      <th>MARRIAGE</th>\n",
              "      <th>AGE</th>\n",
              "      <th>PAY_0</th>\n",
              "      <th>PAY_2</th>\n",
              "      <th>PAY_3</th>\n",
              "      <th>PAY_4</th>\n",
              "      <th>...</th>\n",
              "      <th>BILL_AMT4</th>\n",
              "      <th>BILL_AMT5</th>\n",
              "      <th>BILL_AMT6</th>\n",
              "      <th>PAY_AMT1</th>\n",
              "      <th>PAY_AMT2</th>\n",
              "      <th>PAY_AMT3</th>\n",
              "      <th>PAY_AMT4</th>\n",
              "      <th>PAY_AMT5</th>\n",
              "      <th>PAY_AMT6</th>\n",
              "      <th>default.payment.next.month</th>\n",
              "    </tr>\n",
              "  </thead>\n",
              "  <tbody>\n",
              "    <tr>\n",
              "      <th>0</th>\n",
              "      <td>1</td>\n",
              "      <td>20000.0</td>\n",
              "      <td>2</td>\n",
              "      <td>2</td>\n",
              "      <td>1</td>\n",
              "      <td>24</td>\n",
              "      <td>2</td>\n",
              "      <td>2</td>\n",
              "      <td>-1</td>\n",
              "      <td>-1</td>\n",
              "      <td>...</td>\n",
              "      <td>0.0</td>\n",
              "      <td>0.0</td>\n",
              "      <td>0.0</td>\n",
              "      <td>0.0</td>\n",
              "      <td>689.0</td>\n",
              "      <td>0.0</td>\n",
              "      <td>0.0</td>\n",
              "      <td>0.0</td>\n",
              "      <td>0.0</td>\n",
              "      <td>1</td>\n",
              "    </tr>\n",
              "    <tr>\n",
              "      <th>1</th>\n",
              "      <td>2</td>\n",
              "      <td>120000.0</td>\n",
              "      <td>2</td>\n",
              "      <td>2</td>\n",
              "      <td>2</td>\n",
              "      <td>26</td>\n",
              "      <td>-1</td>\n",
              "      <td>2</td>\n",
              "      <td>0</td>\n",
              "      <td>0</td>\n",
              "      <td>...</td>\n",
              "      <td>3272.0</td>\n",
              "      <td>3455.0</td>\n",
              "      <td>3261.0</td>\n",
              "      <td>0.0</td>\n",
              "      <td>1000.0</td>\n",
              "      <td>1000.0</td>\n",
              "      <td>1000.0</td>\n",
              "      <td>0.0</td>\n",
              "      <td>2000.0</td>\n",
              "      <td>1</td>\n",
              "    </tr>\n",
              "    <tr>\n",
              "      <th>2</th>\n",
              "      <td>3</td>\n",
              "      <td>90000.0</td>\n",
              "      <td>2</td>\n",
              "      <td>2</td>\n",
              "      <td>2</td>\n",
              "      <td>34</td>\n",
              "      <td>0</td>\n",
              "      <td>0</td>\n",
              "      <td>0</td>\n",
              "      <td>0</td>\n",
              "      <td>...</td>\n",
              "      <td>14331.0</td>\n",
              "      <td>14948.0</td>\n",
              "      <td>15549.0</td>\n",
              "      <td>1518.0</td>\n",
              "      <td>1500.0</td>\n",
              "      <td>1000.0</td>\n",
              "      <td>1000.0</td>\n",
              "      <td>1000.0</td>\n",
              "      <td>5000.0</td>\n",
              "      <td>0</td>\n",
              "    </tr>\n",
              "    <tr>\n",
              "      <th>3</th>\n",
              "      <td>4</td>\n",
              "      <td>50000.0</td>\n",
              "      <td>2</td>\n",
              "      <td>2</td>\n",
              "      <td>1</td>\n",
              "      <td>37</td>\n",
              "      <td>0</td>\n",
              "      <td>0</td>\n",
              "      <td>0</td>\n",
              "      <td>0</td>\n",
              "      <td>...</td>\n",
              "      <td>28314.0</td>\n",
              "      <td>28959.0</td>\n",
              "      <td>29547.0</td>\n",
              "      <td>2000.0</td>\n",
              "      <td>2019.0</td>\n",
              "      <td>1200.0</td>\n",
              "      <td>1100.0</td>\n",
              "      <td>1069.0</td>\n",
              "      <td>1000.0</td>\n",
              "      <td>0</td>\n",
              "    </tr>\n",
              "    <tr>\n",
              "      <th>4</th>\n",
              "      <td>5</td>\n",
              "      <td>50000.0</td>\n",
              "      <td>1</td>\n",
              "      <td>2</td>\n",
              "      <td>1</td>\n",
              "      <td>57</td>\n",
              "      <td>-1</td>\n",
              "      <td>0</td>\n",
              "      <td>-1</td>\n",
              "      <td>0</td>\n",
              "      <td>...</td>\n",
              "      <td>20940.0</td>\n",
              "      <td>19146.0</td>\n",
              "      <td>19131.0</td>\n",
              "      <td>2000.0</td>\n",
              "      <td>36681.0</td>\n",
              "      <td>10000.0</td>\n",
              "      <td>9000.0</td>\n",
              "      <td>689.0</td>\n",
              "      <td>679.0</td>\n",
              "      <td>0</td>\n",
              "    </tr>\n",
              "    <tr>\n",
              "      <th>...</th>\n",
              "      <td>...</td>\n",
              "      <td>...</td>\n",
              "      <td>...</td>\n",
              "      <td>...</td>\n",
              "      <td>...</td>\n",
              "      <td>...</td>\n",
              "      <td>...</td>\n",
              "      <td>...</td>\n",
              "      <td>...</td>\n",
              "      <td>...</td>\n",
              "      <td>...</td>\n",
              "      <td>...</td>\n",
              "      <td>...</td>\n",
              "      <td>...</td>\n",
              "      <td>...</td>\n",
              "      <td>...</td>\n",
              "      <td>...</td>\n",
              "      <td>...</td>\n",
              "      <td>...</td>\n",
              "      <td>...</td>\n",
              "      <td>...</td>\n",
              "    </tr>\n",
              "    <tr>\n",
              "      <th>29995</th>\n",
              "      <td>29996</td>\n",
              "      <td>220000.0</td>\n",
              "      <td>1</td>\n",
              "      <td>3</td>\n",
              "      <td>1</td>\n",
              "      <td>39</td>\n",
              "      <td>0</td>\n",
              "      <td>0</td>\n",
              "      <td>0</td>\n",
              "      <td>0</td>\n",
              "      <td>...</td>\n",
              "      <td>88004.0</td>\n",
              "      <td>31237.0</td>\n",
              "      <td>15980.0</td>\n",
              "      <td>8500.0</td>\n",
              "      <td>20000.0</td>\n",
              "      <td>5003.0</td>\n",
              "      <td>3047.0</td>\n",
              "      <td>5000.0</td>\n",
              "      <td>1000.0</td>\n",
              "      <td>0</td>\n",
              "    </tr>\n",
              "    <tr>\n",
              "      <th>29996</th>\n",
              "      <td>29997</td>\n",
              "      <td>150000.0</td>\n",
              "      <td>1</td>\n",
              "      <td>3</td>\n",
              "      <td>2</td>\n",
              "      <td>43</td>\n",
              "      <td>-1</td>\n",
              "      <td>-1</td>\n",
              "      <td>-1</td>\n",
              "      <td>-1</td>\n",
              "      <td>...</td>\n",
              "      <td>8979.0</td>\n",
              "      <td>5190.0</td>\n",
              "      <td>0.0</td>\n",
              "      <td>1837.0</td>\n",
              "      <td>3526.0</td>\n",
              "      <td>8998.0</td>\n",
              "      <td>129.0</td>\n",
              "      <td>0.0</td>\n",
              "      <td>0.0</td>\n",
              "      <td>0</td>\n",
              "    </tr>\n",
              "    <tr>\n",
              "      <th>29997</th>\n",
              "      <td>29998</td>\n",
              "      <td>30000.0</td>\n",
              "      <td>1</td>\n",
              "      <td>2</td>\n",
              "      <td>2</td>\n",
              "      <td>37</td>\n",
              "      <td>4</td>\n",
              "      <td>3</td>\n",
              "      <td>2</td>\n",
              "      <td>-1</td>\n",
              "      <td>...</td>\n",
              "      <td>20878.0</td>\n",
              "      <td>20582.0</td>\n",
              "      <td>19357.0</td>\n",
              "      <td>0.0</td>\n",
              "      <td>0.0</td>\n",
              "      <td>22000.0</td>\n",
              "      <td>4200.0</td>\n",
              "      <td>2000.0</td>\n",
              "      <td>3100.0</td>\n",
              "      <td>1</td>\n",
              "    </tr>\n",
              "    <tr>\n",
              "      <th>29998</th>\n",
              "      <td>29999</td>\n",
              "      <td>80000.0</td>\n",
              "      <td>1</td>\n",
              "      <td>3</td>\n",
              "      <td>1</td>\n",
              "      <td>41</td>\n",
              "      <td>1</td>\n",
              "      <td>-1</td>\n",
              "      <td>0</td>\n",
              "      <td>0</td>\n",
              "      <td>...</td>\n",
              "      <td>52774.0</td>\n",
              "      <td>11855.0</td>\n",
              "      <td>48944.0</td>\n",
              "      <td>85900.0</td>\n",
              "      <td>3409.0</td>\n",
              "      <td>1178.0</td>\n",
              "      <td>1926.0</td>\n",
              "      <td>52964.0</td>\n",
              "      <td>1804.0</td>\n",
              "      <td>1</td>\n",
              "    </tr>\n",
              "    <tr>\n",
              "      <th>29999</th>\n",
              "      <td>30000</td>\n",
              "      <td>50000.0</td>\n",
              "      <td>1</td>\n",
              "      <td>2</td>\n",
              "      <td>1</td>\n",
              "      <td>46</td>\n",
              "      <td>0</td>\n",
              "      <td>0</td>\n",
              "      <td>0</td>\n",
              "      <td>0</td>\n",
              "      <td>...</td>\n",
              "      <td>36535.0</td>\n",
              "      <td>32428.0</td>\n",
              "      <td>15313.0</td>\n",
              "      <td>2078.0</td>\n",
              "      <td>1800.0</td>\n",
              "      <td>1430.0</td>\n",
              "      <td>1000.0</td>\n",
              "      <td>1000.0</td>\n",
              "      <td>1000.0</td>\n",
              "      <td>1</td>\n",
              "    </tr>\n",
              "  </tbody>\n",
              "</table>\n",
              "<p>30000 rows × 25 columns</p>\n",
              "</div>"
            ],
            "text/plain": [
              "          ID  LIMIT_BAL  SEX  EDUCATION  MARRIAGE  AGE  PAY_0  PAY_2  PAY_3  \\\n",
              "0          1    20000.0    2          2         1   24      2      2     -1   \n",
              "1          2   120000.0    2          2         2   26     -1      2      0   \n",
              "2          3    90000.0    2          2         2   34      0      0      0   \n",
              "3          4    50000.0    2          2         1   37      0      0      0   \n",
              "4          5    50000.0    1          2         1   57     -1      0     -1   \n",
              "...      ...        ...  ...        ...       ...  ...    ...    ...    ...   \n",
              "29995  29996   220000.0    1          3         1   39      0      0      0   \n",
              "29996  29997   150000.0    1          3         2   43     -1     -1     -1   \n",
              "29997  29998    30000.0    1          2         2   37      4      3      2   \n",
              "29998  29999    80000.0    1          3         1   41      1     -1      0   \n",
              "29999  30000    50000.0    1          2         1   46      0      0      0   \n",
              "\n",
              "       PAY_4  ...  BILL_AMT4  BILL_AMT5  BILL_AMT6  PAY_AMT1  PAY_AMT2  \\\n",
              "0         -1  ...        0.0        0.0        0.0       0.0     689.0   \n",
              "1          0  ...     3272.0     3455.0     3261.0       0.0    1000.0   \n",
              "2          0  ...    14331.0    14948.0    15549.0    1518.0    1500.0   \n",
              "3          0  ...    28314.0    28959.0    29547.0    2000.0    2019.0   \n",
              "4          0  ...    20940.0    19146.0    19131.0    2000.0   36681.0   \n",
              "...      ...  ...        ...        ...        ...       ...       ...   \n",
              "29995      0  ...    88004.0    31237.0    15980.0    8500.0   20000.0   \n",
              "29996     -1  ...     8979.0     5190.0        0.0    1837.0    3526.0   \n",
              "29997     -1  ...    20878.0    20582.0    19357.0       0.0       0.0   \n",
              "29998      0  ...    52774.0    11855.0    48944.0   85900.0    3409.0   \n",
              "29999      0  ...    36535.0    32428.0    15313.0    2078.0    1800.0   \n",
              "\n",
              "       PAY_AMT3  PAY_AMT4  PAY_AMT5  PAY_AMT6  default.payment.next.month  \n",
              "0           0.0       0.0       0.0       0.0                           1  \n",
              "1        1000.0    1000.0       0.0    2000.0                           1  \n",
              "2        1000.0    1000.0    1000.0    5000.0                           0  \n",
              "3        1200.0    1100.0    1069.0    1000.0                           0  \n",
              "4       10000.0    9000.0     689.0     679.0                           0  \n",
              "...         ...       ...       ...       ...                         ...  \n",
              "29995    5003.0    3047.0    5000.0    1000.0                           0  \n",
              "29996    8998.0     129.0       0.0       0.0                           0  \n",
              "29997   22000.0    4200.0    2000.0    3100.0                           1  \n",
              "29998    1178.0    1926.0   52964.0    1804.0                           1  \n",
              "29999    1430.0    1000.0    1000.0    1000.0                           1  \n",
              "\n",
              "[30000 rows x 25 columns]"
            ]
          },
          "execution_count": 31,
          "metadata": {},
          "output_type": "execute_result"
        }
      ],
      "source": [
        "df1.drop_duplicates(keep=\"first\")"
      ]
    },
    {
      "cell_type": "code",
      "execution_count": 24,
      "id": "1e6b8d2a",
      "metadata": {},
      "outputs": [
        {
          "data": {
            "text/plain": [
              "{'tests': [{'name': 'Number of Duplicate Rows',\n",
              "   'description': 'The number of duplicate rows is 0. The test threshold is eq=0 ± 1e-12.',\n",
              "   'status': 'SUCCESS',\n",
              "   'group': 'data_integrity',\n",
              "   'parameters': {'condition': {'eq': 0.0 ± 1e-12},\n",
              "    'number_of_duplicated_rows': 0}}],\n",
              " 'summary': {'all_passed': True,\n",
              "  'total_tests': 1,\n",
              "  'success_tests': 1,\n",
              "  'failed_tests': 0,\n",
              "  'by_status': Counter({'SUCCESS': 1})}}"
            ]
          },
          "execution_count": 24,
          "metadata": {},
          "output_type": "execute_result"
        }
      ],
      "source": [
        "tests.as_dict()"
      ]
    },
    {
      "cell_type": "code",
      "execution_count": 20,
      "id": "98588260",
      "metadata": {},
      "outputs": [
        {
          "data": {
            "text/plain": [
              "(24000, 25)"
            ]
          },
          "execution_count": 20,
          "metadata": {},
          "output_type": "execute_result"
        }
      ],
      "source": [
        "df1.shape"
      ]
    },
    {
      "cell_type": "code",
      "execution_count": null,
      "id": "b69409d5",
      "metadata": {},
      "outputs": [],
      "source": [
        "test_cont.Insert_Many( df.to_dict(orient=\"records\"))"
      ]
    },
    {
      "cell_type": "code",
      "execution_count": 7,
      "id": "0de0c780",
      "metadata": {},
      "outputs": [
        {
          "name": "stderr",
          "output_type": "stream",
          "text": [
            "2023-03-16 14:33:53.739 | DEBUG    | CreditCard.Database:find_many_as_df:141 - find many data from mongo db and return as dataframe\n"
          ]
        }
      ],
      "source": [
        "data = test_cont.find_many_as_df()"
      ]
    },
    {
      "cell_type": "code",
      "execution_count": 9,
      "id": "4dc63b16",
      "metadata": {},
      "outputs": [
        {
          "data": {
            "text/plain": [
              "(6000, 25)"
            ]
          },
          "execution_count": 9,
          "metadata": {},
          "output_type": "execute_result"
        }
      ],
      "source": [
        "data.shape"
      ]
    },
    {
      "cell_type": "code",
      "execution_count": 13,
      "id": "24174f19",
      "metadata": {},
      "outputs": [
        {
          "data": {
            "text/plain": [
              "True"
            ]
          },
          "execution_count": 13,
          "metadata": {},
          "output_type": "execute_result"
        }
      ],
      "source": [
        "pd.DataFrame.equals(df, data)"
      ]
    },
    {
      "cell_type": "code",
      "execution_count": null,
      "id": "d6f37b32",
      "metadata": {},
      "outputs": [],
      "source": [
        "df = pd.DataFrame(data=data)"
      ]
    },
    {
      "cell_type": "code",
      "execution_count": null,
      "id": "9bdf1e10",
      "metadata": {},
      "outputs": [],
      "source": [
        "df"
      ]
    },
    {
      "cell_type": "code",
      "execution_count": null,
      "id": "aec9a1cc",
      "metadata": {
        "colab": {
          "base_uri": "https://localhost:8080/"
        },
        "id": "aec9a1cc",
        "outputId": "48acfb11-890b-4106-9cac-0fce27e45418"
      },
      "outputs": [],
      "source": [
        "try:\n",
        "    import evidently\n",
        "except:\n",
        "    !pip install git+https://github.com/evidentlyai/evidently.git -q"
      ]
    },
    {
      "cell_type": "code",
      "execution_count": 17,
      "id": "0c00061b",
      "metadata": {
        "id": "0c00061b"
      },
      "outputs": [],
      "source": [
        "import pandas as pd\n",
        "import numpy as np\n",
        "\n",
        "from sklearn.datasets import fetch_california_housing\n",
        "\n",
        "from evidently import ColumnMapping\n",
        "\n",
        "from evidently.report import Report\n",
        "from evidently.metrics.base_metric import generate_column_metrics\n",
        "from evidently.metric_preset import DataDriftPreset, TargetDriftPreset, DataQualityPreset, RegressionPreset\n",
        "from evidently.metrics import *\n",
        "\n",
        "from evidently.test_suite import TestSuite\n",
        "from evidently.tests.base_test import generate_column_tests\n",
        "from evidently.test_preset import DataStabilityTestPreset, NoTargetPerformanceTestPreset\n",
        "from evidently.tests import *"
      ]
    },
    {
      "cell_type": "code",
      "execution_count": 18,
      "id": "56d3e494",
      "metadata": {
        "id": "56d3e494"
      },
      "outputs": [],
      "source": [
        "import warnings\n",
        "warnings.filterwarnings('ignore')\n",
        "warnings.simplefilter('ignore')"
      ]
    },
    {
      "cell_type": "markdown",
      "id": "1dca5a2c",
      "metadata": {
        "id": "1dca5a2c"
      },
      "source": [
        "## Load Data"
      ]
    },
    {
      "cell_type": "code",
      "execution_count": 19,
      "id": "5c9d9f9e",
      "metadata": {
        "id": "5c9d9f9e"
      },
      "outputs": [],
      "source": [
        "data = fetch_california_housing(as_frame=True)\n",
        "housing_data = data.frame"
      ]
    },
    {
      "cell_type": "code",
      "execution_count": 20,
      "id": "60692ed0",
      "metadata": {
        "id": "60692ed0"
      },
      "outputs": [],
      "source": [
        "housing_data.rename(columns={'MedHouseVal': 'target'}, inplace=True)\n",
        "housing_data['prediction'] = housing_data['target'].values + np.random.normal(0, 5, housing_data.shape[0])"
      ]
    },
    {
      "cell_type": "code",
      "execution_count": 21,
      "id": "f48b2f20",
      "metadata": {
        "id": "f48b2f20"
      },
      "outputs": [],
      "source": [
        "reference = housing_data.sample(n=5000, replace=False)\n",
        "current = housing_data.sample(n=5000, replace=False)"
      ]
    },
    {
      "cell_type": "markdown",
      "id": "fedb4612",
      "metadata": {
        "id": "fedb4612"
      },
      "source": [
        "## Report"
      ]
    },
    {
      "cell_type": "code",
      "execution_count": 22,
      "id": "bb77cbe1",
      "metadata": {
        "colab": {
          "base_uri": "https://localhost:8080/",
          "height": 1000
        },
        "id": "bb77cbe1",
        "outputId": "e71bde00-f10e-414c-b237-f45747e3824f"
      },
      "outputs": [],
      "source": [
        "report = Report(metrics=[\n",
        "    DataDriftPreset(), \n",
        "])\n",
        "\n",
        "report.run(reference_data=reference, current_data=current)\n",
        "# report"
      ]
    },
    {
      "cell_type": "code",
      "execution_count": 23,
      "id": "8902450e",
      "metadata": {},
      "outputs": [],
      "source": [
        "from box import ConfigBox\n",
        "report_data = ConfigBox(report.as_dict())\n",
        "if report_data.metrics[0].result.dataset_drift:\n",
        "    drift_status = True"
      ]
    },
    {
      "cell_type": "code",
      "execution_count": 25,
      "id": "f8239e44",
      "metadata": {},
      "outputs": [
        {
          "data": {
            "text/plain": [
              "False"
            ]
          },
          "execution_count": 25,
          "metadata": {},
          "output_type": "execute_result"
        }
      ],
      "source": [
        "report_data.metrics[0].result.dataset_drift"
      ]
    },
    {
      "cell_type": "code",
      "execution_count": 10,
      "id": "7007e504",
      "metadata": {},
      "outputs": [],
      "source": [
        "from CreditCard.utils import write_yaml , read_yaml\n",
        "from CreditCard.constants import ROOT_DIR , CONFIG_DIR \n",
        "import os \n",
        "from pathlib import Path"
      ]
    },
    {
      "cell_type": "code",
      "execution_count": 11,
      "id": "aea3f50a",
      "metadata": {},
      "outputs": [],
      "source": [
        "data = report.as_dict()\n",
        "\n",
        "file_path = Path(os.path.join(CONFIG_DIR , \"drift_report.yaml\"))\n",
        "\n",
        "write_yaml(file_path=file_path , data= data)"
      ]
    },
    {
      "cell_type": "code",
      "execution_count": 12,
      "id": "e5e95633",
      "metadata": {},
      "outputs": [],
      "source": [
        "report.save_json(os.path.join(CONFIG_DIR , \"report.json\"))"
      ]
    },
    {
      "cell_type": "code",
      "execution_count": 13,
      "id": "5f789c50",
      "metadata": {},
      "outputs": [],
      "source": [
        "from box import ConfigBox\n",
        "\n",
        "data1 = ConfigBox(data)"
      ]
    },
    {
      "cell_type": "code",
      "execution_count": 16,
      "id": "44052ec5",
      "metadata": {},
      "outputs": [
        {
          "data": {
            "text/plain": [
              "False"
            ]
          },
          "execution_count": 16,
          "metadata": {},
          "output_type": "execute_result"
        }
      ],
      "source": [
        "data1.metrics[0].result.dataset_drift"
      ]
    },
    {
      "cell_type": "code",
      "execution_count": 14,
      "id": "7a55d19f",
      "metadata": {},
      "outputs": [
        {
          "data": {
            "text/plain": [
              "False"
            ]
          },
          "execution_count": 14,
          "metadata": {},
          "output_type": "execute_result"
        }
      ],
      "source": [
        "data1.metrics[1].result.dataset_drift"
      ]
    },
    {
      "cell_type": "code",
      "execution_count": null,
      "id": "7e7de377",
      "metadata": {
        "colab": {
          "base_uri": "https://localhost:8080/",
          "height": 1000
        },
        "id": "7e7de377",
        "outputId": "84b001f9-7490-45e6-9d52-583b9d269135"
      },
      "outputs": [],
      "source": [
        "report = Report(metrics=[\n",
        "    ColumnSummaryMetric(column_name='AveRooms'),\n",
        "    ColumnQuantileMetric(column_name='AveRooms', quantile=0.25),\n",
        "    ColumnDriftMetric(column_name='AveRooms'),\n",
        "    \n",
        "])\n",
        "\n",
        "report.run(reference_data=reference, current_data=current)\n",
        "report"
      ]
    },
    {
      "cell_type": "code",
      "execution_count": null,
      "id": "9e95865e",
      "metadata": {
        "colab": {
          "base_uri": "https://localhost:8080/",
          "height": 1000
        },
        "id": "9e95865e",
        "outputId": "6e1e277d-cfdd-4992-c1f2-2aa17d0dc6b2"
      },
      "outputs": [],
      "source": [
        "report = Report(metrics=[\n",
        "    generate_column_metrics(ColumnQuantileMetric, parameters={'quantile':0.25}, columns=['AveRooms', 'AveBedrms']),\n",
        "])\n",
        "\n",
        "report.run(reference_data=reference, current_data=current)\n",
        "report"
      ]
    },
    {
      "cell_type": "code",
      "execution_count": null,
      "id": "fc3f8a8f",
      "metadata": {
        "colab": {
          "base_uri": "https://localhost:8080/",
          "height": 1000
        },
        "id": "fc3f8a8f",
        "outputId": "0c25a22b-7986-471f-acef-bf02fa946cbd"
      },
      "outputs": [],
      "source": [
        "report = Report(metrics=[\n",
        "    ColumnSummaryMetric(column_name='AveRooms'),\n",
        "    generate_column_metrics(ColumnQuantileMetric, parameters={'quantile':0.25}, columns='num'),\n",
        "    DataDriftPreset()\n",
        "])\n",
        "\n",
        "report.run(reference_data=reference, current_data=current)\n",
        "report"
      ]
    },
    {
      "cell_type": "code",
      "execution_count": null,
      "id": "d72ca314",
      "metadata": {
        "colab": {
          "base_uri": "https://localhost:8080/"
        },
        "id": "d72ca314",
        "outputId": "c0bbd883-b84f-4013-b760-8a7853e3c506"
      },
      "outputs": [],
      "source": [
        "report.as_dict()"
      ]
    },
    {
      "cell_type": "code",
      "execution_count": null,
      "id": "ab320537",
      "metadata": {
        "colab": {
          "base_uri": "https://localhost:8080/",
          "height": 143
        },
        "id": "ab320537",
        "outputId": "d023bcef-8324-4f17-c182-0dba7dcfa08e"
      },
      "outputs": [],
      "source": [
        "report.json()"
      ]
    },
    {
      "cell_type": "code",
      "execution_count": null,
      "id": "baf1fd25",
      "metadata": {
        "id": "baf1fd25"
      },
      "outputs": [],
      "source": [
        "#report.save_html('report.html')"
      ]
    },
    {
      "cell_type": "code",
      "execution_count": null,
      "id": "fd4e9085",
      "metadata": {
        "id": "fd4e9085"
      },
      "outputs": [],
      "source": [
        "#report.save_json('report.json')"
      ]
    },
    {
      "cell_type": "markdown",
      "id": "1ea31ae7",
      "metadata": {
        "id": "1ea31ae7"
      },
      "source": [
        "## Test Suite "
      ]
    },
    {
      "cell_type": "code",
      "execution_count": null,
      "id": "f2311155",
      "metadata": {
        "colab": {
          "base_uri": "https://localhost:8080/",
          "height": 937
        },
        "id": "f2311155",
        "outputId": "82f93ec0-16e6-4a64-e17e-de04e6b1a6d9"
      },
      "outputs": [],
      "source": [
        "tests = TestSuite(tests=[\n",
        "    TestNumberOfColumnsWithMissingValues(),\n",
        "    TestNumberOfRowsWithMissingValues(),\n",
        "    TestNumberOfConstantColumns(),\n",
        "    TestNumberOfDuplicatedRows(),\n",
        "    TestNumberOfDuplicatedColumns(),\n",
        "    TestColumnsType(),\n",
        "    TestNumberOfDriftedColumns(),\n",
        "])\n",
        "\n",
        "tests.run(reference_data=reference, current_data=current)\n",
        "tests"
      ]
    },
    {
      "cell_type": "code",
      "execution_count": null,
      "id": "660e6e30",
      "metadata": {},
      "outputs": [],
      "source": [
        "tests.save_html(os.path.join(CONFIG_DIR, \"test.html\"))"
      ]
    },
    {
      "cell_type": "code",
      "execution_count": null,
      "id": "f9e4f32c",
      "metadata": {},
      "outputs": [],
      "source": [
        "json_save = os.path.join(CONFIG_DIR, \"test.json\")\n",
        "tests.save_json(json_save)"
      ]
    },
    {
      "cell_type": "code",
      "execution_count": null,
      "id": "e943a924",
      "metadata": {},
      "outputs": [],
      "source": [
        "import json\n",
        "data_dic =  tests.as_dict()\n",
        "type(data_dic)"
      ]
    },
    {
      "cell_type": "code",
      "execution_count": null,
      "id": "d7669401",
      "metadata": {},
      "outputs": [],
      "source": [
        "data_test = ConfigBox(tests.as_dict())"
      ]
    },
    {
      "cell_type": "code",
      "execution_count": null,
      "id": "90a6a54d",
      "metadata": {},
      "outputs": [],
      "source": [
        "data_test.summary.all_passed "
      ]
    },
    {
      "cell_type": "code",
      "execution_count": null,
      "id": "9d207690",
      "metadata": {},
      "outputs": [],
      "source": [
        "report = Report(metrics=[\n",
        "        DataDriftPreset(), DataQualityPreset()\n",
        "            ])\n",
        "report.run(reference_data=reference, current_data=current)"
      ]
    },
    {
      "cell_type": "code",
      "execution_count": null,
      "id": "7a8678ca",
      "metadata": {},
      "outputs": [],
      "source": [
        "report.save_html(\"report.html\")"
      ]
    },
    {
      "cell_type": "code",
      "execution_count": null,
      "id": "cfc9819d",
      "metadata": {},
      "outputs": [],
      "source": [
        "report.save_json(\"report.json\")"
      ]
    },
    {
      "cell_type": "code",
      "execution_count": null,
      "id": "c0671ce9",
      "metadata": {},
      "outputs": [],
      "source": [
        "data = ConfigBox( report.as_dict())"
      ]
    },
    {
      "cell_type": "code",
      "execution_count": null,
      "id": "edf1ae36",
      "metadata": {},
      "outputs": [],
      "source": [
        "len(data.metrics)"
      ]
    },
    {
      "cell_type": "code",
      "execution_count": null,
      "id": "ab88eb6e",
      "metadata": {},
      "outputs": [],
      "source": [
        "data.metrics[0].result.dataset_drift"
      ]
    },
    {
      "cell_type": "code",
      "execution_count": null,
      "id": "d78779bb",
      "metadata": {
        "colab": {
          "base_uri": "https://localhost:8080/",
          "height": 1000
        },
        "id": "d78779bb",
        "outputId": "b6231981-dfbc-4db1-a3cc-ba3a6a088445",
        "scrolled": false
      },
      "outputs": [],
      "source": [
        "suite = TestSuite(tests=[\n",
        "    NoTargetPerformanceTestPreset(),\n",
        "])\n",
        "\n",
        "suite.run(reference_data=reference, current_data=current)\n",
        "suite"
      ]
    },
    {
      "cell_type": "code",
      "execution_count": null,
      "id": "e92a0605",
      "metadata": {
        "colab": {
          "base_uri": "https://localhost:8080/",
          "height": 1000
        },
        "id": "e92a0605",
        "outputId": "a4392c40-a022-4bc5-928f-8d2bc38cf030"
      },
      "outputs": [],
      "source": [
        "suite = TestSuite(tests=[\n",
        "    TestColumnDrift('Population'),\n",
        "    TestMeanInNSigmas('HouseAge'),\n",
        "    NoTargetPerformanceTestPreset(columns=['AveRooms', 'AveBedrms', 'AveOccup'])\n",
        "])\n",
        "\n",
        "suite.run(reference_data=reference, current_data=current)\n",
        "suite"
      ]
    },
    {
      "cell_type": "code",
      "execution_count": null,
      "id": "7df650c7",
      "metadata": {
        "colab": {
          "base_uri": "https://localhost:8080/",
          "height": 1000
        },
        "id": "7df650c7",
        "outputId": "0541068f-121e-46a9-b213-e4abecd3f8e0"
      },
      "outputs": [],
      "source": [
        "suite = TestSuite(tests=[\n",
        "    TestColumnDrift('Population'),\n",
        "    TestShareOfOutRangeValues('Population'),\n",
        "    generate_column_tests(TestMeanInNSigmas, columns='num'),\n",
        "    \n",
        "])\n",
        "\n",
        "suite.run(reference_data=reference, current_data=current)\n",
        "suite"
      ]
    },
    {
      "cell_type": "code",
      "execution_count": null,
      "id": "20da511b",
      "metadata": {
        "colab": {
          "base_uri": "https://localhost:8080/"
        },
        "id": "20da511b",
        "outputId": "fba00598-d9d5-4497-be82-4f511691f245",
        "scrolled": true
      },
      "outputs": [],
      "source": [
        "suite.as_dict()"
      ]
    },
    {
      "cell_type": "code",
      "execution_count": null,
      "id": "3c1c476f",
      "metadata": {
        "colab": {
          "base_uri": "https://localhost:8080/",
          "height": 143
        },
        "id": "3c1c476f",
        "outputId": "64840e5c-6b00-4190-b365-402eff3b3cea"
      },
      "outputs": [],
      "source": [
        "suite.json()"
      ]
    },
    {
      "cell_type": "code",
      "execution_count": null,
      "id": "e4225064",
      "metadata": {
        "id": "e4225064"
      },
      "outputs": [],
      "source": [
        "#suite.save_html('test_suite.html')"
      ]
    },
    {
      "cell_type": "code",
      "execution_count": null,
      "id": "5fedd579",
      "metadata": {
        "id": "5fedd579"
      },
      "outputs": [],
      "source": [
        "#suite.save_json('test_suite.json')"
      ]
    },
    {
      "cell_type": "code",
      "execution_count": 1,
      "id": "d86186be",
      "metadata": {},
      "outputs": [],
      "source": [
        "import numpy as np "
      ]
    },
    {
      "cell_type": "code",
      "execution_count": 5,
      "id": "a147e202",
      "metadata": {},
      "outputs": [],
      "source": [
        "x = np.zeros((100,2))"
      ]
    },
    {
      "cell_type": "code",
      "execution_count": 6,
      "id": "b8b21da5",
      "metadata": {},
      "outputs": [
        {
          "data": {
            "text/plain": [
              "array([0., 0.])"
            ]
          },
          "execution_count": 6,
          "metadata": {},
          "output_type": "execute_result"
        }
      ],
      "source": [
        "x[1]"
      ]
    },
    {
      "cell_type": "code",
      "execution_count": null,
      "id": "2ea5df30",
      "metadata": {},
      "outputs": [],
      "source": []
    }
  ],
  "metadata": {
    "colab": {
      "provenance": []
    },
    "kernelspec": {
      "display_name": "Python 3 (ipykernel)",
      "language": "python",
      "name": "python3"
    },
    "language_info": {
      "codemirror_mode": {
        "name": "ipython",
        "version": 3
      },
      "file_extension": ".py",
      "mimetype": "text/x-python",
      "name": "python",
      "nbconvert_exporter": "python",
      "pygments_lexer": "ipython3",
      "version": "3.9.0"
    }
  },
  "nbformat": 4,
  "nbformat_minor": 5
}
