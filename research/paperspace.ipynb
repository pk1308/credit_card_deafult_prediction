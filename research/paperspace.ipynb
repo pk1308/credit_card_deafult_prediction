{
 "cells": [
  {
   "cell_type": "code",
   "execution_count": 1,
   "metadata": {},
   "outputs": [
    {
     "name": "stdout",
     "output_type": "stream",
     "text": [
      "README.md\tdownload.jpeg\t\t    runs\n",
      "Untitled.ipynb\tdownload.png\t\t    test\n",
      "c.jpeg\t\tpython-project\t\t    yolov5\n",
      "car2.jpeg\tquick_start_pytorch.ipynb   yolov5.zip\n",
      "car3.jpeg\tquick_start_pytorch_images  yolovo_numberplate.ipynb\n"
     ]
    }
   ],
   "source": [
    "!ls"
   ]
  },
  {
   "cell_type": "code",
   "execution_count": 1,
   "metadata": {},
   "outputs": [],
   "source": [
    "import os \n",
    "os.chdir('..')"
   ]
  },
  {
   "cell_type": "code",
   "execution_count": 8,
   "metadata": {},
   "outputs": [],
   "source": [
    "from CreditCard.utils import load_object\n",
    "from pathlib import Path\n",
    "from CreditCard.entity import CreditData\n",
    "from CreditCard.prediction_service import PredictionService\n",
    "import pandas\n",
    "import numpy"
   ]
  },
  {
   "cell_type": "code",
   "execution_count": 9,
   "metadata": {},
   "outputs": [],
   "source": [
    "credit_data = CreditData(LIMIT_BAL=50000,\n",
    "                         SEX=1,\n",
    "                         EDUCATION=2,\n",
    "                         MARRIAGE=1,\n",
    "                         AGE=30,\n",
    "                         PAY_0=0,\n",
    "                         PAY_2=1,\n",
    "                         PAY_3=0,\n",
    "                         PAY_4=0,\n",
    "                         PAY_5=0,\n",
    "                         PAY_6=0,\n",
    "                         BILL_AMT1=10000,\n",
    "                         BILL_AMT2=10000,\n",
    "                         BILL_AMT3=10000,\n",
    "                         BILL_AMT4=10000,\n",
    "                         BILL_AMT5=10000,\n",
    "                        BILL_AMT6=10000,\n",
    "                         PAY_AMT1=5000,\n",
    "                         PAY_AMT2=1000,\n",
    "                         PAY_AMT3=1000,\n",
    "                         PAY_AMT4=1000,\n",
    "                         PAY_AMT5=1000,\n",
    "                         PAY_AMT6=1000)"
   ]
  },
  {
   "cell_type": "code",
   "execution_count": 10,
   "metadata": {},
   "outputs": [
    {
     "data": {
      "text/plain": [
       "array([0])"
      ]
     },
     "execution_count": 10,
     "metadata": {},
     "output_type": "execute_result"
    }
   ],
   "source": [
    "prediction_service = PredictionService()\n",
    "\n",
    "prediction_service.get_model_prediction(data_to_predict=credit_data)"
   ]
  },
  {
   "cell_type": "code",
   "execution_count": null,
   "metadata": {},
   "outputs": [],
   "source": []
  }
 ],
 "metadata": {
  "kernelspec": {
   "display_name": "Python 3 (ipykernel)",
   "language": "python",
   "name": "python3"
  },
  "language_info": {
   "codemirror_mode": {
    "name": "ipython",
    "version": 3
   },
   "file_extension": ".py",
   "mimetype": "text/x-python",
   "name": "python",
   "nbconvert_exporter": "python",
   "pygments_lexer": "ipython3",
   "version": "3.9.0"
  },
  "orig_nbformat": 4
 },
 "nbformat": 4,
 "nbformat_minor": 2
}
