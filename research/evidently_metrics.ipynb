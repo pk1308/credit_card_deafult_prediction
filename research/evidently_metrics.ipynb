{
  "cells": [
    {
      "cell_type": "markdown",
      "metadata": {
        "id": "7ucXKXoQJD-M"
      },
      "source": [
        "# Evidently Metrics "
      ]
    },
    {
      "cell_type": "code",
      "execution_count": null,
      "metadata": {
        "colab": {
          "base_uri": "https://localhost:8080/"
        },
        "id": "91VQKchRJD-O",
        "outputId": "ad6d3f86-691a-48e7-a448-50e64e193451"
      },
      "outputs": [],
      "source": [
        "try:\n",
        "    import evidently\n",
        "except:\n",
        "    !pip install git+https://github.com/evidentlyai/evidently.git"
      ]
    },
    {
      "cell_type": "code",
      "execution_count": 1,
      "metadata": {
        "id": "cTDAj70WJD-O"
      },
      "outputs": [],
      "source": [
        "import pandas as pd\n",
        "import numpy as np\n",
        "\n",
        "from sklearn import datasets\n",
        "from sklearn import ensemble\n",
        "from sklearn import model_selection\n",
        "\n",
        "from evidently import ColumnMapping\n",
        "from evidently.options import ColorOptions\n",
        "from evidently.report import Report\n",
        "\n",
        "from evidently.metrics import ColumnDriftMetric\n",
        "\n",
        "from evidently.metrics import DataDriftTable\n",
        "from evidently.metrics import DatasetDriftMetric\n",
        "from evidently.metrics import ColumnDistributionMetric\n",
        "from evidently.metrics import ColumnValuePlot\n",
        "from evidently.metrics import ColumnQuantileMetric\n",
        "from evidently.metrics import ColumnCorrelationsMetric\n",
        "from evidently.metrics import ColumnValueListMetric\n",
        "from evidently.metrics import ColumnValueRangeMetric\n",
        "from evidently.metrics import DatasetCorrelationsMetric\n",
        "from evidently.metrics import ColumnRegExpMetric\n",
        "from evidently.metrics import ColumnSummaryMetric\n",
        "from evidently.metrics import ColumnMissingValuesMetric\n",
        "from evidently.metrics import DatasetSummaryMetric\n",
        "from evidently.metrics import DatasetMissingValuesMetric\n",
        "from evidently.metrics import ConflictTargetMetric\n",
        "from evidently.metrics import ConflictPredictionMetric\n",
        "from evidently.metrics import ClassificationQualityMetric\n",
        "from evidently.metrics import ClassificationClassBalance\n",
        "from evidently.metrics import ClassificationConfusionMatrix\n",
        "from evidently.metrics import ClassificationQualityByClass\n",
        "from evidently.metrics import ClassificationClassSeparationPlot\n",
        "from evidently.metrics import ClassificationProbDistribution\n",
        "from evidently.metrics import ClassificationRocCurve\n",
        "from evidently.metrics import ClassificationPRCurve\n",
        "from evidently.metrics import ClassificationPRTable\n",
        "from evidently.metrics import ClassificationQualityByFeatureTable\n",
        "from evidently.metrics import RegressionQualityMetric\n",
        "from evidently.metrics import RegressionPredictedVsActualScatter\n",
        "from evidently.metrics import RegressionPredictedVsActualPlot\n",
        "from evidently.metrics import RegressionErrorPlot\n",
        "from evidently.metrics import RegressionAbsPercentageErrorPlot\n",
        "from evidently.metrics import RegressionErrorDistribution\n",
        "from evidently.metrics import RegressionErrorNormality\n",
        "from evidently.metrics import RegressionTopErrorMetric\n",
        "from evidently.metrics import RegressionErrorBiasTable"
      ]
    },
    {
      "cell_type": "markdown",
      "metadata": {
        "id": "h0T9GTkbJD-P"
      },
      "source": [
        "## Prepare a Dataset"
      ]
    },
    {
      "cell_type": "code",
      "execution_count": 2,
      "metadata": {
        "id": "EyXAhY5IJD-P"
      },
      "outputs": [
        {
          "name": "stderr",
          "output_type": "stream",
          "text": [
            "/home/pk/miniconda3/envs/credit_card/lib/python3.9/site-packages/sklearn/datasets/_openml.py:968: FutureWarning: The default value of `parser` will change from `'liac-arff'` to `'auto'` in 1.4. You can set `parser='auto'` to silence this warning. Therefore, an `ImportError` will be raised from 1.4 if the dataset is dense and pandas is not installed. Note that the pandas parser may return different data types. See the Notes Section in fetch_openml's API doc for details.\n",
            "  warn(\n"
          ]
        }
      ],
      "source": [
        "#Dataset for Data Quality and Integrity\n",
        "adult_data = datasets.fetch_openml(name='adult', version=2, as_frame='auto')\n",
        "adult = adult_data.frame\n",
        "\n",
        "adult_ref = adult[~adult.education.isin(['Some-college', 'HS-grad', 'Bachelors'])]\n",
        "adult_cur = adult[adult.education.isin(['Some-college', 'HS-grad', 'Bachelors'])]\n",
        "\n",
        "adult_cur.iloc[:2000, 3:5] = np.nan"
      ]
    },
    {
      "cell_type": "code",
      "execution_count": 3,
      "metadata": {},
      "outputs": [],
      "source": [
        "from catboost import CatBoostClassifier"
      ]
    },
    {
      "cell_type": "code",
      "execution_count": 4,
      "metadata": {
        "id": "BndwM1b4JD-Q"
      },
      "outputs": [
        {
          "name": "stdout",
          "output_type": "stream",
          "text": [
            "Learning rate set to 0.420402\n",
            "0:\tlearn: 0.2952804\ttotal: 51.6ms\tremaining: 465ms\n",
            "1:\tlearn: 0.1423469\ttotal: 54.5ms\tremaining: 218ms\n",
            "2:\tlearn: 0.0809261\ttotal: 58ms\tremaining: 135ms\n",
            "3:\tlearn: 0.0581116\ttotal: 61.3ms\tremaining: 91.9ms\n",
            "4:\tlearn: 0.0567674\ttotal: 65.9ms\tremaining: 65.9ms\n",
            "5:\tlearn: 0.0405328\ttotal: 70.6ms\tremaining: 47.1ms\n",
            "6:\tlearn: 0.0375171\ttotal: 74.6ms\tremaining: 32ms\n",
            "7:\tlearn: 0.0278968\ttotal: 77ms\tremaining: 19.2ms\n",
            "8:\tlearn: 0.0254498\ttotal: 79.7ms\tremaining: 8.86ms\n",
            "9:\tlearn: 0.0197259\ttotal: 82.8ms\tremaining: 0us\n"
          ]
        }
      ],
      "source": [
        "#Dataset for binary label and probabilistic classifcation\n",
        "bcancer_data = datasets.load_breast_cancer(as_frame='auto')\n",
        "bcancer = bcancer_data.frame\n",
        "\n",
        "bcancer_ref = bcancer.sample(n=300, replace=False)\n",
        "bcancer_cur = bcancer.sample(n=200, replace=False)\n",
        "\n",
        "bcancer_label_ref = bcancer_ref.copy(deep=True)\n",
        "bcancer_label_cur = bcancer_cur.copy(deep=True)\n",
        "\n",
        "model = CatBoostClassifier(random_state=1, n_estimators=10)\n",
        "model.fit(bcancer_ref[bcancer_data.feature_names.tolist()], bcancer_ref.target)\n",
        "\n",
        "bcancer_ref['prediction'] = model.predict_proba(bcancer_ref[bcancer_data.feature_names.tolist()])[:, 1]\n",
        "bcancer_cur['prediction'] = model.predict_proba(bcancer_cur[bcancer_data.feature_names.tolist()])[:, 1]\n",
        "\n",
        "bcancer_label_ref['prediction'] = model.predict(bcancer_label_ref[bcancer_data.feature_names.tolist()])\n",
        "bcancer_label_cur['prediction'] = model.predict(bcancer_label_cur[bcancer_data.feature_names.tolist()])"
      ]
    },
    {
      "cell_type": "code",
      "execution_count": 5,
      "metadata": {
        "id": "tDR4ALUtJD-Q"
      },
      "outputs": [],
      "source": [
        "#Dataset for regression\n",
        "housing_data = datasets.fetch_california_housing(as_frame='auto')\n",
        "housing = housing_data.frame\n",
        "\n",
        "housing.rename(columns={'MedHouseVal': 'target'}, inplace=True)\n",
        "housing['prediction'] = housing_data['target'].values + np.random.normal(0, 3, housing.shape[0])\n",
        "\n",
        "housing_ref = housing.sample(n=5000, replace=False)\n",
        "housing_cur = housing.sample(n=5000, replace=False)"
      ]
    },
    {
      "cell_type": "markdown",
      "metadata": {
        "id": "72ean0aLJD-Q"
      },
      "source": [
        "## How to run Reports?"
      ]
    },
    {
      "cell_type": "markdown",
      "metadata": {
        "id": "eRlnZ7F5JD-R"
      },
      "source": [
        "### Data Drift Metrics"
      ]
    },
    {
      "cell_type": "code",
      "execution_count": null,
      "metadata": {
        "colab": {
          "base_uri": "https://localhost:8080/",
          "height": 1000
        },
        "id": "jnbVZ3eeJD-R",
        "outputId": "e16a767b-ac25-4ddb-b11e-336c69498500",
        "scrolled": true
      },
      "outputs": [],
      "source": [
        "#dataset-level metrics\n",
        "data_drift_dataset_report = Report(metrics=[\n",
        "    DatasetDriftMetric(),\n",
        "    DataDriftTable(),    \n",
        "])\n",
        "\n",
        "data_drift_dataset_report.run(reference_data=adult_ref, current_data=adult_cur)\n",
        "data_drift_dataset_report"
      ]
    },
    {
      "cell_type": "code",
      "execution_count": null,
      "metadata": {
        "colab": {
          "base_uri": "https://localhost:8080/",
          "height": 143
        },
        "id": "JbgX3yZgJD-R",
        "outputId": "27e7fe2f-fc4b-451d-d38a-ed2084b6d951"
      },
      "outputs": [],
      "source": [
        "#report in a JSON format\n",
        "data_drift_dataset_report.json()"
      ]
    },
    {
      "cell_type": "code",
      "execution_count": null,
      "metadata": {
        "colab": {
          "base_uri": "https://localhost:8080/"
        },
        "id": "EtCVyRK4JD-R",
        "outputId": "20a6a79f-e980-4b84-e355-e0114be9571b",
        "scrolled": true
      },
      "outputs": [],
      "source": [
        "#report as a python object\n",
        "data_drift_dataset_report.as_dict()"
      ]
    },
    {
      "cell_type": "code",
      "execution_count": null,
      "metadata": {
        "colab": {
          "base_uri": "https://localhost:8080/",
          "height": 1000
        },
        "id": "8fG7nS3cJD-R",
        "outputId": "4e62b3a8-ecff-4a6e-8df6-53516b7b02b3"
      },
      "outputs": [],
      "source": [
        "#column-level metrics\n",
        "data_drift_column_report = Report(metrics=[\n",
        "    ColumnDriftMetric('age'),\n",
        "    ColumnValuePlot('age'),  \n",
        "])\n",
        "\n",
        "data_drift_column_report.run(reference_data=adult_ref, current_data=adult_cur)\n",
        "data_drift_column_report"
      ]
    },
    {
      "cell_type": "markdown",
      "metadata": {
        "id": "-j0NN6s1JD-R"
      },
      "source": [
        "### Data Quality Metrics"
      ]
    },
    {
      "cell_type": "code",
      "execution_count": null,
      "metadata": {
        "colab": {
          "base_uri": "https://localhost:8080/",
          "height": 754
        },
        "id": "a39JPdjcJD-R",
        "outputId": "8bfb466c-421e-4a35-9d08-9b508bc3e1a7"
      },
      "outputs": [],
      "source": [
        "#dataset-level metrics\n",
        "data_quality_dataset_report = Report(metrics=[\n",
        "    DatasetCorrelationsMetric(),\n",
        "    \n",
        "])\n",
        "\n",
        "data_quality_dataset_report.run(reference_data=adult_ref, current_data=adult_cur)\n",
        "data_quality_dataset_report"
      ]
    },
    {
      "cell_type": "code",
      "execution_count": null,
      "metadata": {
        "colab": {
          "base_uri": "https://localhost:8080/",
          "height": 1000
        },
        "id": "wXTzyIlrJD-S",
        "outputId": "72a0ff0d-40e8-4225-d8a0-bc5bcbb2a2fa",
        "scrolled": true
      },
      "outputs": [],
      "source": [
        "#column-level metrics\n",
        "data_quality_column_report = Report(metrics=[\n",
        "    ColumnDistributionMetric(column_name=\"education\"), \n",
        "    ColumnQuantileMetric(column_name=\"education-num\", quantile=0.75), \n",
        "    ColumnCorrelationsMetric(column_name=\"education\"),\n",
        "    ColumnValueListMetric(column_name=\"relationship\", values=[\"Husband\", \"Unmarried\"]), \n",
        "    ColumnValueRangeMetric(column_name=\"age\", left=10, right=20),\n",
        "    \n",
        "])\n",
        "\n",
        "data_quality_column_report.run(reference_data=adult_ref, current_data=adult_cur)\n",
        "data_quality_column_report"
      ]
    },
    {
      "cell_type": "markdown",
      "metadata": {
        "id": "YkDoz1ooJD-S"
      },
      "source": [
        "### Data Integrity Metrics"
      ]
    },
    {
      "cell_type": "code",
      "execution_count": null,
      "metadata": {
        "colab": {
          "base_uri": "https://localhost:8080/",
          "height": 1000
        },
        "id": "eZufoBJ2JD-S",
        "outputId": "06c67865-545b-4449-bb99-41807505ee2d"
      },
      "outputs": [],
      "source": [
        "#dataset-level metrics\n",
        "data_integrity_dataset_report = Report(metrics=[\n",
        "    DatasetSummaryMetric(),\n",
        "    DatasetMissingValuesMetric()\n",
        "    \n",
        "])\n",
        "\n",
        "data_integrity_dataset_report.run(reference_data=adult_ref, current_data=adult_cur)\n",
        "data_integrity_dataset_report"
      ]
    },
    {
      "cell_type": "code",
      "execution_count": null,
      "metadata": {
        "colab": {
          "base_uri": "https://localhost:8080/",
          "height": 1000
        },
        "id": "DC7xpEhvJD-S",
        "outputId": "fb4bb1f3-8825-45f9-a794-8f55c257a722"
      },
      "outputs": [],
      "source": [
        "#column-level metrics\n",
        "data_integrity_column_report = Report(metrics=[\n",
        "    ColumnRegExpMetric(column_name=\"relationship\", reg_exp=r\".*child.*\"),\n",
        "    ColumnSummaryMetric(column_name=\"age\"),\n",
        "    ColumnMissingValuesMetric(column_name=\"education\"),\n",
        "\n",
        "    \n",
        "])\n",
        "\n",
        "data_integrity_column_report.run(reference_data=adult_ref, current_data=adult_cur)\n",
        "data_integrity_column_report"
      ]
    },
    {
      "cell_type": "markdown",
      "metadata": {
        "id": "vNXbyDAYJD-S"
      },
      "source": [
        "### Classification Metrics"
      ]
    },
    {
      "cell_type": "code",
      "execution_count": 6,
      "metadata": {
        "colab": {
          "base_uri": "https://localhost:8080/",
          "height": 1000
        },
        "id": "N5UBcFBNJD-S",
        "outputId": "ec975f5d-0edb-438a-d953-a6aacf355667"
      },
      "outputs": [],
      "source": [
        "#label binary classification\n",
        "classification_report = Report(metrics=[\n",
        "    ClassificationQualityMetric(),\n",
        "    ClassificationClassBalance(),\n",
        "    ConflictTargetMetric(),\n",
        "    ConflictPredictionMetric(),\n",
        "    ClassificationConfusionMatrix(),\n",
        "    ClassificationQualityByClass(),\n",
        "    ClassificationQualityByFeatureTable(),\n",
        "])\n",
        "\n",
        "classification_report.run(reference_data=bcancer_label_ref, current_data=bcancer_label_cur)\n",
        "# classification_report"
      ]
    },
    {
      "cell_type": "code",
      "execution_count": null,
      "metadata": {},
      "outputs": [],
      "source": [
        "classification_report.as_dict()"
      ]
    },
    {
      "cell_type": "code",
      "execution_count": 5,
      "metadata": {
        "colab": {
          "base_uri": "https://localhost:8080/",
          "height": 1000
        },
        "id": "hd8EPfz4JD-S",
        "outputId": "84cea454-31b3-4755-dc7f-bb5f7a666885",
        "scrolled": false
      },
      "outputs": [],
      "source": [
        "#probabilistic binary classification\n",
        "classification_report = Report(metrics=[\n",
        "    ClassificationQualityMetric(),\n",
        "    ClassificationClassBalance(),\n",
        "    ConflictTargetMetric(),\n",
        "    ConflictPredictionMetric(),\n",
        "    ClassificationConfusionMatrix(),\n",
        "    ClassificationQualityByClass(),\n",
        "    ClassificationClassSeparationPlot(),\n",
        "    ClassificationProbDistribution(),\n",
        "    ClassificationRocCurve(),\n",
        "    ClassificationPRCurve(),\n",
        "    ClassificationPRTable(),\n",
        "    ClassificationQualityByFeatureTable(),\n",
        "\n",
        "    \n",
        "])\n",
        "\n",
        "classification_report.run(reference_data=bcancer_ref, current_data=bcancer_cur)\n",
        "# classification_report"
      ]
    },
    {
      "cell_type": "code",
      "execution_count": 6,
      "metadata": {},
      "outputs": [],
      "source": [
        "from box import ConfigBox\n",
        "report_data = ConfigBox(classification_report.as_dict())"
      ]
    },
    {
      "cell_type": "code",
      "execution_count": 7,
      "metadata": {},
      "outputs": [],
      "source": [
        "test_data_result =  report_data.metrics[0].result.current\n",
        "train_data_result =  report_data.metrics[0].result.reference"
      ]
    },
    {
      "cell_type": "code",
      "execution_count": 8,
      "metadata": {},
      "outputs": [],
      "source": [
        "test_json = {f\"test_{key}\" : data for key , data in train_data_result.items()}\n"
      ]
    },
    {
      "cell_type": "code",
      "execution_count": 9,
      "metadata": {},
      "outputs": [],
      "source": [
        "train_json = {f\"train_{key}\" : data for key , data in test_data_result.items()}"
      ]
    },
    {
      "cell_type": "code",
      "execution_count": 10,
      "metadata": {},
      "outputs": [],
      "source": [
        "from CreditCard.utils import read_yaml_as_dict , write_yaml , write_json\n",
        "from pathlib import Path"
      ]
    },
    {
      "cell_type": "code",
      "execution_count": 11,
      "metadata": {},
      "outputs": [],
      "source": [
        "data_to_dump = {**test_json , **train_json}"
      ]
    },
    {
      "cell_type": "code",
      "execution_count": 12,
      "metadata": {},
      "outputs": [
        {
          "data": {
            "text/plain": [
              "dict"
            ]
          },
          "execution_count": 12,
          "metadata": {},
          "output_type": "execute_result"
        }
      ],
      "source": [
        "type(data_to_dump)"
      ]
    },
    {
      "cell_type": "code",
      "execution_count": 13,
      "metadata": {},
      "outputs": [],
      "source": [
        "write_json(data=data_to_dump ,file_path= Path(\"./test.json\"))"
      ]
    },
    {
      "cell_type": "code",
      "execution_count": null,
      "metadata": {},
      "outputs": [],
      "source": [
        "from box import ConfigBox\n",
        "data = ConfigBox(classification_report.as_dict())\n",
        "test_data_result = data.metrics[0].result.current\n",
        "train_data_result = data.metrics[0].result.reference"
      ]
    },
    {
      "cell_type": "code",
      "execution_count": null,
      "metadata": {},
      "outputs": [],
      "source": [
        "\n",
        "train_data_result[\"roc_auc\"] -  test_data_result['roc_auc']"
      ]
    },
    {
      "cell_type": "code",
      "execution_count": 15,
      "metadata": {},
      "outputs": [
        {
          "name": "stderr",
          "output_type": "stream",
          "text": [
            "2023-03-29 07:01:15.309 | INFO     | CreditCard.utils.common:read_yaml_as_dict:58 - yaml file: /home/pk/project-python/creditcard/params.yaml loaded successfully\n"
          ]
        }
      ],
      "source": [
        "config_data = read_yaml_as_dict(Path(\"/home/pk/project-python/creditcard/params.yaml\"))"
      ]
    },
    {
      "cell_type": "markdown",
      "metadata": {
        "id": "SYqsh2FkJD-S"
      },
      "source": [
        "### Regreission Metrics"
      ]
    },
    {
      "cell_type": "code",
      "execution_count": 17,
      "metadata": {},
      "outputs": [
        {
          "data": {
            "text/plain": [
              "1.0"
            ]
          },
          "execution_count": 17,
          "metadata": {},
          "output_type": "execute_result"
        }
      ],
      "source": [
        "data_to_dump[\"test_accuracy\"]"
      ]
    },
    {
      "cell_type": "code",
      "execution_count": 18,
      "metadata": {},
      "outputs": [],
      "source": [
        "config_data[\"model_evaluation_config\"][\"base_accuracy\"] =float(data_to_dump[\"test_accuracy\"])"
      ]
    },
    {
      "cell_type": "code",
      "execution_count": 19,
      "metadata": {},
      "outputs": [],
      "source": [
        "write_yaml(data=config_data , file_path=Path(\"/home/pk/project-python/creditcard/params.yaml\"))"
      ]
    },
    {
      "cell_type": "code",
      "execution_count": null,
      "metadata": {},
      "outputs": [],
      "source": []
    },
    {
      "cell_type": "code",
      "execution_count": null,
      "metadata": {},
      "outputs": [],
      "source": []
    },
    {
      "cell_type": "code",
      "execution_count": null,
      "metadata": {
        "colab": {
          "base_uri": "https://localhost:8080/",
          "height": 1000
        },
        "id": "HmgG6HNHJD-S",
        "outputId": "1baf2b24-01d3-43b4-8d21-a6d46c0d2b11",
        "scrolled": false
      },
      "outputs": [],
      "source": [
        "regression_report = Report(metrics=[\n",
        "    RegressionQualityMetric(),\n",
        "    RegressionPredictedVsActualScatter(),\n",
        "    RegressionPredictedVsActualPlot(),\n",
        "    RegressionErrorPlot(),\n",
        "    RegressionAbsPercentageErrorPlot(),\n",
        "    RegressionErrorDistribution(),\n",
        "    RegressionErrorNormality(),\n",
        "    RegressionTopErrorMetric(),\n",
        "    RegressionErrorBiasTable(columns=['MedInc', 'AveRooms']),\n",
        "    ConflictTargetMetric(),\n",
        "    ConflictPredictionMetric(),\n",
        "    \n",
        "])\n",
        "\n",
        "regression_report.run(reference_data=housing_ref, current_data=housing_cur)\n",
        "regression_report"
      ]
    },
    {
      "cell_type": "markdown",
      "metadata": {
        "id": "2N6cWEC5JD-S"
      },
      "source": [
        "### How to set metric parameters?"
      ]
    },
    {
      "cell_type": "code",
      "execution_count": null,
      "metadata": {
        "colab": {
          "base_uri": "https://localhost:8080/",
          "height": 1000
        },
        "id": "GQ6NEQLYJD-T",
        "outputId": "9f02f4c5-b8d2-4e5b-ba0d-b90ef709f663"
      },
      "outputs": [],
      "source": [
        "#simple metric parameters\n",
        "data_integrity_column_report = Report(metrics=[\n",
        "    ColumnRegExpMetric(column_name=\"education\", reg_exp=r\".*-.*\", top=5),\n",
        "    ColumnRegExpMetric(column_name=\"relationship\", reg_exp=r\".*child.*\")\n",
        "])\n",
        "\n",
        "data_integrity_column_report.run(reference_data=adult_ref, current_data=adult_cur)\n",
        "data_integrity_column_report"
      ]
    },
    {
      "cell_type": "code",
      "execution_count": null,
      "metadata": {
        "id": "Uv14ulW5JD-T"
      },
      "outputs": [],
      "source": [
        "#options\n",
        "color_scheme = ColorOptions()\n",
        "color_scheme.primary_color = \"#5a86ad\"\n",
        "color_scheme.fill_color = \"#fff4f2\"\n",
        "color_scheme.zero_line_color = \"#016795\"\n",
        "color_scheme.current_data_color = \"#c292a1\" \n",
        "color_scheme.reference_data_color = \"#017b92\""
      ]
    },
    {
      "cell_type": "code",
      "execution_count": null,
      "metadata": {
        "colab": {
          "base_uri": "https://localhost:8080/",
          "height": 1000
        },
        "id": "F25pp3ClJD-T",
        "outputId": "4ef57dec-36db-4849-c160-fd65623e368b",
        "scrolled": true
      },
      "outputs": [],
      "source": [
        "data_drift_column_report = Report(metrics=[\n",
        "    ColumnDriftMetric('age'),\n",
        "    ColumnDriftMetric('age', stattest='psi'),\n",
        "],\n",
        "                                  options=[color_scheme]\n",
        ")\n",
        "\n",
        "data_drift_column_report.run(reference_data=adult_ref, current_data=adult_cur)\n",
        "data_drift_column_report"
      ]
    }
  ],
  "metadata": {
    "colab": {
      "provenance": []
    },
    "kernelspec": {
      "display_name": "Python 3 (ipykernel)",
      "language": "python",
      "name": "python3"
    },
    "language_info": {
      "codemirror_mode": {
        "name": "ipython",
        "version": 3
      },
      "file_extension": ".py",
      "mimetype": "text/x-python",
      "name": "python",
      "nbconvert_exporter": "python",
      "pygments_lexer": "ipython3",
      "version": "3.9.0"
    }
  },
  "nbformat": 4,
  "nbformat_minor": 0
}
