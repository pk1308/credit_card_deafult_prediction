{
 "cells": [
  {
   "cell_type": "code",
   "execution_count": 11,
   "metadata": {},
   "outputs": [],
   "source": [
    "import pandas as pd "
   ]
  },
  {
   "cell_type": "code",
   "execution_count": 12,
   "metadata": {},
   "outputs": [
    {
     "ename": "FileNotFoundError",
     "evalue": "[Errno 2] No such file or directory: 'C:\\\\Users\\\\princ\\\\OneDrive\\\\Desktop\\\\project-python\\\\creditcard\\\\artifact\\\\Stage00_data_ingestion\\\\Base_model\\\\ingested_data\\\\test.csv'",
     "output_type": "error",
     "traceback": [
      "\u001b[0;31m---------------------------------------------------------------------------\u001b[0m",
      "\u001b[0;31mFileNotFoundError\u001b[0m                         Traceback (most recent call last)",
      "Cell \u001b[0;32mIn[12], line 1\u001b[0m\n\u001b[0;32m----> 1\u001b[0m test_df\u001b[39m=\u001b[39m pd\u001b[39m.\u001b[39;49mread_csv(\u001b[39mr\u001b[39;49m\u001b[39m'\u001b[39;49m\u001b[39mC:\u001b[39;49m\u001b[39m\\\u001b[39;49m\u001b[39mUsers\u001b[39;49m\u001b[39m\\\u001b[39;49m\u001b[39mprinc\u001b[39;49m\u001b[39m\\\u001b[39;49m\u001b[39mOneDrive\u001b[39;49m\u001b[39m\\\u001b[39;49m\u001b[39mDesktop\u001b[39;49m\u001b[39m\\\u001b[39;49m\u001b[39mproject-python\u001b[39;49m\u001b[39m\\\u001b[39;49m\u001b[39mcreditcard\u001b[39;49m\u001b[39m\\\u001b[39;49m\u001b[39martifact\u001b[39;49m\u001b[39m\\\u001b[39;49m\u001b[39mStage00_data_ingestion\u001b[39;49m\u001b[39m\\\u001b[39;49m\u001b[39mBase_model\u001b[39;49m\u001b[39m\\\u001b[39;49m\u001b[39mingested_data\u001b[39;49m\u001b[39m\\\u001b[39;49m\u001b[39mtest.csv\u001b[39;49m\u001b[39m'\u001b[39;49m)\n",
      "File \u001b[0;32m~/miniconda3/envs/credit_card/lib/python3.9/site-packages/pandas/util/_decorators.py:211\u001b[0m, in \u001b[0;36mdeprecate_kwarg.<locals>._deprecate_kwarg.<locals>.wrapper\u001b[0;34m(*args, **kwargs)\u001b[0m\n\u001b[1;32m    209\u001b[0m     \u001b[39melse\u001b[39;00m:\n\u001b[1;32m    210\u001b[0m         kwargs[new_arg_name] \u001b[39m=\u001b[39m new_arg_value\n\u001b[0;32m--> 211\u001b[0m \u001b[39mreturn\u001b[39;00m func(\u001b[39m*\u001b[39;49margs, \u001b[39m*\u001b[39;49m\u001b[39m*\u001b[39;49mkwargs)\n",
      "File \u001b[0;32m~/miniconda3/envs/credit_card/lib/python3.9/site-packages/pandas/util/_decorators.py:331\u001b[0m, in \u001b[0;36mdeprecate_nonkeyword_arguments.<locals>.decorate.<locals>.wrapper\u001b[0;34m(*args, **kwargs)\u001b[0m\n\u001b[1;32m    325\u001b[0m \u001b[39mif\u001b[39;00m \u001b[39mlen\u001b[39m(args) \u001b[39m>\u001b[39m num_allow_args:\n\u001b[1;32m    326\u001b[0m     warnings\u001b[39m.\u001b[39mwarn(\n\u001b[1;32m    327\u001b[0m         msg\u001b[39m.\u001b[39mformat(arguments\u001b[39m=\u001b[39m_format_argument_list(allow_args)),\n\u001b[1;32m    328\u001b[0m         \u001b[39mFutureWarning\u001b[39;00m,\n\u001b[1;32m    329\u001b[0m         stacklevel\u001b[39m=\u001b[39mfind_stack_level(),\n\u001b[1;32m    330\u001b[0m     )\n\u001b[0;32m--> 331\u001b[0m \u001b[39mreturn\u001b[39;00m func(\u001b[39m*\u001b[39;49margs, \u001b[39m*\u001b[39;49m\u001b[39m*\u001b[39;49mkwargs)\n",
      "File \u001b[0;32m~/miniconda3/envs/credit_card/lib/python3.9/site-packages/pandas/io/parsers/readers.py:950\u001b[0m, in \u001b[0;36mread_csv\u001b[0;34m(filepath_or_buffer, sep, delimiter, header, names, index_col, usecols, squeeze, prefix, mangle_dupe_cols, dtype, engine, converters, true_values, false_values, skipinitialspace, skiprows, skipfooter, nrows, na_values, keep_default_na, na_filter, verbose, skip_blank_lines, parse_dates, infer_datetime_format, keep_date_col, date_parser, dayfirst, cache_dates, iterator, chunksize, compression, thousands, decimal, lineterminator, quotechar, quoting, doublequote, escapechar, comment, encoding, encoding_errors, dialect, error_bad_lines, warn_bad_lines, on_bad_lines, delim_whitespace, low_memory, memory_map, float_precision, storage_options)\u001b[0m\n\u001b[1;32m    935\u001b[0m kwds_defaults \u001b[39m=\u001b[39m _refine_defaults_read(\n\u001b[1;32m    936\u001b[0m     dialect,\n\u001b[1;32m    937\u001b[0m     delimiter,\n\u001b[0;32m   (...)\u001b[0m\n\u001b[1;32m    946\u001b[0m     defaults\u001b[39m=\u001b[39m{\u001b[39m\"\u001b[39m\u001b[39mdelimiter\u001b[39m\u001b[39m\"\u001b[39m: \u001b[39m\"\u001b[39m\u001b[39m,\u001b[39m\u001b[39m\"\u001b[39m},\n\u001b[1;32m    947\u001b[0m )\n\u001b[1;32m    948\u001b[0m kwds\u001b[39m.\u001b[39mupdate(kwds_defaults)\n\u001b[0;32m--> 950\u001b[0m \u001b[39mreturn\u001b[39;00m _read(filepath_or_buffer, kwds)\n",
      "File \u001b[0;32m~/miniconda3/envs/credit_card/lib/python3.9/site-packages/pandas/io/parsers/readers.py:605\u001b[0m, in \u001b[0;36m_read\u001b[0;34m(filepath_or_buffer, kwds)\u001b[0m\n\u001b[1;32m    602\u001b[0m _validate_names(kwds\u001b[39m.\u001b[39mget(\u001b[39m\"\u001b[39m\u001b[39mnames\u001b[39m\u001b[39m\"\u001b[39m, \u001b[39mNone\u001b[39;00m))\n\u001b[1;32m    604\u001b[0m \u001b[39m# Create the parser.\u001b[39;00m\n\u001b[0;32m--> 605\u001b[0m parser \u001b[39m=\u001b[39m TextFileReader(filepath_or_buffer, \u001b[39m*\u001b[39;49m\u001b[39m*\u001b[39;49mkwds)\n\u001b[1;32m    607\u001b[0m \u001b[39mif\u001b[39;00m chunksize \u001b[39mor\u001b[39;00m iterator:\n\u001b[1;32m    608\u001b[0m     \u001b[39mreturn\u001b[39;00m parser\n",
      "File \u001b[0;32m~/miniconda3/envs/credit_card/lib/python3.9/site-packages/pandas/io/parsers/readers.py:1442\u001b[0m, in \u001b[0;36mTextFileReader.__init__\u001b[0;34m(self, f, engine, **kwds)\u001b[0m\n\u001b[1;32m   1439\u001b[0m     \u001b[39mself\u001b[39m\u001b[39m.\u001b[39moptions[\u001b[39m\"\u001b[39m\u001b[39mhas_index_names\u001b[39m\u001b[39m\"\u001b[39m] \u001b[39m=\u001b[39m kwds[\u001b[39m\"\u001b[39m\u001b[39mhas_index_names\u001b[39m\u001b[39m\"\u001b[39m]\n\u001b[1;32m   1441\u001b[0m \u001b[39mself\u001b[39m\u001b[39m.\u001b[39mhandles: IOHandles \u001b[39m|\u001b[39m \u001b[39mNone\u001b[39;00m \u001b[39m=\u001b[39m \u001b[39mNone\u001b[39;00m\n\u001b[0;32m-> 1442\u001b[0m \u001b[39mself\u001b[39m\u001b[39m.\u001b[39m_engine \u001b[39m=\u001b[39m \u001b[39mself\u001b[39;49m\u001b[39m.\u001b[39;49m_make_engine(f, \u001b[39mself\u001b[39;49m\u001b[39m.\u001b[39;49mengine)\n",
      "File \u001b[0;32m~/miniconda3/envs/credit_card/lib/python3.9/site-packages/pandas/io/parsers/readers.py:1735\u001b[0m, in \u001b[0;36mTextFileReader._make_engine\u001b[0;34m(self, f, engine)\u001b[0m\n\u001b[1;32m   1733\u001b[0m     \u001b[39mif\u001b[39;00m \u001b[39m\"\u001b[39m\u001b[39mb\u001b[39m\u001b[39m\"\u001b[39m \u001b[39mnot\u001b[39;00m \u001b[39min\u001b[39;00m mode:\n\u001b[1;32m   1734\u001b[0m         mode \u001b[39m+\u001b[39m\u001b[39m=\u001b[39m \u001b[39m\"\u001b[39m\u001b[39mb\u001b[39m\u001b[39m\"\u001b[39m\n\u001b[0;32m-> 1735\u001b[0m \u001b[39mself\u001b[39m\u001b[39m.\u001b[39mhandles \u001b[39m=\u001b[39m get_handle(\n\u001b[1;32m   1736\u001b[0m     f,\n\u001b[1;32m   1737\u001b[0m     mode,\n\u001b[1;32m   1738\u001b[0m     encoding\u001b[39m=\u001b[39;49m\u001b[39mself\u001b[39;49m\u001b[39m.\u001b[39;49moptions\u001b[39m.\u001b[39;49mget(\u001b[39m\"\u001b[39;49m\u001b[39mencoding\u001b[39;49m\u001b[39m\"\u001b[39;49m, \u001b[39mNone\u001b[39;49;00m),\n\u001b[1;32m   1739\u001b[0m     compression\u001b[39m=\u001b[39;49m\u001b[39mself\u001b[39;49m\u001b[39m.\u001b[39;49moptions\u001b[39m.\u001b[39;49mget(\u001b[39m\"\u001b[39;49m\u001b[39mcompression\u001b[39;49m\u001b[39m\"\u001b[39;49m, \u001b[39mNone\u001b[39;49;00m),\n\u001b[1;32m   1740\u001b[0m     memory_map\u001b[39m=\u001b[39;49m\u001b[39mself\u001b[39;49m\u001b[39m.\u001b[39;49moptions\u001b[39m.\u001b[39;49mget(\u001b[39m\"\u001b[39;49m\u001b[39mmemory_map\u001b[39;49m\u001b[39m\"\u001b[39;49m, \u001b[39mFalse\u001b[39;49;00m),\n\u001b[1;32m   1741\u001b[0m     is_text\u001b[39m=\u001b[39;49mis_text,\n\u001b[1;32m   1742\u001b[0m     errors\u001b[39m=\u001b[39;49m\u001b[39mself\u001b[39;49m\u001b[39m.\u001b[39;49moptions\u001b[39m.\u001b[39;49mget(\u001b[39m\"\u001b[39;49m\u001b[39mencoding_errors\u001b[39;49m\u001b[39m\"\u001b[39;49m, \u001b[39m\"\u001b[39;49m\u001b[39mstrict\u001b[39;49m\u001b[39m\"\u001b[39;49m),\n\u001b[1;32m   1743\u001b[0m     storage_options\u001b[39m=\u001b[39;49m\u001b[39mself\u001b[39;49m\u001b[39m.\u001b[39;49moptions\u001b[39m.\u001b[39;49mget(\u001b[39m\"\u001b[39;49m\u001b[39mstorage_options\u001b[39;49m\u001b[39m\"\u001b[39;49m, \u001b[39mNone\u001b[39;49;00m),\n\u001b[1;32m   1744\u001b[0m )\n\u001b[1;32m   1745\u001b[0m \u001b[39massert\u001b[39;00m \u001b[39mself\u001b[39m\u001b[39m.\u001b[39mhandles \u001b[39mis\u001b[39;00m \u001b[39mnot\u001b[39;00m \u001b[39mNone\u001b[39;00m\n\u001b[1;32m   1746\u001b[0m f \u001b[39m=\u001b[39m \u001b[39mself\u001b[39m\u001b[39m.\u001b[39mhandles\u001b[39m.\u001b[39mhandle\n",
      "File \u001b[0;32m~/miniconda3/envs/credit_card/lib/python3.9/site-packages/pandas/io/common.py:856\u001b[0m, in \u001b[0;36mget_handle\u001b[0;34m(path_or_buf, mode, encoding, compression, memory_map, is_text, errors, storage_options)\u001b[0m\n\u001b[1;32m    851\u001b[0m \u001b[39melif\u001b[39;00m \u001b[39misinstance\u001b[39m(handle, \u001b[39mstr\u001b[39m):\n\u001b[1;32m    852\u001b[0m     \u001b[39m# Check whether the filename is to be opened in binary mode.\u001b[39;00m\n\u001b[1;32m    853\u001b[0m     \u001b[39m# Binary mode does not support 'encoding' and 'newline'.\u001b[39;00m\n\u001b[1;32m    854\u001b[0m     \u001b[39mif\u001b[39;00m ioargs\u001b[39m.\u001b[39mencoding \u001b[39mand\u001b[39;00m \u001b[39m\"\u001b[39m\u001b[39mb\u001b[39m\u001b[39m\"\u001b[39m \u001b[39mnot\u001b[39;00m \u001b[39min\u001b[39;00m ioargs\u001b[39m.\u001b[39mmode:\n\u001b[1;32m    855\u001b[0m         \u001b[39m# Encoding\u001b[39;00m\n\u001b[0;32m--> 856\u001b[0m         handle \u001b[39m=\u001b[39m \u001b[39mopen\u001b[39;49m(\n\u001b[1;32m    857\u001b[0m             handle,\n\u001b[1;32m    858\u001b[0m             ioargs\u001b[39m.\u001b[39;49mmode,\n\u001b[1;32m    859\u001b[0m             encoding\u001b[39m=\u001b[39;49mioargs\u001b[39m.\u001b[39;49mencoding,\n\u001b[1;32m    860\u001b[0m             errors\u001b[39m=\u001b[39;49merrors,\n\u001b[1;32m    861\u001b[0m             newline\u001b[39m=\u001b[39;49m\u001b[39m\"\u001b[39;49m\u001b[39m\"\u001b[39;49m,\n\u001b[1;32m    862\u001b[0m         )\n\u001b[1;32m    863\u001b[0m     \u001b[39melse\u001b[39;00m:\n\u001b[1;32m    864\u001b[0m         \u001b[39m# Binary mode\u001b[39;00m\n\u001b[1;32m    865\u001b[0m         handle \u001b[39m=\u001b[39m \u001b[39mopen\u001b[39m(handle, ioargs\u001b[39m.\u001b[39mmode)\n",
      "\u001b[0;31mFileNotFoundError\u001b[0m: [Errno 2] No such file or directory: 'C:\\\\Users\\\\princ\\\\OneDrive\\\\Desktop\\\\project-python\\\\creditcard\\\\artifact\\\\Stage00_data_ingestion\\\\Base_model\\\\ingested_data\\\\test.csv'"
     ]
    }
   ],
   "source": [
    "test_df= pd.read_csv(r'C:\\Users\\princ\\OneDrive\\Desktop\\project-python\\creditcard\\artifact\\Stage00_data_ingestion\\Base_model\\ingested_data\\test.csv')"
   ]
  },
  {
   "cell_type": "code",
   "execution_count": null,
   "metadata": {},
   "outputs": [],
   "source": [
    "train_df =pd.read_csv(r'C:\\Users\\princ\\OneDrive\\Desktop\\project-python\\creditcard\\artifact\\Stage00_data_ingestion\\Base_model\\ingested_data\\train.csv')"
   ]
  },
  {
   "cell_type": "code",
   "execution_count": null,
   "metadata": {},
   "outputs": [],
   "source": [
    "train_df.shape"
   ]
  },
  {
   "cell_type": "code",
   "execution_count": null,
   "metadata": {},
   "outputs": [],
   "source": [
    "test_df.shape"
   ]
  },
  {
   "cell_type": "code",
   "execution_count": null,
   "metadata": {},
   "outputs": [],
   "source": [
    "train_df.equals(test_df)"
   ]
  },
  {
   "cell_type": "code",
   "execution_count": null,
   "metadata": {},
   "outputs": [],
   "source": [
    "train_df.equals(train_df)"
   ]
  },
  {
   "cell_type": "code",
   "execution_count": null,
   "metadata": {},
   "outputs": [],
   "source": [
    "train_df.merge(test_df , indicator=True , how= \"right\").shape"
   ]
  },
  {
   "cell_type": "code",
   "execution_count": null,
   "metadata": {},
   "outputs": [],
   "source": [
    "train_df.merge(train_df , indicator=True , how= \"outer\").shape"
   ]
  },
  {
   "cell_type": "code",
   "execution_count": null,
   "metadata": {},
   "outputs": [],
   "source": [
    "test =train_df.append(test_df.sample(1000))"
   ]
  },
  {
   "cell_type": "code",
   "execution_count": null,
   "metadata": {},
   "outputs": [],
   "source": [
    "test.shape"
   ]
  },
  {
   "cell_type": "code",
   "execution_count": null,
   "metadata": {},
   "outputs": [],
   "source": [
    "test_df"
   ]
  },
  {
   "cell_type": "code",
   "execution_count": null,
   "metadata": {},
   "outputs": [],
   "source": [
    "len(test_df.sample(5))"
   ]
  },
  {
   "cell_type": "code",
   "execution_count": null,
   "metadata": {},
   "outputs": [],
   "source": [
    "list_CHECK = [i for i in range(len(test_df)) if test_df.iloc[i , 0] not in test.ID.to_list()]   "
   ]
  },
  {
   "cell_type": "code",
   "execution_count": null,
   "metadata": {},
   "outputs": [],
   "source": [
    "len(list_CHECK)"
   ]
  },
  {
   "cell_type": "code",
   "execution_count": null,
   "metadata": {},
   "outputs": [],
   "source": [
    "test_df.loc[list_CHECK]"
   ]
  },
  {
   "cell_type": "code",
   "execution_count": null,
   "metadata": {},
   "outputs": [],
   "source": [
    "import pandas as pd\n",
    "\n",
    "# Define the two dataframes\n",
    "df1 = pd.DataFrame({'A': [1, 2, 3], 'B': ['a', 'b', 'c']})\n",
    "df2 = pd.DataFrame({'A': [2, 3, 4], 'B': ['b', 'c', 'd']})\n",
    "\n",
    "# Get the rows in df2 that are not in df1\n",
    "df_diff = df2[~df2.isin(df1)].dropna()\n",
    "\n",
    "# Print the result\n",
    "print(df_diff)\n"
   ]
  },
  {
   "cell_type": "code",
   "execution_count": null,
   "metadata": {},
   "outputs": [],
   "source": [
    "df1"
   ]
  },
  {
   "cell_type": "code",
   "execution_count": null,
   "metadata": {},
   "outputs": [],
   "source": [
    "df2"
   ]
  },
  {
   "cell_type": "code",
   "execution_count": null,
   "metadata": {},
   "outputs": [],
   "source": [
    "test.reset_index()"
   ]
  },
  {
   "cell_type": "code",
   "execution_count": null,
   "metadata": {},
   "outputs": [],
   "source": [
    "test.merge(test_df , indicator=True , how= \"right\").shape"
   ]
  },
  {
   "cell_type": "code",
   "execution_count": null,
   "metadata": {},
   "outputs": [],
   "source": [
    "test.duplicated().sum()"
   ]
  },
  {
   "cell_type": "code",
   "execution_count": null,
   "metadata": {},
   "outputs": [],
   "source": [
    "test"
   ]
  },
  {
   "cell_type": "code",
   "execution_count": null,
   "metadata": {},
   "outputs": [],
   "source": [
    "import os \n",
    "os.chdir(\"..\")\n",
    "os.getcwd()"
   ]
  },
  {
   "cell_type": "code",
   "execution_count": null,
   "metadata": {},
   "outputs": [],
   "source": [
    "from CreditCard.Database import MongoDB\n",
    "from CreditCard.constants import DATABASE_FILE\n",
    "from CreditCard.utils import read_yaml\n",
    "import os \n",
    "import pandas as pd "
   ]
  },
  {
   "cell_type": "code",
   "execution_count": null,
   "metadata": {},
   "outputs": [],
   "source": [
    "\n",
    "cont_to_test = MongoDB(\"to_test\")\n",
    "cont_to_train= MongoDB(\"to_train\")"
   ]
  },
  {
   "cell_type": "code",
   "execution_count": null,
   "metadata": {},
   "outputs": [],
   "source": [
    "train_df = cont_to_train.find_many_as_df()\n",
    "test_df = cont_to_test.find_many_as_df()"
   ]
  },
  {
   "cell_type": "code",
   "execution_count": null,
   "metadata": {},
   "outputs": [],
   "source": [
    "df2 = pd.DataFrame(df)"
   ]
  },
  {
   "cell_type": "code",
   "execution_count": null,
   "metadata": {},
   "outputs": [],
   "source": [
    "CLUSTER_COLUMN = \"cluster\"\n",
    "to_drop_cluster_data = [\"cluster\" , \"id\" , \"target\"]"
   ]
  },
  {
   "cell_type": "code",
   "execution_count": null,
   "metadata": {},
   "outputs": [],
   "source": [
    "clusters = train_df[\"cluster\"].unique()"
   ]
  },
  {
   "cell_type": "code",
   "execution_count": null,
   "metadata": {},
   "outputs": [],
   "source": [
    "from neuro_mf import ModelFactory"
   ]
  },
  {
   "cell_type": "code",
   "execution_count": null,
   "metadata": {},
   "outputs": [],
   "source": [
    "for cluster in clusters:\n",
    "    to_train_df = train_df[train_df[self.schema.cluster_column]==cluster]\n",
    "    to_test_df = test_df[test_df[self.schema.cluster_column]==cluster]\n",
    "    to_train_features = to_train_df.drop(to_drop_cluster_data , axis=1)\n",
    "    to_train_target = to_test_df[self.schema.target_column]\n",
    "    to_test_features = to_test_df.drop(to_drop_cluster_data , axis =1 )\n",
    "    model_factory = ModelFactory(model_config_path=model_config_file_path)\n",
    "    best_model = model_factory.get_best_model(X=to_train_features, y=to_train_target, base_accuracy=base_accuracy)\n",
    "    logger.info(f\"Best model found on training dataset: {best_model}\")\n",
    "\n",
    "    logger.info(\"Extracting trained model list.\")\n",
    "    grid_searched_best_model_list: List[GridSearchedBestModel] = model_factory.grid_searched_best_model_list\n",
    "\n",
    "    model_list = [model.best_model for model in grid_searched_best_model_list]\n",
    "    logger.info(f\"Model list: {model_list} , {len(model_list)}\")\n",
    "    cluster_name = f\"cluster_{cluster}\"\n",
    "    report_dir = os.path.join(model_report_dir, cluster_name)\n"
   ]
  },
  {
   "cell_type": "code",
   "execution_count": null,
   "metadata": {},
   "outputs": [],
   "source": [
    "from CreditCard.utils import load_object\n",
    "from pathlib import Path\n",
    "import pandas as pd \n",
    "from CreditCard.exception import AppException\n",
    "import sys\n",
    "from sklearn import set_config\n",
    "\n",
    "set_config(transform_output=\"pandas\")"
   ]
  },
  {
   "cell_type": "code",
   "execution_count": null,
   "metadata": {},
   "outputs": [],
   "source": [
    "prepro_obj = load_object(file_path=Path(r\"C:\\Users\\princ\\OneDrive\\Desktop\\project-python\\creditcard\\artifact\\stage02_data_transformation\\Base_model\\preprocessing\\preprocessing_obj.pkl\"))"
   ]
  },
  {
   "cell_type": "code",
   "execution_count": null,
   "metadata": {},
   "outputs": [],
   "source": [
    "df = pd.read_csv(r\"C:\\Users\\princ\\OneDrive\\Desktop\\project-python\\creditcard\\artifact\\Stage00_data_ingestion\\Base_model\\ingested_data\\train.csv\")\n"
   ]
  },
  {
   "cell_type": "code",
   "execution_count": null,
   "metadata": {},
   "outputs": [],
   "source": [
    "df.columns"
   ]
  },
  {
   "cell_type": "code",
   "execution_count": null,
   "metadata": {},
   "outputs": [],
   "source": [
    "import sys\n",
    "from pathlib import Path\n",
    "\n",
    "import pandas as pd\n",
    "from CreditCard.constants import FEATURE_GENERATOR_FILE_PATH\n",
    "from CreditCard.Database import MongoDB\n",
    "from CreditCard.entity import (DataTransformationArtifact,\n",
    "                               DataTransformationConfig)\n",
    "from CreditCard.exception import AppException\n",
    "from CreditCard.logging import logger\n",
    "from CreditCard.utils import read_yaml, save_object\n",
    "from CreditCard.config import ConfigurationManager\n",
    "from CreditCard.components import DataValidation\n",
    "from kneed import KneeLocator\n",
    "from sklearn import set_config\n",
    "from sklearn.base import BaseEstimator, TransformerMixin\n",
    "from sklearn.cluster import KMeans\n",
    "from sklearn.impute import SimpleImputer\n",
    "from sklearn.model_selection import train_test_split\n",
    "from sklearn.pipeline import Pipeline\n",
    "from sklearn.preprocessing import OneHotEncoder"
   ]
  },
  {
   "cell_type": "code",
   "execution_count": null,
   "metadata": {},
   "outputs": [],
   "source": [
    "imputer = SimpleImputer()"
   ]
  },
  {
   "cell_type": "code",
   "execution_count": null,
   "metadata": {},
   "outputs": [],
   "source": [
    "data = df.drop(['default.payment.next.month'] , axis =1 )"
   ]
  },
  {
   "cell_type": "code",
   "execution_count": null,
   "metadata": {},
   "outputs": [],
   "source": [
    "data_imputed = imputer.fit_transform(data)"
   ]
  },
  {
   "cell_type": "code",
   "execution_count": null,
   "metadata": {},
   "outputs": [],
   "source": [
    "data_imputed"
   ]
  },
  {
   "cell_type": "code",
   "execution_count": null,
   "metadata": {},
   "outputs": [],
   "source": [
    "feature_config_info = read_yaml(Path(r\"C:\\Users\\princ\\OneDrive\\Desktop\\project-python\\creditcard\\configs\\feature_generator.yaml\"))"
   ]
  },
  {
   "cell_type": "code",
   "execution_count": null,
   "metadata": {},
   "outputs": [],
   "source": [
    "def prepare_data(data ):\n",
    "    feature_config_info = read_yaml(Path(r\"C:\\Users\\princ\\OneDrive\\Desktop\\project-python\\creditcard\\configs\\feature_generator.yaml\"))\n",
    "    pay_x = feature_config_info.pay_x_columns\n",
    "    age = feature_config_info.Age_column\n",
    "    bill_amt = feature_config_info.bill_amt_columns\n",
    "    pay_amt_columns = feature_config_info.pay_amt_columns\n",
    "    limit_column = feature_config_info.limit_column\n",
    "    try:\n",
    "        feature_config_bin_info = feature_config_info.bins\n",
    "        data_generated = pd.DataFrame()\n",
    "        pay_feature_ceil = feature_config_bin_info.pay_feature_ceil\n",
    "        pay_feature = lambda x: x if x < pay_feature_ceil else pay_feature_ceil\n",
    "        for col in pay_x:\n",
    "            data_generated[col] = data[col].apply(pay_feature)\n",
    "        age_bin = feature_config_bin_info.age_bins\n",
    "        data_generated[age[0]] = pd.cut(data[age[0]], age_bin)\n",
    "        bill_amount_bins = feature_config_bin_info.bill_amount_bins\n",
    "        for col in bill_amt:\n",
    "            data_generated[col] = pd.cut(data[col], bill_amount_bins)\n",
    "        pay_amt_bins = feature_config_bin_info.pay_amt_bins\n",
    "        for col in pay_amt_columns:\n",
    "            data_generated[col] = pd.cut(data[col], pay_amt_bins)\n",
    "        limit_bins = feature_config_bin_info.limit_bins\n",
    "        data_generated[limit_column[0]] = pd.cut(data[limit_column[0]], limit_bins)\n",
    "        [data_generated[col].astype(\"category\") for col in data_generated.columns]\n",
    "        return data_generated\n",
    "    except Exception as e:\n",
    "        raise AppException(e, sys) from e"
   ]
  },
  {
   "cell_type": "code",
   "execution_count": null,
   "metadata": {},
   "outputs": [],
   "source": [
    "data_generated = prepare_data(data=data_imputed)"
   ]
  },
  {
   "cell_type": "code",
   "execution_count": null,
   "metadata": {},
   "outputs": [],
   "source": [
    "data_generated"
   ]
  },
  {
   "cell_type": "code",
   "execution_count": null,
   "metadata": {},
   "outputs": [],
   "source": [
    "encoder = OneHotEncoder(sparse_output=False)"
   ]
  },
  {
   "cell_type": "code",
   "execution_count": null,
   "metadata": {},
   "outputs": [],
   "source": [
    "data_encoded = encoder.fit_transform(data_generated)"
   ]
  },
  {
   "cell_type": "code",
   "execution_count": null,
   "metadata": {},
   "outputs": [],
   "source": [
    "wcss = []\n",
    "for i in range(1, 11):\n",
    "    kmeans = KMeans(n_clusters=i, n_init=\"auto\", random_state=42)\n",
    "    kmeans.fit(data_encoded)\n",
    "    wcss.append(kmeans.inertia_)\n",
    "\n",
    "kn = KneeLocator(range(1, 11), wcss, curve='convex', direction='decreasing')\n",
    "total_clusters = kn.knee\n",
    "logger.info(f\"total cluster :{total_clusters}\")\n",
    "cluster = KMeans(n_clusters=total_clusters, init='k-means++', random_state=42)\n",
    "cluster.fit(data_encoded)"
   ]
  },
  {
   "cell_type": "code",
   "execution_count": null,
   "metadata": {},
   "outputs": [],
   "source": [
    "data_generated[\"cluster\"] = cluster.predict(data_encoded)"
   ]
  },
  {
   "cell_type": "code",
   "execution_count": null,
   "metadata": {},
   "outputs": [],
   "source": [
    "!pip install yellowbrick  -q"
   ]
  },
  {
   "cell_type": "code",
   "execution_count": null,
   "metadata": {},
   "outputs": [],
   "source": [
    "from sklearn import datasets\n",
    "from sklearn.cluster import KMeans\n",
    "from yellowbrick.cluster import KElbowVisualizer"
   ]
  },
  {
   "cell_type": "code",
   "execution_count": null,
   "metadata": {},
   "outputs": [],
   "source": [
    "kmeans = KMeans(n_clusters=i, n_init=\"auto\", random_state=42)\n",
    "visualizer = KElbowVisualizer(kmeans, k=(2,15))"
   ]
  },
  {
   "cell_type": "code",
   "execution_count": null,
   "metadata": {},
   "outputs": [],
   "source": [
    "data_encoded[\"cluster\"] = data_generated[\"cluster\"]\n",
    "data_encoded[\"ID\"] = df[\"ID\"]"
   ]
  },
  {
   "cell_type": "code",
   "execution_count": null,
   "metadata": {},
   "outputs": [],
   "source": [
    "visualizer.fit(data_encoded)        # Fit the data to the visualizer\n",
    "visualizer.show()"
   ]
  },
  {
   "cell_type": "code",
   "execution_count": null,
   "metadata": {},
   "outputs": [],
   "source": [
    "visualizer.elbow_value_"
   ]
  },
  {
   "cell_type": "code",
   "execution_count": null,
   "metadata": {},
   "outputs": [],
   "source": [
    "data_encoded.shape"
   ]
  },
  {
   "cell_type": "code",
   "execution_count": null,
   "metadata": {},
   "outputs": [],
   "source": [
    "data_encoded.drop()"
   ]
  },
  {
   "cell_type": "code",
   "execution_count": null,
   "metadata": {},
   "outputs": [],
   "source": [
    "test_df = pd.read_csv(r\"C:\\Users\\princ\\OneDrive\\Desktop\\project-python\\creditcard\\artifact\\Stage00_data_ingestion\\Base_model\\ingested_data\\test.csv\")"
   ]
  },
  {
   "cell_type": "code",
   "execution_count": null,
   "metadata": {},
   "outputs": [],
   "source": [
    "prepro_obj = load_object(file_path=r\"C:\\Users\\princ\\OneDrive\\Desktop\\project-python\\creditcard\\artifact\\stage02_data_transformation\\Base_model\\preprocessing\\preprocessing_obj.pkl\")\n",
    "data_test = test_df.drop(['default.payment.next.month'] , axis =1 )\n",
    "test_data_imputer = imputer.transform(data_test)"
   ]
  },
  {
   "cell_type": "code",
   "execution_count": null,
   "metadata": {},
   "outputs": [],
   "source": [
    "test_data_generated = prepare_data(data=test_data_imputer)"
   ]
  },
  {
   "cell_type": "code",
   "execution_count": null,
   "metadata": {},
   "outputs": [],
   "source": [
    "test_data_generated"
   ]
  },
  {
   "cell_type": "code",
   "execution_count": null,
   "metadata": {},
   "outputs": [],
   "source": [
    "test_data_encoded = encoder.transform(test_data_generated)"
   ]
  },
  {
   "cell_type": "code",
   "execution_count": null,
   "metadata": {},
   "outputs": [],
   "source": [
    "test_data_encoded[\"cluster\"] = cluster.predict(test_data_encoded)"
   ]
  },
  {
   "cell_type": "code",
   "execution_count": null,
   "metadata": {},
   "outputs": [],
   "source": [
    "test_data_encoded"
   ]
  },
  {
   "cell_type": "code",
   "execution_count": null,
   "metadata": {},
   "outputs": [],
   "source": [
    "prepro_obj = load_object(file_path=r\"C:\\Users\\princ\\OneDrive\\Desktop\\project-python\\creditcard\\artifact\\stage02_data_transformation\\Base_model\\preprocessing\\preprocessing_obj.pkl\")"
   ]
  },
  {
   "cell_type": "code",
   "execution_count": null,
   "metadata": {},
   "outputs": [],
   "source": [
    "data = test_df.drop(\"default.payment.next.month\" , axis = 1)"
   ]
  },
  {
   "cell_type": "code",
   "execution_count": null,
   "metadata": {},
   "outputs": [],
   "source": [
    "df_to_predict = prepro_obj.transform_data(data)"
   ]
  },
  {
   "cell_type": "code",
   "execution_count": null,
   "metadata": {},
   "outputs": [],
   "source": [
    "df_to_predict"
   ]
  },
  {
   "cell_type": "code",
   "execution_count": null,
   "metadata": {},
   "outputs": [],
   "source": [
    "from catboost import CatBoostClassifier\n",
    "from CreditCard.utils import load_object\n",
    "from sklearn.cluster import KMeans\n",
    "from sklearn.impute import SimpleImputer\n",
    "from sklearn.model_selection import train_test_split\n",
    "from sklearn.preprocessing import OneHotEncoder\n",
    "from pathlib import Path\n",
    "import pandas as pd\n",
    "from sklearn import set_config\n",
    "set_config(transform_output=\"pandas\")\n"
   ]
  },
  {
   "cell_type": "code",
   "execution_count": null,
   "metadata": {},
   "outputs": [],
   "source": [
    "prepro_obj = load_object(file_path=r\"C:\\Users\\princ\\OneDrive\\Desktop\\project-python\\creditcard\\artifact\\stage02_data_transformation\\Base_model\\preprocessing\\preprocessing_obj.pkl\")\n",
    "test_df = pd.read_csv(r\"C:\\Users\\princ\\OneDrive\\Desktop\\project-python\\creditcard\\artifact\\Stage00_data_ingestion\\Base_model\\ingested_data\\test.csv\")\n",
    "data_test = test_df.drop(['default.payment.next.month'] , axis =1 )"
   ]
  },
  {
   "cell_type": "code",
   "execution_count": null,
   "metadata": {},
   "outputs": [],
   "source": [
    "train_df = pd.read_csv(r\"C:\\Users\\princ\\OneDrive\\Desktop\\project-python\\creditcard\\artifact\\Stage00_data_ingestion\\Base_model\\ingested_data\\train.csv\")"
   ]
  },
  {
   "cell_type": "code",
   "execution_count": null,
   "metadata": {},
   "outputs": [],
   "source": [
    "x = train_df.drop(['default.payment.next.month'] , axis =1 )\n",
    "y = train_df['default.payment.next.month']"
   ]
  },
  {
   "cell_type": "code",
   "execution_count": null,
   "metadata": {},
   "outputs": [],
   "source": [
    "model = CatBoostClassifier()"
   ]
  },
  {
   "cell_type": "code",
   "execution_count": null,
   "metadata": {},
   "outputs": [],
   "source": [
    "train_x = prepro_obj.transform_data(x)"
   ]
  },
  {
   "cell_type": "code",
   "execution_count": null,
   "metadata": {},
   "outputs": [],
   "source": [
    "model.fit(train_x.drop([\"cluster\"] , axis =1), y)"
   ]
  },
  {
   "cell_type": "code",
   "execution_count": null,
   "metadata": {},
   "outputs": [],
   "source": [
    "test_df.loc[2 , \"ID\"] = 1"
   ]
  },
  {
   "cell_type": "code",
   "execution_count": null,
   "metadata": {},
   "outputs": [],
   "source": [
    "test_data = test_df.drop(['default.payment.next.month'] , axis =1 )"
   ]
  },
  {
   "cell_type": "code",
   "execution_count": null,
   "metadata": {},
   "outputs": [],
   "source": [
    "import numpy as np "
   ]
  },
  {
   "cell_type": "code",
   "execution_count": null,
   "metadata": {},
   "outputs": [],
   "source": [
    "data = prerocced_data.loc[1]"
   ]
  },
  {
   "cell_type": "code",
   "execution_count": null,
   "metadata": {},
   "outputs": [],
   "source": [
    "model.predict_proba(data)"
   ]
  },
  {
   "cell_type": "code",
   "execution_count": null,
   "metadata": {},
   "outputs": [],
   "source": [
    "model.predict(data)"
   ]
  },
  {
   "cell_type": "code",
   "execution_count": null,
   "metadata": {},
   "outputs": [],
   "source": [
    "model.predict(data.drop(labels=[\"cluster\"]))"
   ]
  },
  {
   "cell_type": "code",
   "execution_count": null,
   "metadata": {},
   "outputs": [],
   "source": [
    "prerocced_data = prepro_obj.transform_data(test_data)\n",
    "data_length = test_df.shape[0]\n",
    "prediction = pd.DataFrame(  columns=[\"o\" , \"1\"])\n",
    "for row in range(test_df.shape[0]):\n",
    "    data = prerocced_data.loc[row]\n",
    "    prediction.loc[row]= model.predict_proba(data.drop([\"cluster\"] ))\n",
    "    \n",
    "    "
   ]
  },
  {
   "cell_type": "code",
   "execution_count": null,
   "metadata": {},
   "outputs": [],
   "source": [
    "prediction.iloc[:, 1]"
   ]
  },
  {
   "cell_type": "code",
   "execution_count": null,
   "metadata": {},
   "outputs": [],
   "source": [
    "prediction = pd.DataFrame(out_put , columns=[\"prediction\"])"
   ]
  },
  {
   "cell_type": "code",
   "execution_count": null,
   "metadata": {},
   "outputs": [],
   "source": [
    "mo"
   ]
  },
  {
   "cell_type": "code",
   "execution_count": null,
   "metadata": {},
   "outputs": [],
   "source": [
    "test_df.prediction.value_counts()"
   ]
  },
  {
   "cell_type": "code",
   "execution_count": null,
   "metadata": {},
   "outputs": [],
   "source": [
    "prediction.value_counts()"
   ]
  },
  {
   "cell_type": "code",
   "execution_count": null,
   "metadata": {},
   "outputs": [],
   "source": [
    "prediction.value_counts()"
   ]
  },
  {
   "cell_type": "code",
   "execution_count": null,
   "metadata": {},
   "outputs": [],
   "source": [
    "test_df['default.payment.next.month'].value_counts()"
   ]
  },
  {
   "cell_type": "code",
   "execution_count": null,
   "metadata": {},
   "outputs": [],
   "source": [
    "out_put"
   ]
  },
  {
   "cell_type": "code",
   "execution_count": null,
   "metadata": {},
   "outputs": [],
   "source": [
    "import os \n",
    "\n",
    "os.chdir(\"..\")"
   ]
  },
  {
   "cell_type": "code",
   "execution_count": null,
   "metadata": {},
   "outputs": [],
   "source": [
    "from CreditCard.components.stage_03_model_trainer import ModelTrainer\n",
    "from CreditCard.config import ConfigurationManager"
   ]
  },
  {
   "cell_type": "code",
   "execution_count": null,
   "metadata": {},
   "outputs": [],
   "source": [
    "from CreditCard.utils import read_yaml\n",
    "from pathlib import Path"
   ]
  },
  {
   "cell_type": "code",
   "execution_count": null,
   "metadata": {},
   "outputs": [],
   "source": [
    "data = read_yaml(Path(r\"C:\\Users\\princ\\OneDrive\\Desktop\\project-python\\creditcard\\configs\\config.yaml\"))"
   ]
  },
  {
   "cell_type": "code",
   "execution_count": null,
   "metadata": {},
   "outputs": [],
   "source": [
    "data.model_trainer_config.base_accuracy"
   ]
  },
  {
   "cell_type": "code",
   "execution_count": null,
   "metadata": {},
   "outputs": [],
   "source": [
    "config = ConfigurationManager()\n",
    "model_trainer_config_info = config.get_model_trainer_config()\n",
    "   "
   ]
  },
  {
   "cell_type": "code",
   "execution_count": null,
   "metadata": {},
   "outputs": [],
   "source": [
    "model_trainer_config_info.eval_difference"
   ]
  },
  {
   "cell_type": "code",
   "execution_count": null,
   "metadata": {},
   "outputs": [],
   "source": [
    " model_trainer = ModelTrainer(model_trainer_config=model_trainer_config_info)\n",
    " model_trainer_response = model_trainer.initiate_model_trainer()"
   ]
  },
  {
   "cell_type": "code",
   "execution_count": null,
   "metadata": {},
   "outputs": [],
   "source": [
    "import pandas as pd \n",
    "\n",
    "test_df = pd.read_csv(r\"C:\\Users\\princ\\OneDrive\\Desktop\\project-python\\creditcard\\artifact\\Stage00_data_ingestion\\Base_model\\ingested_data\\test.csv\")\n"
   ]
  },
  {
   "cell_type": "code",
   "execution_count": null,
   "metadata": {},
   "outputs": [],
   "source": [
    "test_df[test_df[\"MARRIAGE\"]==1]"
   ]
  },
  {
   "cell_type": "code",
   "execution_count": null,
   "metadata": {},
   "outputs": [],
   "source": [
    "from CreditCard.utils import load_object\n",
    "from pathlib import Path "
   ]
  },
  {
   "cell_type": "code",
   "execution_count": null,
   "metadata": {},
   "outputs": [],
   "source": [
    "pre = load_object(file_path=Path(r\"C:\\Users\\princ\\OneDrive\\Desktop\\project-python\\creditcard\\artifact\\stage02_data_transformation\\Base_model\\preprocessing\\preprocessing_obj.pkl\"))"
   ]
  },
  {
   "cell_type": "code",
   "execution_count": null,
   "metadata": {},
   "outputs": [],
   "source": [
    "import pandas as pd \n",
    "\n",
    "df = pd.read_csv(r\"C:\\Users\\princ\\OneDrive\\Desktop\\project-python\\creditcard\\artifact\\Stage00_data_ingestion\\Base_model\\ingested_data\\test.csv\")"
   ]
  },
  {
   "cell_type": "code",
   "execution_count": null,
   "metadata": {},
   "outputs": [],
   "source": [
    "df.values"
   ]
  },
  {
   "cell_type": "code",
   "execution_count": null,
   "metadata": {},
   "outputs": [],
   "source": [
    "from catboost import CatBoostClassifier\n",
    "import pandas as pd \n",
    "from neuro_mf import  ModelFactory"
   ]
  },
  {
   "cell_type": "code",
   "execution_count": null,
   "metadata": {},
   "outputs": [],
   "source": [
    "import pandas as pd \n",
    "\n",
    "test_df = pd.read_csv(r\"C:\\Users\\princ\\OneDrive\\Desktop\\project-python\\creditcard\\artifact\\Stage00_data_ingestion\\Base_model\\ingested_data\\test.csv\")"
   ]
  },
  {
   "cell_type": "code",
   "execution_count": null,
   "metadata": {},
   "outputs": [],
   "source": [
    "test_df.columns"
   ]
  },
  {
   "cell_type": "code",
   "execution_count": null,
   "metadata": {},
   "outputs": [],
   "source": [
    "X_train = test_df.drop(['default.payment.next.month'] , axis=1)\n",
    "y_train = test_df['default.payment.next.month']"
   ]
  },
  {
   "cell_type": "code",
   "execution_count": null,
   "metadata": {},
   "outputs": [],
   "source": [
    "model_factory = ModelFactory(model_config_path= \"model.yaml\")"
   ]
  },
  {
   "cell_type": "code",
   "execution_count": null,
   "metadata": {},
   "outputs": [],
   "source": [
    "model_factory.get_best_model(X=X_train , y=y_train)"
   ]
  },
  {
   "cell_type": "code",
   "execution_count": null,
   "metadata": {},
   "outputs": [],
   "source": [
    "import os \n",
    "\n",
    "os.chdir(\"..\")"
   ]
  },
  {
   "cell_type": "code",
   "execution_count": null,
   "metadata": {},
   "outputs": [],
   "source": [
    "from CreditCard.config import ConfigurationManager"
   ]
  },
  {
   "cell_type": "code",
   "execution_count": null,
   "metadata": {},
   "outputs": [],
   "source": [
    "config = ConfigurationManager().get_model_trainer_config()"
   ]
  },
  {
   "cell_type": "code",
   "execution_count": null,
   "metadata": {},
   "outputs": [],
   "source": [
    "file_path = config.model_config_file_path"
   ]
  },
  {
   "cell_type": "code",
   "execution_count": null,
   "metadata": {},
   "outputs": [],
   "source": [
    "def get_model_new_config_path(cluster : int):\n",
    "    file_path = str(config.model_config_file_path)\n",
    "    new_path = file_path.replace(\"base\" , str(cluster))\n",
    "    return new_path"
   ]
  },
  {
   "cell_type": "code",
   "execution_count": null,
   "metadata": {},
   "outputs": [],
   "source": [
    "for i in range(8):\n",
    "    path_file = get_model_path(i)\n",
    "    print(os.path.exists(path=path_file))"
   ]
  },
  {
   "cell_type": "code",
   "execution_count": null,
   "metadata": {},
   "outputs": [],
   "source": [
    "from CreditCard.utils import read_yaml , write_yaml , read_yaml_as_dict\n",
    "from pathlib import Path\n",
    "import os "
   ]
  },
  {
   "cell_type": "code",
   "execution_count": null,
   "metadata": {},
   "outputs": [],
   "source": [
    "data = {\"prince\" :{ \"age\" : 66}}\n",
    "file__path = os.path.join(os.getcwd() , \"test.yaml\")"
   ]
  },
  {
   "cell_type": "code",
   "execution_count": null,
   "metadata": {},
   "outputs": [],
   "source": [
    "write_yaml(data=data , file_path=Path(file__path) )"
   ]
  },
  {
   "cell_type": "code",
   "execution_count": null,
   "metadata": {},
   "outputs": [],
   "source": [
    "data_read = read_yaml_as_dict(path_to_yaml=Path(file__path))"
   ]
  },
  {
   "cell_type": "code",
   "execution_count": null,
   "metadata": {},
   "outputs": [],
   "source": [
    "data2 = {\"ryan\" :{\"age\" : 99}}"
   ]
  },
  {
   "cell_type": "code",
   "execution_count": null,
   "metadata": {},
   "outputs": [],
   "source": [
    "data_read.update(data2)"
   ]
  },
  {
   "cell_type": "code",
   "execution_count": null,
   "metadata": {},
   "outputs": [],
   "source": [
    "write_yaml(data=data_read , file_path=Path(file__path) )"
   ]
  },
  {
   "cell_type": "code",
   "execution_count": null,
   "metadata": {},
   "outputs": [],
   "source": [
    "import os \n",
    "\n",
    "os.chdir(\"..\")"
   ]
  },
  {
   "cell_type": "code",
   "execution_count": null,
   "metadata": {},
   "outputs": [],
   "source": [
    "from CreditCard.prediction_service import PredictionService\n",
    "from CreditCard.entity import CreditData\n",
    "import pandas as pd "
   ]
  },
  {
   "cell_type": "code",
   "execution_count": null,
   "metadata": {},
   "outputs": [],
   "source": [
    "data = CreditData(AGE=35 , BILL_AMT1=222 , BILL_AMT2=222 , BILL_AMT3=222 , BILL_AMT4=222 ,BILL_AMT5=222 , BILL_AMT6=222 , EDUCATION=11 ,ID= 111 , LIMIT_BAL=5000 , MARRIAGE=1,\n",
    "                  PAY_0=1 , PAY_2=2 , PAY_3=3 ,PAY_4=4 , PAY_5=5 ,PAY_6=6 ,PAY_AMT1=222 , PAY_AMT2=222 , PAY_AMT3=22 , PAY_AMT4=222 , PAY_AMT5=222 , PAY_AMT6=222,\n",
    "                  SEX=1)"
   ]
  },
  {
   "cell_type": "code",
   "execution_count": null,
   "metadata": {},
   "outputs": [],
   "source": [
    "data_dict = data.dict()"
   ]
  },
  {
   "cell_type": "code",
   "execution_count": null,
   "metadata": {},
   "outputs": [],
   "source": [
    "data_s = pd.DataFrame(data_dict , index=[1])"
   ]
  },
  {
   "cell_type": "code",
   "execution_count": null,
   "metadata": {},
   "outputs": [],
   "source": [
    "prediction_service = PredictionService()\n",
    "\n",
    "model = prediction_service.get_best_model()\n"
   ]
  },
  {
   "cell_type": "code",
   "execution_count": null,
   "metadata": {},
   "outputs": [],
   "source": []
  },
  {
   "cell_type": "code",
   "execution_count": null,
   "metadata": {},
   "outputs": [],
   "source": [
    "model.predict(data_s)"
   ]
  },
  {
   "cell_type": "code",
   "execution_count": null,
   "metadata": {},
   "outputs": [],
   "source": [
    "import pandas as pd\n",
    "refernce = None"
   ]
  },
  {
   "cell_type": "code",
   "execution_count": null,
   "metadata": {},
   "outputs": [],
   "source": [
    "if refernce is None:\n",
    "    print(\"yes\")"
   ]
  },
  {
   "cell_type": "code",
   "execution_count": null,
   "metadata": {},
   "outputs": [],
   "source": [
    "import os \n",
    "os.chdir(\"..\")"
   ]
  },
  {
   "cell_type": "code",
   "execution_count": null,
   "metadata": {},
   "outputs": [],
   "source": [
    "os.path.exists(\"/home/pk/project-python/creditcard/artifact/stage01_data_validation/validated_test.pkl\")"
   ]
  },
  {
   "cell_type": "code",
   "execution_count": null,
   "metadata": {},
   "outputs": [],
   "source": [
    "from CreditCard.config import ConfigurationManager"
   ]
  },
  {
   "cell_type": "code",
   "execution_count": null,
   "metadata": {},
   "outputs": [],
   "source": [
    "config = ConfigurationManager(config_file_path=\"params.yaml\" )"
   ]
  },
  {
   "cell_type": "code",
   "execution_count": null,
   "metadata": {},
   "outputs": [],
   "source": [
    "data_validation_config = config.get_data_validation_config( schema_file_path= \"configs/schema.yaml\" )"
   ]
  },
  {
   "cell_type": "code",
   "execution_count": null,
   "metadata": {},
   "outputs": [],
   "source": [
    "if os.path.exists(data_validation_config.data_validated_train_file_path):\n",
    "    print(\"yes\")"
   ]
  },
  {
   "cell_type": "code",
   "execution_count": null,
   "metadata": {},
   "outputs": [],
   "source": [
    "import pandas as pd "
   ]
  },
  {
   "cell_type": "code",
   "execution_count": null,
   "metadata": {},
   "outputs": [],
   "source": [
    "df = pd.read_pickle(data_validation_config.data_validated_train_file_path)"
   ]
  },
  {
   "cell_type": "code",
   "execution_count": null,
   "metadata": {},
   "outputs": [],
   "source": [
    "df.shape"
   ]
  },
  {
   "cell_type": "code",
   "execution_count": null,
   "metadata": {},
   "outputs": [],
   "source": [
    "df.columns"
   ]
  },
  {
   "cell_type": "code",
   "execution_count": null,
   "metadata": {},
   "outputs": [],
   "source": [
    "X_train = df.drop(['default' , \"ID\"] , axis=1)"
   ]
  },
  {
   "cell_type": "code",
   "execution_count": null,
   "metadata": {},
   "outputs": [],
   "source": [
    " index = {column : index for index , column in enumerate(X_train.columns)}"
   ]
  },
  {
   "cell_type": "code",
   "execution_count": null,
   "metadata": {},
   "outputs": [],
   "source": [
    "from sklearn.impute import SimpleImputer"
   ]
  },
  {
   "cell_type": "code",
   "execution_count": null,
   "metadata": {},
   "outputs": [],
   "source": [
    "imputer = SimpleImputer(strategy=\"median\")"
   ]
  },
  {
   "cell_type": "code",
   "execution_count": null,
   "metadata": {},
   "outputs": [],
   "source": [
    "imputer.fit(X_train)"
   ]
  },
  {
   "cell_type": "code",
   "execution_count": null,
   "metadata": {},
   "outputs": [],
   "source": [
    "x_imputer = imputer.transform(X_train)"
   ]
  },
  {
   "cell_type": "code",
   "execution_count": null,
   "metadata": {},
   "outputs": [],
   "source": [
    "x_imputer.shape"
   ]
  },
  {
   "cell_type": "code",
   "execution_count": null,
   "metadata": {},
   "outputs": [],
   "source": [
    "x_imputer[:, 4].shape"
   ]
  },
  {
   "cell_type": "code",
   "execution_count": null,
   "metadata": {},
   "outputs": [],
   "source": [
    "data = x_imputer.copy()"
   ]
  },
  {
   "cell_type": "code",
   "execution_count": null,
   "metadata": {},
   "outputs": [],
   "source": [
    "import numpy as np\n",
    "bins = np.asarray( [20 ,  25 , 30 , 35 , 40 , 50 , 60 , 80])\n",
    "  \n",
    "counts , data[:, 4] = np.histogram(x_imputer[:, 4 ] , bins=bins)"
   ]
  },
  {
   "cell_type": "code",
   "execution_count": null,
   "metadata": {},
   "outputs": [],
   "source": [
    "df = pd.read_pickle(data_validation_config.data_validated_train_file_path)"
   ]
  },
  {
   "cell_type": "code",
   "execution_count": null,
   "metadata": {},
   "outputs": [],
   "source": [
    "import sys\n",
    "from pathlib import Path\n",
    "\n",
    "import pandas as pd\n",
    "# from CreditCard.components import DataValidation\n",
    "# from CreditCard.config import ConfigurationManager\n",
    "# from CreditCard.entity import (DataTransformationArtifact,\n",
    "#                                DataTransformationConfig)\n",
    "from CreditCard.exception import AppException\n",
    "from CreditCard.logging import logger\n",
    "from CreditCard.utils import read_yaml, save_object\n",
    "from sklearn import set_config\n",
    "from sklearn.base import BaseEstimator, TransformerMixin\n",
    "from sklearn.cluster import KMeans\n",
    "from sklearn.preprocessing import OneHotEncoder, StandardScaler\n",
    "from sklearn.impute import SimpleImputer\n",
    "from sklearn.model_selection import train_test_split\n",
    "from yellowbrick.cluster import KElbowVisualizer\n",
    "\n",
    "\n",
    "class FeatureGenerator:\n",
    "    \"\"\"custom feature generator class to generate cluster class for the data\n",
    "    scaler : StandardScaler clustering using kmeans++ and kneed\"\"\"\n",
    "\n",
    "    def __init__(self, feature_generator_file_path: Path ):\n",
    "        try:\n",
    "            self.feature_config_info = read_yaml(path_to_yaml=feature_generator_file_path)\n",
    "            self.cluster = None\n",
    "            set_config(transform_output=\"pandas\")\n",
    "            self.encoder = OneHotEncoder(sparse_output=False)\n",
    "            self.imputer = SimpleImputer()\n",
    "\n",
    "        except Exception as e:\n",
    "            raise AppException(e, sys) from e\n",
    "\n",
    "    def fit_data(self, data_to_fit):\n",
    "        data_imputed = self.imputer.fit_transform(data_to_fit)\n",
    "        data_generated = self.__prepare_data(data=data_imputed)\n",
    "        data_encoded = self.encoder.fit_transform(data_generated)\n",
    "        kmeans = KMeans(n_init=\"auto\", init='k-means++', random_state=1961)\n",
    "        visualizer = KElbowVisualizer(kmeans, k=(2, 15))\n",
    "        visualizer.fit(data_encoded)\n",
    "        total_clusters = visualizer.elbow_value_\n",
    "        logger.info(f\"total cluster :{total_clusters}\")\n",
    "        self.cluster = KMeans(n_clusters=total_clusters, init='k-means++', random_state=1961)\n",
    "        self.cluster.fit(data_encoded)\n",
    "        return self\n",
    "\n",
    "    def transform_data(self, data_to_transform):\n",
    "        try:\n",
    "\n",
    "            data_imputed = self.imputer.transform(data_to_transform)\n",
    "            data_generated = self.__prepare_data(data=data_imputed)\n",
    "            data_encoded = self.encoder.transform(data_generated)\n",
    "            data_encoded[\"cluster\"] = self.cluster.predict(data_encoded)\n",
    "            return data_encoded\n",
    "        except Exception as e:\n",
    "            raise AppException(e, sys) from e\n",
    "\n",
    "    def __prepare_data(self, data):\n",
    "        try:\n",
    "            feature_config_info = self.feature_config_info\n",
    "            data_generated = data.copy()\n",
    "            \n",
    "            for master_data in feature_config_info.keys():\n",
    "                feature = feature_config_info[master_data]\n",
    "                for column in feature.columns:\n",
    "                    data_generated[column] = data[column].clip(lower = feature.lower_bound , upper = feature.upper_bound)\n",
    "                    data_generated[column] = pd.cut(data_generated[column] , bins=feature.bins )\n",
    "            return data_generated\n",
    "        except Exception as e:\n",
    "            raise AppException(e, sys) from e"
   ]
  },
  {
   "cell_type": "code",
   "execution_count": null,
   "metadata": {},
   "outputs": [],
   "source": [
    "df = pd.read_pickle(data_validation_config.data_validated_train_file_path)"
   ]
  },
  {
   "cell_type": "code",
   "execution_count": null,
   "metadata": {},
   "outputs": [],
   "source": [
    "X_train = df.drop(['default' , \"ID\"] , axis=1)"
   ]
  },
  {
   "cell_type": "code",
   "execution_count": null,
   "metadata": {},
   "outputs": [],
   "source": [
    "from pathlib import Path"
   ]
  },
  {
   "cell_type": "code",
   "execution_count": null,
   "metadata": {},
   "outputs": [],
   "source": [
    "feature_gen = FeatureGenerator(feature_generator_file_path=Path(\"configs/feature_generator.yaml\" ))"
   ]
  },
  {
   "cell_type": "code",
   "execution_count": null,
   "metadata": {},
   "outputs": [],
   "source": [
    "feature_gen.fit_data(X_train)"
   ]
  },
  {
   "cell_type": "code",
   "execution_count": null,
   "metadata": {},
   "outputs": [],
   "source": [
    "x_feature = feature_gen.transform_data(X_train)"
   ]
  },
  {
   "cell_type": "code",
   "execution_count": null,
   "metadata": {},
   "outputs": [],
   "source": [
    "df.PAY_AMT4.value_counts().sort_values(ascending=False).head(30)"
   ]
  },
  {
   "cell_type": "code",
   "execution_count": null,
   "metadata": {},
   "outputs": [],
   "source": [
    "x_feature[\"AGE\"] = 100"
   ]
  },
  {
   "cell_type": "code",
   "execution_count": null,
   "metadata": {},
   "outputs": [],
   "source": [
    "X_train[\"AGE\"] = 100"
   ]
  },
  {
   "cell_type": "code",
   "execution_count": null,
   "metadata": {},
   "outputs": [],
   "source": [
    "x_feature_1 = feature_gen.transform_data(X_train)"
   ]
  },
  {
   "cell_type": "code",
   "execution_count": null,
   "metadata": {},
   "outputs": [],
   "source": [
    "feature_gen.encoder.feature_names_in_.tolist()"
   ]
  },
  {
   "cell_type": "code",
   "execution_count": null,
   "metadata": {},
   "outputs": [],
   "source": [
    "import os\n",
    "\n",
    "os.chdir(\"..\")"
   ]
  },
  {
   "cell_type": "code",
   "execution_count": null,
   "metadata": {},
   "outputs": [],
   "source": [
    "import pandas as pd\n",
    "df = pd.read_pickle(\"/home/pk/project-python/creditcard/artifact/stage02_data_validation/validated_test.pkl\")"
   ]
  },
  {
   "cell_type": "code",
   "execution_count": null,
   "metadata": {},
   "outputs": [],
   "source": [
    "path_ = '/home/pk/project-python/creditcard/artifact/stage02_data_validation/validated_test.pkl'"
   ]
  },
  {
   "cell_type": "code",
   "execution_count": null,
   "metadata": {},
   "outputs": [],
   "source": [
    "x = df.drop([\"default\" , \"ID\"] , axis=1)\n",
    "\n",
    "y = df[\"default\"]"
   ]
  },
  {
   "cell_type": "code",
   "execution_count": null,
   "metadata": {},
   "outputs": [],
   "source": [
    "# import subprocess\n",
    "\n",
    "# test = subprocess.run([\"python\", \"src/CreditCard/hyperparams/GradientBoostingClassifier.py\", \"--data_path\", path_, \"--target\", \"default\", \"--metric\", \"roc_auc\", \"--output\", \"./dummy/gb.yaml\"])"
   ]
  },
  {
   "cell_type": "code",
   "execution_count": null,
   "metadata": {},
   "outputs": [],
   "source": [
    "from CreditCard.entity import OptunaTrainingArtifact , OptunaTrainingConfig\n",
    "model_artficat_dir = \"artifact/stage03_optuna_training\"\n",
    "\n",
    "os.makedirs(model_artficat_dir, exist_ok=True)"
   ]
  },
  {
   "cell_type": "code",
   "execution_count": null,
   "metadata": {},
   "outputs": [],
   "source": [
    "optuna_config = OptunaTrainingConfig(Model_index=1, Model_module=\"sklearn.discriminant_analysise\", Model_class=\"LinearDiscriminantAnalysis\", \n",
    "                                  report_file_path=\"configs/model_factory.yaml\", train_data_path=path_, \n",
    "                                  target_column=\"default\", metric=\"roc_auc\", n_trials=10, \n",
    "                                  training_artifact_dir=model_artficat_dir)\n",
    "data =  optuna_config.json()"
   ]
  },
  {
   "cell_type": "code",
   "execution_count": null,
   "metadata": {},
   "outputs": [],
   "source": [
    "os.path.exists(optuna_config.report_file_path)"
   ]
  },
  {
   "cell_type": "code",
   "execution_count": null,
   "metadata": {},
   "outputs": [],
   "source": [
    "from box import ConfigBox\n",
    "data = optuna_config.json()"
   ]
  },
  {
   "cell_type": "code",
   "execution_count": null,
   "metadata": {},
   "outputs": [],
   "source": [
    "import json"
   ]
  },
  {
   "cell_type": "code",
   "execution_count": null,
   "metadata": {},
   "outputs": [],
   "source": [
    "ConfigBox(json.loads(data))"
   ]
  },
  {
   "cell_type": "code",
   "execution_count": null,
   "metadata": {},
   "outputs": [],
   "source": [
    "dict1 = {1 : \"ssss\" , 2 : \"model\"}\n",
    "dict2 = {1 : \"ssss\" , 2 : \"model\"}"
   ]
  },
  {
   "cell_type": "code",
   "execution_count": null,
   "metadata": {},
   "outputs": [],
   "source": [
    "list(dict1.keys())[0] in list(dict2.keys())"
   ]
  },
  {
   "cell_type": "code",
   "execution_count": null,
   "metadata": {},
   "outputs": [],
   "source": [
    "dict1"
   ]
  },
  {
   "cell_type": "code",
   "execution_count": 13,
   "metadata": {},
   "outputs": [],
   "source": [
    "from CreditCard.utils import load_object\n",
    "from pathlib import Path\n",
    "import pandas as pd\n",
    "from sklearn import set_config\n",
    "\n",
    "set_config(transform_output=\"pandas\")"
   ]
  },
  {
   "cell_type": "code",
   "execution_count": 14,
   "metadata": {},
   "outputs": [],
   "source": [
    "pre = load_object(Path(\"/home/pk/project-python/creditcard/artifact/stage03_data_transformation/preprocessing/preprocessing_obj.pkl\"))"
   ]
  },
  {
   "cell_type": "code",
   "execution_count": 15,
   "metadata": {},
   "outputs": [],
   "source": [
    "df = pd.read_pickle(\"/home/pk/project-python/creditcard/artifact/stage02_data_validation/validated_train.pkl\")"
   ]
  },
  {
   "cell_type": "code",
   "execution_count": 16,
   "metadata": {},
   "outputs": [],
   "source": [
    "x= df.drop([\"default\" , \"ID\"] , axis=1)"
   ]
  },
  {
   "cell_type": "code",
   "execution_count": 17,
   "metadata": {},
   "outputs": [],
   "source": [
    "y = df[\"default\"]"
   ]
  },
  {
   "cell_type": "code",
   "execution_count": 18,
   "metadata": {},
   "outputs": [],
   "source": [
    "x_pre = pre.transform_data(x)"
   ]
  },
  {
   "cell_type": "code",
   "execution_count": 19,
   "metadata": {},
   "outputs": [],
   "source": [
    "x_pre[\"default\"] = y"
   ]
  },
  {
   "cell_type": "code",
   "execution_count": 24,
   "metadata": {},
   "outputs": [
    {
     "data": {
      "text/plain": [
       "array([[0., 1., 0., ..., 0., 5., 1.],\n",
       "       [1., 0., 0., ..., 0., 0., 0.],\n",
       "       [1., 0., 0., ..., 0., 2., 0.],\n",
       "       ...,\n",
       "       [0., 0., 0., ..., 0., 1., 0.],\n",
       "       [1., 0., 0., ..., 0., 2., 0.],\n",
       "       [0., 1., 0., ..., 0., 1., 1.]])"
      ]
     },
     "execution_count": 24,
     "metadata": {},
     "output_type": "execute_result"
    }
   ],
   "source": [
    "x_pre.values"
   ]
  },
  {
   "cell_type": "code",
   "execution_count": 22,
   "metadata": {},
   "outputs": [
    {
     "data": {
      "text/html": [
       "<div>\n",
       "<style scoped>\n",
       "    .dataframe tbody tr th:only-of-type {\n",
       "        vertical-align: middle;\n",
       "    }\n",
       "\n",
       "    .dataframe tbody tr th {\n",
       "        vertical-align: top;\n",
       "    }\n",
       "\n",
       "    .dataframe thead th {\n",
       "        text-align: right;\n",
       "    }\n",
       "</style>\n",
       "<table border=\"1\" class=\"dataframe\">\n",
       "  <thead>\n",
       "    <tr style=\"text-align: right;\">\n",
       "      <th></th>\n",
       "      <th>LIMIT_BAL_(5000, 50000]</th>\n",
       "      <th>LIMIT_BAL_(50000, 100000]</th>\n",
       "      <th>LIMIT_BAL_(100000, 150000]</th>\n",
       "      <th>LIMIT_BAL_(150000, 200000]</th>\n",
       "      <th>LIMIT_BAL_(200000, 300000]</th>\n",
       "      <th>LIMIT_BAL_(300000, 400000]</th>\n",
       "      <th>LIMIT_BAL_(400000, 500000]</th>\n",
       "      <th>LIMIT_BAL_(500000, 1100000]</th>\n",
       "      <th>SEX_1.0</th>\n",
       "      <th>SEX_2.0</th>\n",
       "      <th>EDUCATION_0.0</th>\n",
       "      <th>EDUCATION_1.0</th>\n",
       "      <th>EDUCATION_2.0</th>\n",
       "      <th>EDUCATION_3.0</th>\n",
       "      <th>EDUCATION_4.0</th>\n",
       "      <th>EDUCATION_5.0</th>\n",
       "      <th>EDUCATION_6.0</th>\n",
       "      <th>MARRIAGE_0.0</th>\n",
       "      <th>MARRIAGE_1.0</th>\n",
       "      <th>MARRIAGE_2.0</th>\n",
       "      <th>MARRIAGE_3.0</th>\n",
       "      <th>AGE_(20, 25]</th>\n",
       "      <th>AGE_(25, 30]</th>\n",
       "      <th>AGE_(30, 35]</th>\n",
       "      <th>AGE_(35, 40]</th>\n",
       "      <th>AGE_(40, 50]</th>\n",
       "      <th>AGE_(50, 60]</th>\n",
       "      <th>AGE_(60, 80]</th>\n",
       "      <th>PAY_0_(-1.0, 0.0]</th>\n",
       "      <th>PAY_0_(0.0, 25000.0]</th>\n",
       "      <th>PAY_0_nan</th>\n",
       "      <th>PAY_2_(-1.0, 0.0]</th>\n",
       "      <th>PAY_2_(0.0, 25000.0]</th>\n",
       "      <th>PAY_2_nan</th>\n",
       "      <th>PAY_3_(-1.0, 0.0]</th>\n",
       "      <th>PAY_3_(0.0, 25000.0]</th>\n",
       "      <th>PAY_3_nan</th>\n",
       "      <th>PAY_4_(-1.0, 0.0]</th>\n",
       "      <th>PAY_4_(0.0, 25000.0]</th>\n",
       "      <th>PAY_4_nan</th>\n",
       "      <th>...</th>\n",
       "      <th>BILL_AMT5_(75000, 200000]</th>\n",
       "      <th>BILL_AMT5_(200000, 2000000]</th>\n",
       "      <th>BILL_AMT6_(-350000, -1]</th>\n",
       "      <th>BILL_AMT6_(-1, 0]</th>\n",
       "      <th>BILL_AMT6_(0, 25000]</th>\n",
       "      <th>BILL_AMT6_(25000, 75000]</th>\n",
       "      <th>BILL_AMT6_(75000, 200000]</th>\n",
       "      <th>BILL_AMT6_(200000, 2000000]</th>\n",
       "      <th>PAY_AMT1_(-1, 0]</th>\n",
       "      <th>PAY_AMT1_(0, 25000]</th>\n",
       "      <th>PAY_AMT1_(25000, 50000]</th>\n",
       "      <th>PAY_AMT1_(50000, 100000]</th>\n",
       "      <th>PAY_AMT1_(100000, 2000000]</th>\n",
       "      <th>PAY_AMT2_(-1, 0]</th>\n",
       "      <th>PAY_AMT2_(0, 25000]</th>\n",
       "      <th>PAY_AMT2_(25000, 50000]</th>\n",
       "      <th>PAY_AMT2_(50000, 100000]</th>\n",
       "      <th>PAY_AMT2_(100000, 2000000]</th>\n",
       "      <th>PAY_AMT3_(-1, 0]</th>\n",
       "      <th>PAY_AMT3_(0, 25000]</th>\n",
       "      <th>PAY_AMT3_(25000, 50000]</th>\n",
       "      <th>PAY_AMT3_(50000, 100000]</th>\n",
       "      <th>PAY_AMT3_(100000, 2000000]</th>\n",
       "      <th>PAY_AMT4_(-1, 0]</th>\n",
       "      <th>PAY_AMT4_(0, 25000]</th>\n",
       "      <th>PAY_AMT4_(25000, 50000]</th>\n",
       "      <th>PAY_AMT4_(50000, 100000]</th>\n",
       "      <th>PAY_AMT4_(100000, 2000000]</th>\n",
       "      <th>PAY_AMT5_(-1, 0]</th>\n",
       "      <th>PAY_AMT5_(0, 25000]</th>\n",
       "      <th>PAY_AMT5_(25000, 50000]</th>\n",
       "      <th>PAY_AMT5_(50000, 100000]</th>\n",
       "      <th>PAY_AMT5_(100000, 2000000]</th>\n",
       "      <th>PAY_AMT6_(-1, 0]</th>\n",
       "      <th>PAY_AMT6_(0, 25000]</th>\n",
       "      <th>PAY_AMT6_(25000, 50000]</th>\n",
       "      <th>PAY_AMT6_(50000, 100000]</th>\n",
       "      <th>PAY_AMT6_(100000, 2000000]</th>\n",
       "      <th>cluster</th>\n",
       "      <th>default</th>\n",
       "    </tr>\n",
       "  </thead>\n",
       "  <tbody>\n",
       "    <tr>\n",
       "      <th>0</th>\n",
       "      <td>0.0</td>\n",
       "      <td>1.0</td>\n",
       "      <td>0.0</td>\n",
       "      <td>0.0</td>\n",
       "      <td>0.0</td>\n",
       "      <td>0.0</td>\n",
       "      <td>0.0</td>\n",
       "      <td>0.0</td>\n",
       "      <td>0.0</td>\n",
       "      <td>1.0</td>\n",
       "      <td>0.0</td>\n",
       "      <td>0.0</td>\n",
       "      <td>0.0</td>\n",
       "      <td>1.0</td>\n",
       "      <td>0.0</td>\n",
       "      <td>0.0</td>\n",
       "      <td>0.0</td>\n",
       "      <td>0.0</td>\n",
       "      <td>1.0</td>\n",
       "      <td>0.0</td>\n",
       "      <td>0.0</td>\n",
       "      <td>0.0</td>\n",
       "      <td>0.0</td>\n",
       "      <td>0.0</td>\n",
       "      <td>0.0</td>\n",
       "      <td>1.0</td>\n",
       "      <td>0.0</td>\n",
       "      <td>0.0</td>\n",
       "      <td>0.0</td>\n",
       "      <td>1.0</td>\n",
       "      <td>0.0</td>\n",
       "      <td>0.0</td>\n",
       "      <td>1.0</td>\n",
       "      <td>0.0</td>\n",
       "      <td>0.0</td>\n",
       "      <td>1.0</td>\n",
       "      <td>0.0</td>\n",
       "      <td>0.0</td>\n",
       "      <td>1.0</td>\n",
       "      <td>0.0</td>\n",
       "      <td>...</td>\n",
       "      <td>0.0</td>\n",
       "      <td>0.0</td>\n",
       "      <td>0.0</td>\n",
       "      <td>0.0</td>\n",
       "      <td>0.0</td>\n",
       "      <td>1.0</td>\n",
       "      <td>0.0</td>\n",
       "      <td>0.0</td>\n",
       "      <td>1.0</td>\n",
       "      <td>0.0</td>\n",
       "      <td>0.0</td>\n",
       "      <td>0.0</td>\n",
       "      <td>0.0</td>\n",
       "      <td>0.0</td>\n",
       "      <td>1.0</td>\n",
       "      <td>0.0</td>\n",
       "      <td>0.0</td>\n",
       "      <td>0.0</td>\n",
       "      <td>0.0</td>\n",
       "      <td>1.0</td>\n",
       "      <td>0.0</td>\n",
       "      <td>0.0</td>\n",
       "      <td>0.0</td>\n",
       "      <td>0.0</td>\n",
       "      <td>1.0</td>\n",
       "      <td>0.0</td>\n",
       "      <td>0.0</td>\n",
       "      <td>0.0</td>\n",
       "      <td>1.0</td>\n",
       "      <td>0.0</td>\n",
       "      <td>0.0</td>\n",
       "      <td>0.0</td>\n",
       "      <td>0.0</td>\n",
       "      <td>0.0</td>\n",
       "      <td>1.0</td>\n",
       "      <td>0.0</td>\n",
       "      <td>0.0</td>\n",
       "      <td>0.0</td>\n",
       "      <td>5</td>\n",
       "      <td>1</td>\n",
       "    </tr>\n",
       "    <tr>\n",
       "      <th>1</th>\n",
       "      <td>1.0</td>\n",
       "      <td>0.0</td>\n",
       "      <td>0.0</td>\n",
       "      <td>0.0</td>\n",
       "      <td>0.0</td>\n",
       "      <td>0.0</td>\n",
       "      <td>0.0</td>\n",
       "      <td>0.0</td>\n",
       "      <td>1.0</td>\n",
       "      <td>0.0</td>\n",
       "      <td>0.0</td>\n",
       "      <td>1.0</td>\n",
       "      <td>0.0</td>\n",
       "      <td>0.0</td>\n",
       "      <td>0.0</td>\n",
       "      <td>0.0</td>\n",
       "      <td>0.0</td>\n",
       "      <td>0.0</td>\n",
       "      <td>0.0</td>\n",
       "      <td>1.0</td>\n",
       "      <td>0.0</td>\n",
       "      <td>1.0</td>\n",
       "      <td>0.0</td>\n",
       "      <td>0.0</td>\n",
       "      <td>0.0</td>\n",
       "      <td>0.0</td>\n",
       "      <td>0.0</td>\n",
       "      <td>0.0</td>\n",
       "      <td>1.0</td>\n",
       "      <td>0.0</td>\n",
       "      <td>0.0</td>\n",
       "      <td>1.0</td>\n",
       "      <td>0.0</td>\n",
       "      <td>0.0</td>\n",
       "      <td>1.0</td>\n",
       "      <td>0.0</td>\n",
       "      <td>0.0</td>\n",
       "      <td>0.0</td>\n",
       "      <td>1.0</td>\n",
       "      <td>0.0</td>\n",
       "      <td>...</td>\n",
       "      <td>0.0</td>\n",
       "      <td>0.0</td>\n",
       "      <td>0.0</td>\n",
       "      <td>0.0</td>\n",
       "      <td>0.0</td>\n",
       "      <td>1.0</td>\n",
       "      <td>0.0</td>\n",
       "      <td>0.0</td>\n",
       "      <td>0.0</td>\n",
       "      <td>1.0</td>\n",
       "      <td>0.0</td>\n",
       "      <td>0.0</td>\n",
       "      <td>0.0</td>\n",
       "      <td>0.0</td>\n",
       "      <td>1.0</td>\n",
       "      <td>0.0</td>\n",
       "      <td>0.0</td>\n",
       "      <td>0.0</td>\n",
       "      <td>0.0</td>\n",
       "      <td>1.0</td>\n",
       "      <td>0.0</td>\n",
       "      <td>0.0</td>\n",
       "      <td>0.0</td>\n",
       "      <td>0.0</td>\n",
       "      <td>1.0</td>\n",
       "      <td>0.0</td>\n",
       "      <td>0.0</td>\n",
       "      <td>0.0</td>\n",
       "      <td>0.0</td>\n",
       "      <td>1.0</td>\n",
       "      <td>0.0</td>\n",
       "      <td>0.0</td>\n",
       "      <td>0.0</td>\n",
       "      <td>0.0</td>\n",
       "      <td>1.0</td>\n",
       "      <td>0.0</td>\n",
       "      <td>0.0</td>\n",
       "      <td>0.0</td>\n",
       "      <td>0</td>\n",
       "      <td>0</td>\n",
       "    </tr>\n",
       "    <tr>\n",
       "      <th>2</th>\n",
       "      <td>1.0</td>\n",
       "      <td>0.0</td>\n",
       "      <td>0.0</td>\n",
       "      <td>0.0</td>\n",
       "      <td>0.0</td>\n",
       "      <td>0.0</td>\n",
       "      <td>0.0</td>\n",
       "      <td>0.0</td>\n",
       "      <td>1.0</td>\n",
       "      <td>0.0</td>\n",
       "      <td>0.0</td>\n",
       "      <td>1.0</td>\n",
       "      <td>0.0</td>\n",
       "      <td>0.0</td>\n",
       "      <td>0.0</td>\n",
       "      <td>0.0</td>\n",
       "      <td>0.0</td>\n",
       "      <td>0.0</td>\n",
       "      <td>0.0</td>\n",
       "      <td>1.0</td>\n",
       "      <td>0.0</td>\n",
       "      <td>0.0</td>\n",
       "      <td>1.0</td>\n",
       "      <td>0.0</td>\n",
       "      <td>0.0</td>\n",
       "      <td>0.0</td>\n",
       "      <td>0.0</td>\n",
       "      <td>0.0</td>\n",
       "      <td>1.0</td>\n",
       "      <td>0.0</td>\n",
       "      <td>0.0</td>\n",
       "      <td>1.0</td>\n",
       "      <td>0.0</td>\n",
       "      <td>0.0</td>\n",
       "      <td>0.0</td>\n",
       "      <td>1.0</td>\n",
       "      <td>0.0</td>\n",
       "      <td>1.0</td>\n",
       "      <td>0.0</td>\n",
       "      <td>0.0</td>\n",
       "      <td>...</td>\n",
       "      <td>0.0</td>\n",
       "      <td>0.0</td>\n",
       "      <td>0.0</td>\n",
       "      <td>0.0</td>\n",
       "      <td>1.0</td>\n",
       "      <td>0.0</td>\n",
       "      <td>0.0</td>\n",
       "      <td>0.0</td>\n",
       "      <td>0.0</td>\n",
       "      <td>1.0</td>\n",
       "      <td>0.0</td>\n",
       "      <td>0.0</td>\n",
       "      <td>0.0</td>\n",
       "      <td>0.0</td>\n",
       "      <td>1.0</td>\n",
       "      <td>0.0</td>\n",
       "      <td>0.0</td>\n",
       "      <td>0.0</td>\n",
       "      <td>0.0</td>\n",
       "      <td>1.0</td>\n",
       "      <td>0.0</td>\n",
       "      <td>0.0</td>\n",
       "      <td>0.0</td>\n",
       "      <td>0.0</td>\n",
       "      <td>1.0</td>\n",
       "      <td>0.0</td>\n",
       "      <td>0.0</td>\n",
       "      <td>0.0</td>\n",
       "      <td>0.0</td>\n",
       "      <td>1.0</td>\n",
       "      <td>0.0</td>\n",
       "      <td>0.0</td>\n",
       "      <td>0.0</td>\n",
       "      <td>0.0</td>\n",
       "      <td>1.0</td>\n",
       "      <td>0.0</td>\n",
       "      <td>0.0</td>\n",
       "      <td>0.0</td>\n",
       "      <td>2</td>\n",
       "      <td>0</td>\n",
       "    </tr>\n",
       "    <tr>\n",
       "      <th>3</th>\n",
       "      <td>0.0</td>\n",
       "      <td>1.0</td>\n",
       "      <td>0.0</td>\n",
       "      <td>0.0</td>\n",
       "      <td>0.0</td>\n",
       "      <td>0.0</td>\n",
       "      <td>0.0</td>\n",
       "      <td>0.0</td>\n",
       "      <td>0.0</td>\n",
       "      <td>1.0</td>\n",
       "      <td>0.0</td>\n",
       "      <td>0.0</td>\n",
       "      <td>1.0</td>\n",
       "      <td>0.0</td>\n",
       "      <td>0.0</td>\n",
       "      <td>0.0</td>\n",
       "      <td>0.0</td>\n",
       "      <td>0.0</td>\n",
       "      <td>0.0</td>\n",
       "      <td>1.0</td>\n",
       "      <td>0.0</td>\n",
       "      <td>1.0</td>\n",
       "      <td>0.0</td>\n",
       "      <td>0.0</td>\n",
       "      <td>0.0</td>\n",
       "      <td>0.0</td>\n",
       "      <td>0.0</td>\n",
       "      <td>0.0</td>\n",
       "      <td>1.0</td>\n",
       "      <td>0.0</td>\n",
       "      <td>0.0</td>\n",
       "      <td>1.0</td>\n",
       "      <td>0.0</td>\n",
       "      <td>0.0</td>\n",
       "      <td>1.0</td>\n",
       "      <td>0.0</td>\n",
       "      <td>0.0</td>\n",
       "      <td>1.0</td>\n",
       "      <td>0.0</td>\n",
       "      <td>0.0</td>\n",
       "      <td>...</td>\n",
       "      <td>0.0</td>\n",
       "      <td>0.0</td>\n",
       "      <td>0.0</td>\n",
       "      <td>0.0</td>\n",
       "      <td>0.0</td>\n",
       "      <td>1.0</td>\n",
       "      <td>0.0</td>\n",
       "      <td>0.0</td>\n",
       "      <td>0.0</td>\n",
       "      <td>1.0</td>\n",
       "      <td>0.0</td>\n",
       "      <td>0.0</td>\n",
       "      <td>0.0</td>\n",
       "      <td>0.0</td>\n",
       "      <td>1.0</td>\n",
       "      <td>0.0</td>\n",
       "      <td>0.0</td>\n",
       "      <td>0.0</td>\n",
       "      <td>0.0</td>\n",
       "      <td>1.0</td>\n",
       "      <td>0.0</td>\n",
       "      <td>0.0</td>\n",
       "      <td>0.0</td>\n",
       "      <td>0.0</td>\n",
       "      <td>1.0</td>\n",
       "      <td>0.0</td>\n",
       "      <td>0.0</td>\n",
       "      <td>0.0</td>\n",
       "      <td>0.0</td>\n",
       "      <td>1.0</td>\n",
       "      <td>0.0</td>\n",
       "      <td>0.0</td>\n",
       "      <td>0.0</td>\n",
       "      <td>0.0</td>\n",
       "      <td>1.0</td>\n",
       "      <td>0.0</td>\n",
       "      <td>0.0</td>\n",
       "      <td>0.0</td>\n",
       "      <td>0</td>\n",
       "      <td>0</td>\n",
       "    </tr>\n",
       "    <tr>\n",
       "      <th>4</th>\n",
       "      <td>0.0</td>\n",
       "      <td>0.0</td>\n",
       "      <td>0.0</td>\n",
       "      <td>0.0</td>\n",
       "      <td>1.0</td>\n",
       "      <td>0.0</td>\n",
       "      <td>0.0</td>\n",
       "      <td>0.0</td>\n",
       "      <td>0.0</td>\n",
       "      <td>1.0</td>\n",
       "      <td>0.0</td>\n",
       "      <td>0.0</td>\n",
       "      <td>0.0</td>\n",
       "      <td>1.0</td>\n",
       "      <td>0.0</td>\n",
       "      <td>0.0</td>\n",
       "      <td>0.0</td>\n",
       "      <td>0.0</td>\n",
       "      <td>1.0</td>\n",
       "      <td>0.0</td>\n",
       "      <td>0.0</td>\n",
       "      <td>0.0</td>\n",
       "      <td>0.0</td>\n",
       "      <td>0.0</td>\n",
       "      <td>0.0</td>\n",
       "      <td>1.0</td>\n",
       "      <td>0.0</td>\n",
       "      <td>0.0</td>\n",
       "      <td>1.0</td>\n",
       "      <td>0.0</td>\n",
       "      <td>0.0</td>\n",
       "      <td>1.0</td>\n",
       "      <td>0.0</td>\n",
       "      <td>0.0</td>\n",
       "      <td>0.0</td>\n",
       "      <td>0.0</td>\n",
       "      <td>1.0</td>\n",
       "      <td>0.0</td>\n",
       "      <td>0.0</td>\n",
       "      <td>1.0</td>\n",
       "      <td>...</td>\n",
       "      <td>0.0</td>\n",
       "      <td>0.0</td>\n",
       "      <td>1.0</td>\n",
       "      <td>0.0</td>\n",
       "      <td>0.0</td>\n",
       "      <td>0.0</td>\n",
       "      <td>0.0</td>\n",
       "      <td>0.0</td>\n",
       "      <td>0.0</td>\n",
       "      <td>1.0</td>\n",
       "      <td>0.0</td>\n",
       "      <td>0.0</td>\n",
       "      <td>0.0</td>\n",
       "      <td>0.0</td>\n",
       "      <td>1.0</td>\n",
       "      <td>0.0</td>\n",
       "      <td>0.0</td>\n",
       "      <td>0.0</td>\n",
       "      <td>0.0</td>\n",
       "      <td>1.0</td>\n",
       "      <td>0.0</td>\n",
       "      <td>0.0</td>\n",
       "      <td>0.0</td>\n",
       "      <td>1.0</td>\n",
       "      <td>0.0</td>\n",
       "      <td>0.0</td>\n",
       "      <td>0.0</td>\n",
       "      <td>0.0</td>\n",
       "      <td>1.0</td>\n",
       "      <td>0.0</td>\n",
       "      <td>0.0</td>\n",
       "      <td>0.0</td>\n",
       "      <td>0.0</td>\n",
       "      <td>0.0</td>\n",
       "      <td>1.0</td>\n",
       "      <td>0.0</td>\n",
       "      <td>0.0</td>\n",
       "      <td>0.0</td>\n",
       "      <td>1</td>\n",
       "      <td>0</td>\n",
       "    </tr>\n",
       "  </tbody>\n",
       "</table>\n",
       "<p>5 rows × 114 columns</p>\n",
       "</div>"
      ],
      "text/plain": [
       "   LIMIT_BAL_(5000, 50000]  LIMIT_BAL_(50000, 100000]  ...  cluster  default\n",
       "0                      0.0                        1.0  ...        5        1\n",
       "1                      1.0                        0.0  ...        0        0\n",
       "2                      1.0                        0.0  ...        2        0\n",
       "3                      0.0                        1.0  ...        0        0\n",
       "4                      0.0                        0.0  ...        1        0\n",
       "\n",
       "[5 rows x 114 columns]"
      ]
     },
     "execution_count": 22,
     "metadata": {},
     "output_type": "execute_result"
    }
   ],
   "source": [
    "x_pre.head()"
   ]
  },
  {
   "cell_type": "code",
   "execution_count": 20,
   "metadata": {},
   "outputs": [],
   "source": [
    "x_pre.to_pickle('/home/pk/project-python/creditcard/artifact/stage03_optuna_training/train.pkl')"
   ]
  },
  {
   "cell_type": "code",
   "execution_count": 1,
   "metadata": {},
   "outputs": [],
   "source": [
    "import os\n",
    "\n",
    "os.chdir(\"..\")"
   ]
  },
  {
   "cell_type": "code",
   "execution_count": 10,
   "metadata": {},
   "outputs": [
    {
     "name": "stderr",
     "output_type": "stream",
     "text": [
      "2023-03-28 04:14:18.540 | INFO     | CreditCard.utils.common:read_yaml:34 - yaml file: configs/model_factoryoptuna.yaml loaded successfully\n",
      "2023-03-28 04:14:18.617 | INFO     | CreditCard.utils.common:create_directories:75 - created directory at: optuna_hyper\n",
      "\u001b[32m[I 2023-03-28 04:14:18,617]\u001b[0m A new study created in memory with name: LDA\u001b[0m\n",
      "\u001b[32m[I 2023-03-28 04:14:19,930]\u001b[0m Trial 0 finished with value: 0.7620547900287128 and parameters: {'solver': 'lsqr', 'shrinkage': 'auto', 'tol': 0.00018924123965722266}. Best is trial 0 with value: 0.7620547900287128.\u001b[0m\n",
      "\u001b[32m[I 2023-03-28 04:14:20,682]\u001b[0m Trial 1 finished with value: 0.7620547900287128 and parameters: {'solver': 'eigen', 'shrinkage': 'auto', 'tol': 0.011367330868956235}. Best is trial 0 with value: 0.7620547900287128.\u001b[0m\n",
      "\u001b[32m[I 2023-03-28 04:14:21,284]\u001b[0m Trial 2 finished with value: 0.7620547900287128 and parameters: {'solver': 'lsqr', 'shrinkage': 'auto', 'tol': 0.0047431786810463224}. Best is trial 0 with value: 0.7620547900287128.\u001b[0m\n",
      "\u001b[32m[I 2023-03-28 04:14:21,954]\u001b[0m Trial 3 finished with value: 0.7620547900287128 and parameters: {'solver': 'eigen', 'shrinkage': 'auto', 'tol': 0.011938997108268644}. Best is trial 0 with value: 0.7620547900287128.\u001b[0m\n",
      "\u001b[32m[I 2023-03-28 04:14:22,207]\u001b[0m Trial 4 finished with value: 0.7572244314885115 and parameters: {'solver': 'lsqr', 'shrinkage': None, 'tol': 0.04309506204261084}. Best is trial 0 with value: 0.7620547900287128.\u001b[0m\n",
      "2023-03-28 04:14:22.208 | INFO     | __main__:__get_lda_best_param:89 - Best hyperparameter are {'solver': 'lsqr', 'shrinkage': 'auto', 'tol': 0.00018924123965722266} with a roc_auc of 0.7620547900287128\n",
      "2023-03-28 04:14:22.217 | INFO     | CreditCard.utils.common:read_yaml_as_dict:57 - yaml file: optuna_hyper/model_params.yaml loaded successfully\n",
      "2023-03-28 04:14:22.217 | ERROR    | __main__:update_model_config_file:53 - Duplicate keys found in the config file and the data to update.Duplicate key is model_1 ,\n",
      "                            Data to update is {'model_1': {'Model_module': 'sklearn.discriminant_analysis', 'Model_class': 'LinearDiscriminantAnalysis', 'Model_Best_params': {'solver': 'lsqr', 'shrinkage': 'auto', 'tol': 0.00018924123965722266}, 'Model_Best_params_score': 0.7620547900287128, 'training_artifact_file_path': 'optuna_hyper/lda_study.csv'}}. Existing Config file duplicate's {'Model_Best_params': {'shrinkage': 'auto', 'solver': 'lsqr', 'tol': 0.00018924123965722266}, 'Model_Best_params_score': 0.7620547900287128, 'Model_class': 'LinearDiscriminantAnalysis', 'Model_module': 'sklearn.discriminant_analysis', 'training_artifact_file_path': 'optuna_hyper/lda_study.csv'}\n",
      "\u001b[32m[I 2023-03-28 04:14:22,224]\u001b[0m A new study created in memory with name: GBT\u001b[0m\n",
      "\u001b[32m[I 2023-03-28 04:14:23,356]\u001b[0m Trial 0 finished with value: 0.5 and parameters: {'loss': 'exponential', 'learning_rate': 0.00010007903854383786, 'n_estimators': 372, 'subsample': 0.23208030173540176, 'criterion': 'squared_error', 'min_samples_split': 5, 'min_samples_leaf': 4, 'min_weight_fraction_leaf': 0.2694083670016785, 'max_depth': 6, 'min_impurity_decrease': 0.34260975019837975, 'max_features': 'log2', 'tol': 0.00012082666253305466, 'ccp_alpha': 0.3352337550892011}. Best is trial 0 with value: 0.5.\u001b[0m\n",
      "\u001b[32m[I 2023-03-28 04:14:24,470]\u001b[0m Trial 1 finished with value: 0.5 and parameters: {'loss': 'exponential', 'learning_rate': 0.0002637307779092464, 'n_estimators': 278, 'subsample': 0.820670111807983, 'criterion': 'friedman_mse', 'min_samples_split': 8, 'min_samples_leaf': 9, 'min_weight_fraction_leaf': 0.44730333175192366, 'max_depth': 3, 'min_impurity_decrease': 0.01952739161644118, 'max_features': 'log2', 'tol': 0.0001972606689184097, 'ccp_alpha': 0.21055381250252608}. Best is trial 0 with value: 0.5.\u001b[0m\n",
      "\u001b[32m[I 2023-03-28 04:14:25,982]\u001b[0m Trial 2 finished with value: 0.5 and parameters: {'loss': 'log_loss', 'learning_rate': 0.011902312313548788, 'n_estimators': 384, 'subsample': 0.7178508349134253, 'criterion': 'friedman_mse', 'min_samples_split': 8, 'min_samples_leaf': 10, 'min_weight_fraction_leaf': 0.3740828271899197, 'max_depth': 5, 'min_impurity_decrease': 0.39463966422574426, 'max_features': 'log2', 'tol': 0.05318467494773383, 'ccp_alpha': 0.14680707418683975}. Best is trial 0 with value: 0.5.\u001b[0m\n",
      "\u001b[32m[I 2023-03-28 04:14:28,150]\u001b[0m Trial 3 finished with value: 0.5 and parameters: {'loss': 'log_loss', 'learning_rate': 0.0001143143822054878, 'n_estimators': 711, 'subsample': 0.29046530440005314, 'criterion': 'squared_error', 'min_samples_split': 2, 'min_samples_leaf': 6, 'min_weight_fraction_leaf': 0.07336428745290507, 'max_depth': 7, 'min_impurity_decrease': 0.3498791800104656, 'max_features': 'log2', 'tol': 0.012111570825917514, 'ccp_alpha': 0.20708963476345132}. Best is trial 0 with value: 0.5.\u001b[0m\n",
      "\u001b[32m[I 2023-03-28 04:14:30,220]\u001b[0m Trial 4 finished with value: 0.5 and parameters: {'loss': 'exponential', 'learning_rate': 0.00980356281034032, 'n_estimators': 563, 'subsample': 0.950135280391732, 'criterion': 'squared_error', 'min_samples_split': 3, 'min_samples_leaf': 2, 'min_weight_fraction_leaf': 0.4036956443547619, 'max_depth': 6, 'min_impurity_decrease': 0.08267709855846639, 'max_features': 'sqrt', 'tol': 0.01788283252760715, 'ccp_alpha': 0.36299899267522573}. Best is trial 0 with value: 0.5.\u001b[0m\n",
      "2023-03-28 04:14:30.220 | INFO     | __main__:__get_gbt_best_param:140 - Best hyperparameter are {'loss': 'exponential', 'learning_rate': 0.00010007903854383786, 'n_estimators': 372, 'subsample': 0.23208030173540176, 'criterion': 'squared_error', 'min_samples_split': 5, 'min_samples_leaf': 4, 'min_weight_fraction_leaf': 0.2694083670016785, 'max_depth': 6, 'min_impurity_decrease': 0.34260975019837975, 'max_features': 'log2', 'tol': 0.00012082666253305466, 'ccp_alpha': 0.3352337550892011} with a roc_auc of 0.5\n",
      "2023-03-28 04:14:30.227 | INFO     | CreditCard.utils.common:read_yaml_as_dict:57 - yaml file: optuna_hyper/model_params.yaml loaded successfully\n",
      "2023-03-28 04:14:30.227 | ERROR    | __main__:update_model_config_file:53 - Duplicate keys found in the config file and the data to update.Duplicate key is model_2 ,\n",
      "                            Data to update is {'model_2': {'Model_module': 'sklearn.ensemble', 'Model_class': 'GradientBoostingClassifier', 'Model_Best_params': {'loss': 'exponential', 'learning_rate': 0.00010007903854383786, 'n_estimators': 372, 'subsample': 0.23208030173540176, 'criterion': 'squared_error', 'min_samples_split': 5, 'min_samples_leaf': 4, 'min_weight_fraction_leaf': 0.2694083670016785, 'max_depth': 6, 'min_impurity_decrease': 0.34260975019837975, 'max_features': 'log2', 'tol': 0.00012082666253305466, 'ccp_alpha': 0.3352337550892011}, 'Model_Best_params_score': 0.5, 'training_artifact_file_path': 'optuna_hyper/gbt_study.csv'}}. Existing Config file duplicate's {'Model_Best_params': {'ccp_alpha': 0.3352337550892011, 'criterion': 'squared_error', 'learning_rate': 0.00010007903854383786, 'loss': 'exponential', 'max_depth': 6, 'max_features': 'log2', 'min_impurity_decrease': 0.34260975019837975, 'min_samples_leaf': 4, 'min_samples_split': 5, 'min_weight_fraction_leaf': 0.2694083670016785, 'n_estimators': 372, 'subsample': 0.23208030173540176, 'tol': 0.00012082666253305466}, 'Model_Best_params_score': 0.5, 'Model_class': 'GradientBoostingClassifier', 'Model_module': 'sklearn.ensemble', 'training_artifact_file_path': 'optuna_hyper/gbt_study.csv'}\n",
      "\u001b[32m[I 2023-03-28 04:14:30,234]\u001b[0m A new study created in memory with name: LGBM\u001b[0m\n",
      "/home/pk/miniconda3/envs/credit_card/lib/python3.9/site-packages/optuna/distributions.py:701: UserWarning: The distribution is specified by [0.2, 0.95] and step=0.1, but the range is not divisible by `step`. It will be replaced by [0.2, 0.9].\n",
      "  warnings.warn(\n"
     ]
    },
    {
     "name": "stdout",
     "output_type": "stream",
     "text": [
      "[LightGBM] [Warning] lambda_l1 is set=5.0, reg_alpha=0.0 will be ignored. Current value: lambda_l1=5.0\n",
      "[LightGBM] [Warning] bagging_fraction is set=0.5, subsample=1.0 will be ignored. Current value: bagging_fraction=0.5\n",
      "[LightGBM] [Warning] min_gain_to_split is set=35.0, min_split_gain=0.0 will be ignored. Current value: min_gain_to_split=35.0\n",
      "[LightGBM] [Warning] lambda_l2 is set=15.0, reg_lambda=0.0 will be ignored. Current value: lambda_l2=15.0\n",
      "[LightGBM] [Warning] feature_fraction is set=0.5, colsample_bytree=1.0 will be ignored. Current value: feature_fraction=0.5\n",
      "[LightGBM] [Warning] min_data_in_leaf is set=2, min_child_samples=20 will be ignored. Current value: min_data_in_leaf=2\n",
      "[LightGBM] [Warning] bagging_freq is set=6, subsample_freq=0 will be ignored. Current value: bagging_freq=6\n",
      "[LightGBM] [Warning] lambda_l1 is set=5.0, reg_alpha=0.0 will be ignored. Current value: lambda_l1=5.0\n",
      "[LightGBM] [Warning] bagging_fraction is set=0.5, subsample=1.0 will be ignored. Current value: bagging_fraction=0.5\n",
      "[LightGBM] [Warning] min_gain_to_split is set=35.0, min_split_gain=0.0 will be ignored. Current value: min_gain_to_split=35.0\n",
      "[LightGBM] [Warning] lambda_l2 is set=15.0, reg_lambda=0.0 will be ignored. Current value: lambda_l2=15.0\n",
      "[LightGBM] [Warning] feature_fraction is set=0.5, colsample_bytree=1.0 will be ignored. Current value: feature_fraction=0.5\n",
      "[LightGBM] [Warning] min_data_in_leaf is set=2, min_child_samples=20 will be ignored. Current value: min_data_in_leaf=2\n",
      "[LightGBM] [Warning] bagging_freq is set=6, subsample_freq=0 will be ignored. Current value: bagging_freq=6\n",
      "[LightGBM] [Warning] lambda_l1 is set=5.0, reg_alpha=0.0 will be ignored. Current value: lambda_l1=5.0\n",
      "[LightGBM] [Warning] bagging_fraction is set=0.5, subsample=1.0 will be ignored. Current value: bagging_fraction=0.5\n",
      "[LightGBM] [Warning] min_gain_to_split is set=35.0, min_split_gain=0.0 will be ignored. Current value: min_gain_to_split=35.0\n",
      "[LightGBM] [Warning] lambda_l2 is set=15.0, reg_lambda=0.0 will be ignored. Current value: lambda_l2=15.0\n",
      "[LightGBM] [Warning] feature_fraction is set=0.5, colsample_bytree=1.0 will be ignored. Current value: feature_fraction=0.5\n",
      "[LightGBM] [Warning] min_data_in_leaf is set=2, min_child_samples=20 will be ignored. Current value: min_data_in_leaf=2\n",
      "[LightGBM] [Warning] bagging_freq is set=6, subsample_freq=0 will be ignored. Current value: bagging_freq=6\n",
      "[LightGBM] [Warning] lambda_l1 is set=5.0, reg_alpha=0.0 will be ignored. Current value: lambda_l1=5.0\n",
      "[LightGBM] [Warning] bagging_fraction is set=0.5, subsample=1.0 will be ignored. Current value: bagging_fraction=0.5\n",
      "[LightGBM] [Warning] min_gain_to_split is set=35.0, min_split_gain=0.0 will be ignored. Current value: min_gain_to_split=35.0\n",
      "[LightGBM] [Warning] lambda_l2 is set=15.0, reg_lambda=0.0 will be ignored. Current value: lambda_l2=15.0\n",
      "[LightGBM] [Warning] feature_fraction is set=0.5, colsample_bytree=1.0 will be ignored. Current value: feature_fraction=0.5\n",
      "[LightGBM] [Warning] min_data_in_leaf is set=2, min_child_samples=20 will be ignored. Current value: min_data_in_leaf=2\n",
      "[LightGBM] [Warning] bagging_freq is set=6, subsample_freq=0 will be ignored. Current value: bagging_freq=6\n",
      "[LightGBM] [Warning] lambda_l1 is set=5.0, reg_alpha=0.0 will be ignored. Current value: lambda_l1=5.0\n",
      "[LightGBM] [Warning] bagging_fraction is set=0.5, subsample=1.0 will be ignored. Current value: bagging_fraction=0.5\n",
      "[LightGBM] [Warning] min_gain_to_split is set=35.0, min_split_gain=0.0 will be ignored. Current value: min_gain_to_split=35.0\n",
      "[LightGBM] [Warning] lambda_l2 is set=15.0, reg_lambda=0.0 will be ignored. Current value: lambda_l2=15.0\n",
      "[LightGBM] [Warning] feature_fraction is set=0.5, colsample_bytree=1.0 will be ignored. Current value: feature_fraction=0.5\n",
      "[LightGBM] [Warning] min_data_in_leaf is set=2, min_child_samples=20 will be ignored. Current value: min_data_in_leaf=2\n",
      "[LightGBM] [Warning] bagging_freq is set=6, subsample_freq=0 will be ignored. Current value: bagging_freq=6\n"
     ]
    },
    {
     "name": "stderr",
     "output_type": "stream",
     "text": [
      "\u001b[32m[I 2023-03-28 04:14:30,921]\u001b[0m Trial 0 finished with value: 0.7531974094280274 and parameters: {'n_estimators': 475, 'learning_rate': 0.01448683388723935, 'num_leaves': 2, 'max_depth': 5, 'min_data_in_leaf': 2, 'lambda_l1': 5.0, 'lambda_l2': 15.0, 'min_gain_to_split': 35.0, 'bagging_fraction': 0.5, 'bagging_freq': 6, 'feature_fraction': 0.5}. Best is trial 0 with value: 0.7531974094280274.\u001b[0m\n",
      "/home/pk/miniconda3/envs/credit_card/lib/python3.9/site-packages/optuna/distributions.py:701: UserWarning: The distribution is specified by [0.2, 0.95] and step=0.1, but the range is not divisible by `step`. It will be replaced by [0.2, 0.9].\n",
      "  warnings.warn(\n"
     ]
    },
    {
     "name": "stdout",
     "output_type": "stream",
     "text": [
      "[LightGBM] [Warning] lambda_l1 is set=40.0, reg_alpha=0.0 will be ignored. Current value: lambda_l1=40.0\n",
      "[LightGBM] [Warning] bagging_fraction is set=0.30000000000000004, subsample=1.0 will be ignored. Current value: bagging_fraction=0.30000000000000004\n",
      "[LightGBM] [Warning] min_gain_to_split is set=10.0, min_split_gain=0.0 will be ignored. Current value: min_gain_to_split=10.0\n",
      "[LightGBM] [Warning] lambda_l2 is set=55.0, reg_lambda=0.0 will be ignored. Current value: lambda_l2=55.0\n",
      "[LightGBM] [Warning] feature_fraction is set=0.9, colsample_bytree=1.0 will be ignored. Current value: feature_fraction=0.9\n",
      "[LightGBM] [Warning] min_data_in_leaf is set=7, min_child_samples=20 will be ignored. Current value: min_data_in_leaf=7\n",
      "[LightGBM] [Warning] bagging_freq is set=9, subsample_freq=0 will be ignored. Current value: bagging_freq=9\n",
      "[LightGBM] [Warning] lambda_l1 is set=40.0, reg_alpha=0.0 will be ignored. Current value: lambda_l1=40.0\n",
      "[LightGBM] [Warning] bagging_fraction is set=0.30000000000000004, subsample=1.0 will be ignored. Current value: bagging_fraction=0.30000000000000004\n",
      "[LightGBM] [Warning] min_gain_to_split is set=10.0, min_split_gain=0.0 will be ignored. Current value: min_gain_to_split=10.0\n",
      "[LightGBM] [Warning] lambda_l2 is set=55.0, reg_lambda=0.0 will be ignored. Current value: lambda_l2=55.0\n",
      "[LightGBM] [Warning] feature_fraction is set=0.9, colsample_bytree=1.0 will be ignored. Current value: feature_fraction=0.9\n",
      "[LightGBM] [Warning] min_data_in_leaf is set=7, min_child_samples=20 will be ignored. Current value: min_data_in_leaf=7\n",
      "[LightGBM] [Warning] bagging_freq is set=9, subsample_freq=0 will be ignored. Current value: bagging_freq=9\n",
      "[LightGBM] [Warning] lambda_l1 is set=40.0, reg_alpha=0.0 will be ignored. Current value: lambda_l1=40.0\n",
      "[LightGBM] [Warning] bagging_fraction is set=0.30000000000000004, subsample=1.0 will be ignored. Current value: bagging_fraction=0.30000000000000004\n",
      "[LightGBM] [Warning] min_gain_to_split is set=10.0, min_split_gain=0.0 will be ignored. Current value: min_gain_to_split=10.0\n",
      "[LightGBM] [Warning] lambda_l2 is set=55.0, reg_lambda=0.0 will be ignored. Current value: lambda_l2=55.0\n",
      "[LightGBM] [Warning] feature_fraction is set=0.9, colsample_bytree=1.0 will be ignored. Current value: feature_fraction=0.9\n",
      "[LightGBM] [Warning] min_data_in_leaf is set=7, min_child_samples=20 will be ignored. Current value: min_data_in_leaf=7\n",
      "[LightGBM] [Warning] bagging_freq is set=9, subsample_freq=0 will be ignored. Current value: bagging_freq=9\n",
      "[LightGBM] [Warning] lambda_l1 is set=40.0, reg_alpha=0.0 will be ignored. Current value: lambda_l1=40.0\n",
      "[LightGBM] [Warning] bagging_fraction is set=0.30000000000000004, subsample=1.0 will be ignored. Current value: bagging_fraction=0.30000000000000004\n",
      "[LightGBM] [Warning] min_gain_to_split is set=10.0, min_split_gain=0.0 will be ignored. Current value: min_gain_to_split=10.0\n",
      "[LightGBM] [Warning] lambda_l2 is set=55.0, reg_lambda=0.0 will be ignored. Current value: lambda_l2=55.0\n",
      "[LightGBM] [Warning] feature_fraction is set=0.9, colsample_bytree=1.0 will be ignored. Current value: feature_fraction=0.9\n",
      "[LightGBM] [Warning] min_data_in_leaf is set=7, min_child_samples=20 will be ignored. Current value: min_data_in_leaf=7\n",
      "[LightGBM] [Warning] bagging_freq is set=9, subsample_freq=0 will be ignored. Current value: bagging_freq=9\n",
      "[LightGBM] [Warning] lambda_l1 is set=40.0, reg_alpha=0.0 will be ignored. Current value: lambda_l1=40.0\n",
      "[LightGBM] [Warning] bagging_fraction is set=0.30000000000000004, subsample=1.0 will be ignored. Current value: bagging_fraction=0.30000000000000004\n",
      "[LightGBM] [Warning] min_gain_to_split is set=10.0, min_split_gain=0.0 will be ignored. Current value: min_gain_to_split=10.0\n",
      "[LightGBM] [Warning] lambda_l2 is set=55.0, reg_lambda=0.0 will be ignored. Current value: lambda_l2=55.0\n",
      "[LightGBM] [Warning] feature_fraction is set=0.9, colsample_bytree=1.0 will be ignored. Current value: feature_fraction=0.9\n",
      "[LightGBM] [Warning] min_data_in_leaf is set=7, min_child_samples=20 will be ignored. Current value: min_data_in_leaf=7\n",
      "[LightGBM] [Warning] bagging_freq is set=9, subsample_freq=0 will be ignored. Current value: bagging_freq=9\n"
     ]
    },
    {
     "name": "stderr",
     "output_type": "stream",
     "text": [
      "\u001b[32m[I 2023-03-28 04:14:32,152]\u001b[0m Trial 1 finished with value: 0.7557508700611251 and parameters: {'n_estimators': 717, 'learning_rate': 0.00041054120168588934, 'num_leaves': 225, 'max_depth': 3, 'min_data_in_leaf': 7, 'lambda_l1': 40.0, 'lambda_l2': 55.0, 'min_gain_to_split': 10.0, 'bagging_fraction': 0.30000000000000004, 'bagging_freq': 9, 'feature_fraction': 0.9}. Best is trial 1 with value: 0.7557508700611251.\u001b[0m\n",
      "/home/pk/miniconda3/envs/credit_card/lib/python3.9/site-packages/optuna/distributions.py:701: UserWarning: The distribution is specified by [0.2, 0.95] and step=0.1, but the range is not divisible by `step`. It will be replaced by [0.2, 0.9].\n",
      "  warnings.warn(\n"
     ]
    },
    {
     "name": "stdout",
     "output_type": "stream",
     "text": [
      "[LightGBM] [Warning] lambda_l1 is set=0.0, reg_alpha=0.0 will be ignored. Current value: lambda_l1=0.0\n",
      "[LightGBM] [Warning] bagging_fraction is set=0.2, subsample=1.0 will be ignored. Current value: bagging_fraction=0.2\n",
      "[LightGBM] [Warning] min_gain_to_split is set=90.0, min_split_gain=0.0 will be ignored. Current value: min_gain_to_split=90.0\n",
      "[LightGBM] [Warning] lambda_l2 is set=15.0, reg_lambda=0.0 will be ignored. Current value: lambda_l2=15.0\n",
      "[LightGBM] [Warning] feature_fraction is set=0.9, colsample_bytree=1.0 will be ignored. Current value: feature_fraction=0.9\n",
      "[LightGBM] [Warning] min_data_in_leaf is set=1, min_child_samples=20 will be ignored. Current value: min_data_in_leaf=1\n",
      "[LightGBM] [Warning] bagging_freq is set=5, subsample_freq=0 will be ignored. Current value: bagging_freq=5\n",
      "[LightGBM] [Warning] lambda_l1 is set=0.0, reg_alpha=0.0 will be ignored. Current value: lambda_l1=0.0\n",
      "[LightGBM] [Warning] bagging_fraction is set=0.2, subsample=1.0 will be ignored. Current value: bagging_fraction=0.2\n",
      "[LightGBM] [Warning] min_gain_to_split is set=90.0, min_split_gain=0.0 will be ignored. Current value: min_gain_to_split=90.0\n",
      "[LightGBM] [Warning] lambda_l2 is set=15.0, reg_lambda=0.0 will be ignored. Current value: lambda_l2=15.0\n",
      "[LightGBM] [Warning] feature_fraction is set=0.9, colsample_bytree=1.0 will be ignored. Current value: feature_fraction=0.9\n",
      "[LightGBM] [Warning] min_data_in_leaf is set=1, min_child_samples=20 will be ignored. Current value: min_data_in_leaf=1\n",
      "[LightGBM] [Warning] bagging_freq is set=5, subsample_freq=0 will be ignored. Current value: bagging_freq=5\n",
      "[LightGBM] [Warning] lambda_l1 is set=0.0, reg_alpha=0.0 will be ignored. Current value: lambda_l1=0.0\n",
      "[LightGBM] [Warning] bagging_fraction is set=0.2, subsample=1.0 will be ignored. Current value: bagging_fraction=0.2\n",
      "[LightGBM] [Warning] min_gain_to_split is set=90.0, min_split_gain=0.0 will be ignored. Current value: min_gain_to_split=90.0\n",
      "[LightGBM] [Warning] lambda_l2 is set=15.0, reg_lambda=0.0 will be ignored. Current value: lambda_l2=15.0\n",
      "[LightGBM] [Warning] feature_fraction is set=0.9, colsample_bytree=1.0 will be ignored. Current value: feature_fraction=0.9\n",
      "[LightGBM] [Warning] min_data_in_leaf is set=1, min_child_samples=20 will be ignored. Current value: min_data_in_leaf=1\n",
      "[LightGBM] [Warning] bagging_freq is set=5, subsample_freq=0 will be ignored. Current value: bagging_freq=5\n",
      "[LightGBM] [Warning] lambda_l1 is set=0.0, reg_alpha=0.0 will be ignored. Current value: lambda_l1=0.0\n",
      "[LightGBM] [Warning] bagging_fraction is set=0.2, subsample=1.0 will be ignored. Current value: bagging_fraction=0.2\n",
      "[LightGBM] [Warning] min_gain_to_split is set=90.0, min_split_gain=0.0 will be ignored. Current value: min_gain_to_split=90.0\n",
      "[LightGBM] [Warning] lambda_l2 is set=15.0, reg_lambda=0.0 will be ignored. Current value: lambda_l2=15.0\n",
      "[LightGBM] [Warning] feature_fraction is set=0.9, colsample_bytree=1.0 will be ignored. Current value: feature_fraction=0.9\n",
      "[LightGBM] [Warning] min_data_in_leaf is set=1, min_child_samples=20 will be ignored. Current value: min_data_in_leaf=1\n",
      "[LightGBM] [Warning] bagging_freq is set=5, subsample_freq=0 will be ignored. Current value: bagging_freq=5\n",
      "[LightGBM] [Warning] lambda_l1 is set=0.0, reg_alpha=0.0 will be ignored. Current value: lambda_l1=0.0\n",
      "[LightGBM] [Warning] bagging_fraction is set=0.2, subsample=1.0 will be ignored. Current value: bagging_fraction=0.2\n",
      "[LightGBM] [Warning] min_gain_to_split is set=90.0, min_split_gain=0.0 will be ignored. Current value: min_gain_to_split=90.0\n",
      "[LightGBM] [Warning] lambda_l2 is set=15.0, reg_lambda=0.0 will be ignored. Current value: lambda_l2=15.0\n",
      "[LightGBM] [Warning] feature_fraction is set=0.9, colsample_bytree=1.0 will be ignored. Current value: feature_fraction=0.9\n",
      "[LightGBM] [Warning] min_data_in_leaf is set=1, min_child_samples=20 will be ignored. Current value: min_data_in_leaf=1\n",
      "[LightGBM] [Warning] bagging_freq is set=5, subsample_freq=0 will be ignored. Current value: bagging_freq=5\n"
     ]
    },
    {
     "name": "stderr",
     "output_type": "stream",
     "text": [
      "\u001b[32m[I 2023-03-28 04:14:32,750]\u001b[0m Trial 2 finished with value: 0.7225822756818936 and parameters: {'n_estimators': 382, 'learning_rate': 0.011938997108268644, 'num_leaves': 225, 'max_depth': 10, 'min_data_in_leaf': 1, 'lambda_l1': 0.0, 'lambda_l2': 15.0, 'min_gain_to_split': 90.0, 'bagging_fraction': 0.2, 'bagging_freq': 5, 'feature_fraction': 0.9}. Best is trial 1 with value: 0.7557508700611251.\u001b[0m\n",
      "/home/pk/miniconda3/envs/credit_card/lib/python3.9/site-packages/optuna/distributions.py:701: UserWarning: The distribution is specified by [0.2, 0.95] and step=0.1, but the range is not divisible by `step`. It will be replaced by [0.2, 0.9].\n",
      "  warnings.warn(\n"
     ]
    },
    {
     "name": "stdout",
     "output_type": "stream",
     "text": [
      "[LightGBM] [Warning] lambda_l1 is set=0.0, reg_alpha=0.0 will be ignored. Current value: lambda_l1=0.0\n",
      "[LightGBM] [Warning] bagging_fraction is set=0.7, subsample=1.0 will be ignored. Current value: bagging_fraction=0.7\n",
      "[LightGBM] [Warning] min_gain_to_split is set=100.0, min_split_gain=0.0 will be ignored. Current value: min_gain_to_split=100.0\n",
      "[LightGBM] [Warning] lambda_l2 is set=75.0, reg_lambda=0.0 will be ignored. Current value: lambda_l2=75.0\n",
      "[LightGBM] [Warning] feature_fraction is set=0.8, colsample_bytree=1.0 will be ignored. Current value: feature_fraction=0.8\n",
      "[LightGBM] [Warning] min_data_in_leaf is set=9, min_child_samples=20 will be ignored. Current value: min_data_in_leaf=9\n",
      "[LightGBM] [Warning] bagging_freq is set=3, subsample_freq=0 will be ignored. Current value: bagging_freq=3\n",
      "[LightGBM] [Warning] lambda_l1 is set=0.0, reg_alpha=0.0 will be ignored. Current value: lambda_l1=0.0\n",
      "[LightGBM] [Warning] bagging_fraction is set=0.7, subsample=1.0 will be ignored. Current value: bagging_fraction=0.7\n",
      "[LightGBM] [Warning] min_gain_to_split is set=100.0, min_split_gain=0.0 will be ignored. Current value: min_gain_to_split=100.0\n",
      "[LightGBM] [Warning] lambda_l2 is set=75.0, reg_lambda=0.0 will be ignored. Current value: lambda_l2=75.0\n",
      "[LightGBM] [Warning] feature_fraction is set=0.8, colsample_bytree=1.0 will be ignored. Current value: feature_fraction=0.8\n",
      "[LightGBM] [Warning] min_data_in_leaf is set=9, min_child_samples=20 will be ignored. Current value: min_data_in_leaf=9\n",
      "[LightGBM] [Warning] bagging_freq is set=3, subsample_freq=0 will be ignored. Current value: bagging_freq=3\n",
      "[LightGBM] [Warning] lambda_l1 is set=0.0, reg_alpha=0.0 will be ignored. Current value: lambda_l1=0.0\n",
      "[LightGBM] [Warning] bagging_fraction is set=0.7, subsample=1.0 will be ignored. Current value: bagging_fraction=0.7\n",
      "[LightGBM] [Warning] min_gain_to_split is set=100.0, min_split_gain=0.0 will be ignored. Current value: min_gain_to_split=100.0\n",
      "[LightGBM] [Warning] lambda_l2 is set=75.0, reg_lambda=0.0 will be ignored. Current value: lambda_l2=75.0\n",
      "[LightGBM] [Warning] feature_fraction is set=0.8, colsample_bytree=1.0 will be ignored. Current value: feature_fraction=0.8\n",
      "[LightGBM] [Warning] min_data_in_leaf is set=9, min_child_samples=20 will be ignored. Current value: min_data_in_leaf=9\n",
      "[LightGBM] [Warning] bagging_freq is set=3, subsample_freq=0 will be ignored. Current value: bagging_freq=3\n",
      "[LightGBM] [Warning] lambda_l1 is set=0.0, reg_alpha=0.0 will be ignored. Current value: lambda_l1=0.0\n",
      "[LightGBM] [Warning] bagging_fraction is set=0.7, subsample=1.0 will be ignored. Current value: bagging_fraction=0.7\n",
      "[LightGBM] [Warning] min_gain_to_split is set=100.0, min_split_gain=0.0 will be ignored. Current value: min_gain_to_split=100.0\n",
      "[LightGBM] [Warning] lambda_l2 is set=75.0, reg_lambda=0.0 will be ignored. Current value: lambda_l2=75.0\n",
      "[LightGBM] [Warning] feature_fraction is set=0.8, colsample_bytree=1.0 will be ignored. Current value: feature_fraction=0.8\n",
      "[LightGBM] [Warning] min_data_in_leaf is set=9, min_child_samples=20 will be ignored. Current value: min_data_in_leaf=9\n",
      "[LightGBM] [Warning] bagging_freq is set=3, subsample_freq=0 will be ignored. Current value: bagging_freq=3\n",
      "[LightGBM] [Warning] lambda_l1 is set=0.0, reg_alpha=0.0 will be ignored. Current value: lambda_l1=0.0\n",
      "[LightGBM] [Warning] bagging_fraction is set=0.7, subsample=1.0 will be ignored. Current value: bagging_fraction=0.7\n",
      "[LightGBM] [Warning] min_gain_to_split is set=100.0, min_split_gain=0.0 will be ignored. Current value: min_gain_to_split=100.0\n",
      "[LightGBM] [Warning] lambda_l2 is set=75.0, reg_lambda=0.0 will be ignored. Current value: lambda_l2=75.0\n",
      "[LightGBM] [Warning] feature_fraction is set=0.8, colsample_bytree=1.0 will be ignored. Current value: feature_fraction=0.8\n",
      "[LightGBM] [Warning] min_data_in_leaf is set=9, min_child_samples=20 will be ignored. Current value: min_data_in_leaf=9\n",
      "[LightGBM] [Warning] bagging_freq is set=3, subsample_freq=0 will be ignored. Current value: bagging_freq=3\n"
     ]
    },
    {
     "name": "stderr",
     "output_type": "stream",
     "text": [
      "\u001b[32m[I 2023-03-28 04:14:33,830]\u001b[0m Trial 3 finished with value: 0.7458660793006142 and parameters: {'n_estimators': 580, 'learning_rate': 0.011902312313548788, 'num_leaves': 82, 'max_depth': 8, 'min_data_in_leaf': 9, 'lambda_l1': 0.0, 'lambda_l2': 75.0, 'min_gain_to_split': 100.0, 'bagging_fraction': 0.7, 'bagging_freq': 3, 'feature_fraction': 0.8}. Best is trial 1 with value: 0.7557508700611251.\u001b[0m\n",
      "/home/pk/miniconda3/envs/credit_card/lib/python3.9/site-packages/optuna/distributions.py:701: UserWarning: The distribution is specified by [0.2, 0.95] and step=0.1, but the range is not divisible by `step`. It will be replaced by [0.2, 0.9].\n",
      "  warnings.warn(\n"
     ]
    },
    {
     "name": "stdout",
     "output_type": "stream",
     "text": [
      "[LightGBM] [Warning] lambda_l1 is set=10.0, reg_alpha=0.0 will be ignored. Current value: lambda_l1=10.0\n",
      "[LightGBM] [Warning] bagging_fraction is set=0.30000000000000004, subsample=1.0 will be ignored. Current value: bagging_fraction=0.30000000000000004\n",
      "[LightGBM] [Warning] min_gain_to_split is set=70.0, min_split_gain=0.0 will be ignored. Current value: min_gain_to_split=70.0\n",
      "[LightGBM] [Warning] lambda_l2 is set=0.0, reg_lambda=0.0 will be ignored. Current value: lambda_l2=0.0\n",
      "[LightGBM] [Warning] feature_fraction is set=0.5, colsample_bytree=1.0 will be ignored. Current value: feature_fraction=0.5\n",
      "[LightGBM] [Warning] min_data_in_leaf is set=3, min_child_samples=20 will be ignored. Current value: min_data_in_leaf=3\n",
      "[LightGBM] [Warning] bagging_freq is set=3, subsample_freq=0 will be ignored. Current value: bagging_freq=3\n",
      "[LightGBM] [Warning] lambda_l1 is set=10.0, reg_alpha=0.0 will be ignored. Current value: lambda_l1=10.0\n",
      "[LightGBM] [Warning] bagging_fraction is set=0.30000000000000004, subsample=1.0 will be ignored. Current value: bagging_fraction=0.30000000000000004\n",
      "[LightGBM] [Warning] min_gain_to_split is set=70.0, min_split_gain=0.0 will be ignored. Current value: min_gain_to_split=70.0\n",
      "[LightGBM] [Warning] lambda_l2 is set=0.0, reg_lambda=0.0 will be ignored. Current value: lambda_l2=0.0\n",
      "[LightGBM] [Warning] feature_fraction is set=0.5, colsample_bytree=1.0 will be ignored. Current value: feature_fraction=0.5\n",
      "[LightGBM] [Warning] min_data_in_leaf is set=3, min_child_samples=20 will be ignored. Current value: min_data_in_leaf=3\n",
      "[LightGBM] [Warning] bagging_freq is set=3, subsample_freq=0 will be ignored. Current value: bagging_freq=3\n",
      "[LightGBM] [Warning] lambda_l1 is set=10.0, reg_alpha=0.0 will be ignored. Current value: lambda_l1=10.0\n",
      "[LightGBM] [Warning] bagging_fraction is set=0.30000000000000004, subsample=1.0 will be ignored. Current value: bagging_fraction=0.30000000000000004\n",
      "[LightGBM] [Warning] min_gain_to_split is set=70.0, min_split_gain=0.0 will be ignored. Current value: min_gain_to_split=70.0\n",
      "[LightGBM] [Warning] lambda_l2 is set=0.0, reg_lambda=0.0 will be ignored. Current value: lambda_l2=0.0\n",
      "[LightGBM] [Warning] feature_fraction is set=0.5, colsample_bytree=1.0 will be ignored. Current value: feature_fraction=0.5\n",
      "[LightGBM] [Warning] min_data_in_leaf is set=3, min_child_samples=20 will be ignored. Current value: min_data_in_leaf=3\n",
      "[LightGBM] [Warning] bagging_freq is set=3, subsample_freq=0 will be ignored. Current value: bagging_freq=3\n",
      "[LightGBM] [Warning] lambda_l1 is set=10.0, reg_alpha=0.0 will be ignored. Current value: lambda_l1=10.0\n",
      "[LightGBM] [Warning] bagging_fraction is set=0.30000000000000004, subsample=1.0 will be ignored. Current value: bagging_fraction=0.30000000000000004\n",
      "[LightGBM] [Warning] min_gain_to_split is set=70.0, min_split_gain=0.0 will be ignored. Current value: min_gain_to_split=70.0\n",
      "[LightGBM] [Warning] lambda_l2 is set=0.0, reg_lambda=0.0 will be ignored. Current value: lambda_l2=0.0\n",
      "[LightGBM] [Warning] feature_fraction is set=0.5, colsample_bytree=1.0 will be ignored. Current value: feature_fraction=0.5\n",
      "[LightGBM] [Warning] min_data_in_leaf is set=3, min_child_samples=20 will be ignored. Current value: min_data_in_leaf=3\n",
      "[LightGBM] [Warning] bagging_freq is set=3, subsample_freq=0 will be ignored. Current value: bagging_freq=3\n",
      "[LightGBM] [Warning] lambda_l1 is set=10.0, reg_alpha=0.0 will be ignored. Current value: lambda_l1=10.0\n",
      "[LightGBM] [Warning] bagging_fraction is set=0.30000000000000004, subsample=1.0 will be ignored. Current value: bagging_fraction=0.30000000000000004\n",
      "[LightGBM] [Warning] min_gain_to_split is set=70.0, min_split_gain=0.0 will be ignored. Current value: min_gain_to_split=70.0\n",
      "[LightGBM] [Warning] lambda_l2 is set=0.0, reg_lambda=0.0 will be ignored. Current value: lambda_l2=0.0\n",
      "[LightGBM] [Warning] feature_fraction is set=0.5, colsample_bytree=1.0 will be ignored. Current value: feature_fraction=0.5\n",
      "[LightGBM] [Warning] min_data_in_leaf is set=3, min_child_samples=20 will be ignored. Current value: min_data_in_leaf=3\n",
      "[LightGBM] [Warning] bagging_freq is set=3, subsample_freq=0 will be ignored. Current value: bagging_freq=3\n"
     ]
    },
    {
     "name": "stderr",
     "output_type": "stream",
     "text": [
      "\u001b[32m[I 2023-03-28 04:14:34,234]\u001b[0m Trial 4 finished with value: 0.7357661373386222 and parameters: {'n_estimators': 193, 'learning_rate': 0.002206381353378887, 'num_leaves': 233, 'max_depth': 5, 'min_data_in_leaf': 3, 'lambda_l1': 10.0, 'lambda_l2': 0.0, 'min_gain_to_split': 70.0, 'bagging_fraction': 0.30000000000000004, 'bagging_freq': 3, 'feature_fraction': 0.5}. Best is trial 1 with value: 0.7557508700611251.\u001b[0m\n",
      "2023-03-28 04:14:34.236 | INFO     | __main__:__get_lgbm_best_param:188 - Best hyperparameter are {'n_estimators': 717, 'learning_rate': 0.00041054120168588934, 'num_leaves': 225, 'max_depth': 3, 'min_data_in_leaf': 7, 'lambda_l1': 40.0, 'lambda_l2': 55.0, 'min_gain_to_split': 10.0, 'bagging_fraction': 0.30000000000000004, 'bagging_freq': 9, 'feature_fraction': 0.9} with a roc_auc of 0.7557508700611251\n",
      "2023-03-28 04:14:34.250 | INFO     | CreditCard.utils.common:read_yaml_as_dict:57 - yaml file: optuna_hyper/model_params.yaml loaded successfully\n",
      "2023-03-28 04:14:34.251 | ERROR    | __main__:update_model_config_file:53 - Duplicate keys found in the config file and the data to update.Duplicate key is model_3 ,\n",
      "                            Data to update is {'model_3': {'Model_module': 'lightgbm', 'Model_class': 'LGBMClassifier', 'Model_Best_params': {'n_estimators': 717, 'learning_rate': 0.00041054120168588934, 'num_leaves': 225, 'max_depth': 3, 'min_data_in_leaf': 7, 'lambda_l1': 40.0, 'lambda_l2': 55.0, 'min_gain_to_split': 10.0, 'bagging_fraction': 0.30000000000000004, 'bagging_freq': 9, 'feature_fraction': 0.9}, 'Model_Best_params_score': 0.7557508700611251, 'training_artifact_file_path': 'optuna_hyper/lgbt_study.csv'}}. Existing Config file duplicate's {'Model_Best_params': {'bagging_fraction': 0.30000000000000004, 'bagging_freq': 9, 'feature_fraction': 0.9, 'lambda_l1': 40.0, 'lambda_l2': 55.0, 'learning_rate': 0.00041054120168588934, 'max_depth': 3, 'min_data_in_leaf': 7, 'min_gain_to_split': 10.0, 'n_estimators': 717, 'num_leaves': 225}, 'Model_Best_params_score': 0.7557508700611251, 'Model_class': 'LGBMClassifier', 'Model_module': 'lightgbm', 'training_artifact_file_path': 'optuna_hyper/lgbt_study.csv'}\n",
      "\u001b[32m[I 2023-03-28 04:14:34,260]\u001b[0m A new study created in memory with name: XGBOOST\u001b[0m\n",
      "\u001b[32m[I 2023-03-28 04:14:35,466]\u001b[0m Trial 0 finished with value: 0.5 and parameters: {'loss': 'exponential', 'learning_rate': 0.00010007903854383786, 'n_estimators': 372, 'subsample': 0.23208030173540176, 'criterion': 'squared_error', 'min_samples_split': 5, 'min_samples_leaf': 4, 'min_weight_fraction_leaf': 0.2694083670016785, 'max_depth': 6, 'min_impurity_decrease': 0.34260975019837975, 'max_features': 'log2', 'tol': 0.00012082666253305466, 'ccp_alpha': 0.3352337550892011}. Best is trial 0 with value: 0.5.\u001b[0m\n",
      "\u001b[32m[I 2023-03-28 04:14:36,599]\u001b[0m Trial 1 finished with value: 0.5 and parameters: {'loss': 'exponential', 'learning_rate': 0.0002637307779092464, 'n_estimators': 278, 'subsample': 0.820670111807983, 'criterion': 'friedman_mse', 'min_samples_split': 8, 'min_samples_leaf': 9, 'min_weight_fraction_leaf': 0.44730333175192366, 'max_depth': 3, 'min_impurity_decrease': 0.01952739161644118, 'max_features': 'log2', 'tol': 0.0001972606689184097, 'ccp_alpha': 0.21055381250252608}. Best is trial 0 with value: 0.5.\u001b[0m\n",
      "\u001b[32m[I 2023-03-28 04:14:38,151]\u001b[0m Trial 2 finished with value: 0.5 and parameters: {'loss': 'log_loss', 'learning_rate': 0.011902312313548788, 'n_estimators': 384, 'subsample': 0.7178508349134253, 'criterion': 'friedman_mse', 'min_samples_split': 8, 'min_samples_leaf': 10, 'min_weight_fraction_leaf': 0.3740828271899197, 'max_depth': 5, 'min_impurity_decrease': 0.39463966422574426, 'max_features': 'log2', 'tol': 0.05318467494773383, 'ccp_alpha': 0.14680707418683975}. Best is trial 0 with value: 0.5.\u001b[0m\n",
      "\u001b[32m[I 2023-03-28 04:14:40,433]\u001b[0m Trial 3 finished with value: 0.5 and parameters: {'loss': 'log_loss', 'learning_rate': 0.0001143143822054878, 'n_estimators': 711, 'subsample': 0.29046530440005314, 'criterion': 'squared_error', 'min_samples_split': 2, 'min_samples_leaf': 6, 'min_weight_fraction_leaf': 0.07336428745290507, 'max_depth': 7, 'min_impurity_decrease': 0.3498791800104656, 'max_features': 'log2', 'tol': 0.012111570825917514, 'ccp_alpha': 0.20708963476345132}. Best is trial 0 with value: 0.5.\u001b[0m\n",
      "\u001b[32m[I 2023-03-28 04:14:42,580]\u001b[0m Trial 4 finished with value: 0.5 and parameters: {'loss': 'exponential', 'learning_rate': 0.00980356281034032, 'n_estimators': 563, 'subsample': 0.950135280391732, 'criterion': 'squared_error', 'min_samples_split': 3, 'min_samples_leaf': 2, 'min_weight_fraction_leaf': 0.4036956443547619, 'max_depth': 6, 'min_impurity_decrease': 0.08267709855846639, 'max_features': 'sqrt', 'tol': 0.01788283252760715, 'ccp_alpha': 0.36299899267522573}. Best is trial 0 with value: 0.5.\u001b[0m\n",
      "2023-03-28 04:14:42.580 | INFO     | __main__:__get_xgboost_best_param:234 - Best hyperparameter are {'loss': 'exponential', 'learning_rate': 0.00010007903854383786, 'n_estimators': 372, 'subsample': 0.23208030173540176, 'criterion': 'squared_error', 'min_samples_split': 5, 'min_samples_leaf': 4, 'min_weight_fraction_leaf': 0.2694083670016785, 'max_depth': 6, 'min_impurity_decrease': 0.34260975019837975, 'max_features': 'log2', 'tol': 0.00012082666253305466, 'ccp_alpha': 0.3352337550892011} with a roc_auc of 0.5\n",
      "2023-03-28 04:14:42.586 | INFO     | CreditCard.utils.common:read_yaml_as_dict:57 - yaml file: optuna_hyper/model_params.yaml loaded successfully\n",
      "2023-03-28 04:14:42.587 | ERROR    | __main__:update_model_config_file:53 - Duplicate keys found in the config file and the data to update.Duplicate key is model_4 ,\n",
      "                            Data to update is {'model_4': {'Model_module': 'xgboost', 'Model_class': 'XGBClassifier', 'Model_Best_params': {'loss': 'exponential', 'learning_rate': 0.00010007903854383786, 'n_estimators': 372, 'subsample': 0.23208030173540176, 'criterion': 'squared_error', 'min_samples_split': 5, 'min_samples_leaf': 4, 'min_weight_fraction_leaf': 0.2694083670016785, 'max_depth': 6, 'min_impurity_decrease': 0.34260975019837975, 'max_features': 'log2', 'tol': 0.00012082666253305466, 'ccp_alpha': 0.3352337550892011}, 'Model_Best_params_score': 0.5, 'training_artifact_file_path': 'optuna_hyper/xgboost_study.csv'}}. Existing Config file duplicate's {'Model_Best_params': {'ccp_alpha': 0.3352337550892011, 'criterion': 'squared_error', 'learning_rate': 0.00010007903854383786, 'loss': 'exponential', 'max_depth': 6, 'max_features': 'log2', 'min_impurity_decrease': 0.34260975019837975, 'min_samples_leaf': 4, 'min_samples_split': 5, 'min_weight_fraction_leaf': 0.2694083670016785, 'n_estimators': 372, 'subsample': 0.23208030173540176, 'tol': 0.00012082666253305466}, 'Model_Best_params_score': 0.5, 'Model_class': 'XGBClassifier', 'Model_module': 'xgboost', 'training_artifact_file_path': 'optuna_hyper/xgboost_study.csv'}\n",
      "\u001b[32m[I 2023-03-28 04:14:42,594]\u001b[0m A new study created in memory with name: RF\u001b[0m\n",
      "\u001b[32m[I 2023-03-28 04:14:45,066]\u001b[0m Trial 0 finished with value: 0.7460960892116418 and parameters: {'bootstrap': False, 'criterion': 'entropy', 'max_depth': 4, 'max_leaf_nodes': 2, 'min_samples_leaf': 2, 'n_estimators': 411}. Best is trial 0 with value: 0.7460960892116418.\u001b[0m\n",
      "\u001b[32m[I 2023-03-28 04:14:50,430]\u001b[0m Trial 1 finished with value: 0.7578216845124783 and parameters: {'bootstrap': False, 'criterion': 'entropy', 'max_depth': 4, 'max_leaf_nodes': 9, 'min_samples_leaf': 1, 'n_estimators': 704}. Best is trial 1 with value: 0.7578216845124783.\u001b[0m\n",
      "\u001b[32m[I 2023-03-28 04:14:56,660]\u001b[0m Trial 2 finished with value: 0.7596575487619084 and parameters: {'bootstrap': False, 'criterion': 'entropy', 'max_depth': 9, 'max_leaf_nodes': 10, 'min_samples_leaf': 4, 'n_estimators': 723}. Best is trial 2 with value: 0.7596575487619084.\u001b[0m\n",
      "\u001b[32m[I 2023-03-28 04:15:00,326]\u001b[0m Trial 3 finished with value: 0.7572862160652127 and parameters: {'bootstrap': False, 'criterion': 'gini', 'max_depth': 4, 'max_leaf_nodes': 9, 'min_samples_leaf': 1, 'n_estimators': 479}. Best is trial 2 with value: 0.7596575487619084.\u001b[0m\n",
      "\u001b[32m[I 2023-03-28 04:15:05,109]\u001b[0m Trial 4 finished with value: 0.758682429626542 and parameters: {'bootstrap': True, 'criterion': 'gini', 'max_depth': 8, 'max_leaf_nodes': 9, 'min_samples_leaf': 1, 'n_estimators': 775}. Best is trial 2 with value: 0.7596575487619084.\u001b[0m\n",
      "2023-03-28 04:15:05.111 | INFO     | __main__:__get_rf_best_param:280 - Best hyperparameter are {'bootstrap': False, 'criterion': 'entropy', 'max_depth': 9, 'max_leaf_nodes': 10, 'min_samples_leaf': 4, 'n_estimators': 723} with a roc_auc of 0.7596575487619084\n",
      "2023-03-28 04:15:05.134 | INFO     | CreditCard.utils.common:read_yaml_as_dict:57 - yaml file: optuna_hyper/model_params.yaml loaded successfully\n",
      "2023-03-28 04:15:05.135 | ERROR    | __main__:update_model_config_file:53 - Duplicate keys found in the config file and the data to update.Duplicate key is model_5 ,\n",
      "                            Data to update is {'model_5': {'Model_module': 'sklearn.ensemble', 'Model_class': 'RandomForestClassifier', 'Model_Best_params': {'bootstrap': False, 'criterion': 'entropy', 'max_depth': 9, 'max_leaf_nodes': 10, 'min_samples_leaf': 4, 'n_estimators': 723}, 'Model_Best_params_score': 0.7596575487619084, 'training_artifact_file_path': 'optuna_hyper/xgboost_study.csv'}}. Existing Config file duplicate's {'Model_Best_params': {'bootstrap': False, 'criterion': 'entropy', 'max_depth': 9, 'max_leaf_nodes': 10, 'min_samples_leaf': 4, 'n_estimators': 723}, 'Model_Best_params_score': 0.759424978044337, 'Model_class': 'RandomForestClassifier', 'Model_module': 'sklearn.ensemble', 'training_artifact_file_path': 'optuna_hyper/xgboost_study.csv'}\n",
      "\u001b[32m[I 2023-03-28 04:15:05,153]\u001b[0m A new study created in memory with name: CATBOOST\u001b[0m\n",
      "\u001b[32m[I 2023-03-28 04:15:07,642]\u001b[0m Trial 0 finished with value: 0.7467551085850184 and parameters: {'bootstrap': False, 'criterion': 'entropy', 'max_depth': 4, 'max_leaf_nodes': 2, 'min_samples_leaf': 2, 'n_estimators': 411}. Best is trial 0 with value: 0.7467551085850184.\u001b[0m\n",
      "\u001b[32m[I 2023-03-28 04:15:12,956]\u001b[0m Trial 1 finished with value: 0.7578939672610382 and parameters: {'bootstrap': False, 'criterion': 'entropy', 'max_depth': 4, 'max_leaf_nodes': 9, 'min_samples_leaf': 1, 'n_estimators': 704}. Best is trial 1 with value: 0.7578939672610382.\u001b[0m\n",
      "\u001b[32m[I 2023-03-28 04:15:19,030]\u001b[0m Trial 2 finished with value: 0.7592822610797575 and parameters: {'bootstrap': False, 'criterion': 'entropy', 'max_depth': 9, 'max_leaf_nodes': 10, 'min_samples_leaf': 4, 'n_estimators': 723}. Best is trial 2 with value: 0.7592822610797575.\u001b[0m\n",
      "\u001b[32m[I 2023-03-28 04:15:22,718]\u001b[0m Trial 3 finished with value: 0.757208812559971 and parameters: {'bootstrap': False, 'criterion': 'gini', 'max_depth': 4, 'max_leaf_nodes': 9, 'min_samples_leaf': 1, 'n_estimators': 479}. Best is trial 2 with value: 0.7592822610797575.\u001b[0m\n",
      "\u001b[32m[I 2023-03-28 04:15:27,599]\u001b[0m Trial 4 finished with value: 0.758223972475972 and parameters: {'bootstrap': True, 'criterion': 'gini', 'max_depth': 8, 'max_leaf_nodes': 9, 'min_samples_leaf': 1, 'n_estimators': 775}. Best is trial 2 with value: 0.7592822610797575.\u001b[0m\n",
      "2023-03-28 04:15:27.601 | INFO     | __main__:__get_catboost_best_param:330 - Best hyperparameter are {'bootstrap': False, 'criterion': 'entropy', 'max_depth': 9, 'max_leaf_nodes': 10, 'min_samples_leaf': 4, 'n_estimators': 723} with a roc_auc of 0.7592822610797575\n",
      "2023-03-28 04:15:27.616 | INFO     | CreditCard.utils.common:read_yaml_as_dict:57 - yaml file: optuna_hyper/model_params.yaml loaded successfully\n",
      "2023-03-28 04:15:27.616 | ERROR    | __main__:update_model_config_file:53 - Duplicate keys found in the config file and the data to update.Duplicate key is model_6 ,\n",
      "                            Data to update is {'model_6': {'Model_module': 'catboost', 'Model_class': 'CatBoostClassifier', 'Model_Best_params': {'bootstrap': False, 'criterion': 'entropy', 'max_depth': 9, 'max_leaf_nodes': 10, 'min_samples_leaf': 4, 'n_estimators': 723}, 'Model_Best_params_score': 0.7592822610797575, 'training_artifact_file_path': 'optuna_hyper/catboost_study.csv'}}. Existing Config file duplicate's {'Model_Best_params': {'bootstrap': False, 'criterion': 'entropy', 'max_depth': 9, 'max_leaf_nodes': 10, 'min_samples_leaf': 4, 'n_estimators': 723}, 'Model_Best_params_score': 0.7595458359837595, 'Model_class': 'CatBoostClassifier', 'Model_module': 'catboost', 'training_artifact_file_path': 'optuna_hyper/catboost_study.csv'}\n",
      "2023-03-28 04:15:27.635 | INFO     | CreditCard.utils.common:read_yaml:34 - yaml file: optuna_hyper/model_params.yaml loaded successfully\n",
      "2023-03-28 04:15:27.635 | INFO     | __main__:update_property_of_class:384 - {'shrinkage': 'auto', 'solver': 'lsqr', 'tol': 0.00018924123965722266}\n",
      "2023-03-28 04:15:27.635 | INFO     | __main__:update_property_of_class:384 - {'ccp_alpha': 0.3352337550892011, 'criterion': 'squared_error', 'learning_rate': 0.00010007903854383786, 'loss': 'exponential', 'max_depth': 6, 'max_features': 'log2', 'min_impurity_decrease': 0.34260975019837975, 'min_samples_leaf': 4, 'min_samples_split': 5, 'min_weight_fraction_leaf': 0.2694083670016785, 'n_estimators': 372, 'subsample': 0.23208030173540176, 'tol': 0.00012082666253305466}\n",
      "2023-03-28 04:15:27.636 | INFO     | __main__:update_property_of_class:384 - {'bagging_fraction': 0.30000000000000004, 'bagging_freq': 9, 'feature_fraction': 0.9, 'lambda_l1': 40.0, 'lambda_l2': 55.0, 'learning_rate': 0.00041054120168588934, 'max_depth': 3, 'min_data_in_leaf': 7, 'min_gain_to_split': 10.0, 'n_estimators': 717, 'num_leaves': 225}\n",
      "2023-03-28 04:15:27.636 | INFO     | __main__:update_property_of_class:384 - {'ccp_alpha': 0.3352337550892011, 'criterion': 'squared_error', 'learning_rate': 0.00010007903854383786, 'loss': 'exponential', 'max_depth': 6, 'max_features': 'log2', 'min_impurity_decrease': 0.34260975019837975, 'min_samples_leaf': 4, 'min_samples_split': 5, 'min_weight_fraction_leaf': 0.2694083670016785, 'n_estimators': 372, 'subsample': 0.23208030173540176, 'tol': 0.00012082666253305466}\n",
      "2023-03-28 04:15:27.636 | INFO     | __main__:update_property_of_class:384 - {'bootstrap': False, 'criterion': 'entropy', 'max_depth': 9, 'max_leaf_nodes': 10, 'min_samples_leaf': 4, 'n_estimators': 723}\n",
      "2023-03-28 04:15:27.636 | INFO     | __main__:update_property_of_class:384 - {'bootstrap': False, 'criterion': 'entropy', 'max_depth': 9, 'max_leaf_nodes': 10, 'min_samples_leaf': 4, 'n_estimators': 723}\n"
     ]
    },
    {
     "name": "stdout",
     "output_type": "stream",
     "text": [
      "Learning rate set to 0.036383\n",
      "0:\tlearn: 0.6728346\ttotal: 102ms\tremaining: 1m 42s\n",
      "1:\tlearn: 0.6547395\ttotal: 125ms\tremaining: 1m 2s\n",
      "2:\tlearn: 0.6380232\ttotal: 139ms\tremaining: 46.2s\n",
      "3:\tlearn: 0.6225413\ttotal: 148ms\tremaining: 36.8s\n",
      "4:\tlearn: 0.6084732\ttotal: 156ms\tremaining: 31.1s\n",
      "5:\tlearn: 0.5952994\ttotal: 163ms\tremaining: 26.9s\n",
      "6:\tlearn: 0.5834605\ttotal: 169ms\tremaining: 24s\n",
      "7:\tlearn: 0.5724866\ttotal: 174ms\tremaining: 21.6s\n",
      "8:\tlearn: 0.5625975\ttotal: 180ms\tremaining: 19.8s\n",
      "9:\tlearn: 0.5532831\ttotal: 188ms\tremaining: 18.6s\n",
      "10:\tlearn: 0.5444597\ttotal: 193ms\tremaining: 17.4s\n",
      "11:\tlearn: 0.5365303\ttotal: 199ms\tremaining: 16.4s\n",
      "12:\tlearn: 0.5294301\ttotal: 203ms\tremaining: 15.4s\n",
      "13:\tlearn: 0.5227412\ttotal: 212ms\tremaining: 14.9s\n",
      "14:\tlearn: 0.5169828\ttotal: 221ms\tremaining: 14.5s\n",
      "15:\tlearn: 0.5112948\ttotal: 229ms\tremaining: 14.1s\n",
      "16:\tlearn: 0.5054946\ttotal: 235ms\tremaining: 13.6s\n",
      "17:\tlearn: 0.5004579\ttotal: 241ms\tremaining: 13.2s\n",
      "18:\tlearn: 0.4959430\ttotal: 246ms\tremaining: 12.7s\n",
      "19:\tlearn: 0.4919112\ttotal: 252ms\tremaining: 12.3s\n",
      "20:\tlearn: 0.4879998\ttotal: 258ms\tremaining: 12s\n",
      "21:\tlearn: 0.4843559\ttotal: 264ms\tremaining: 11.8s\n",
      "22:\tlearn: 0.4807856\ttotal: 272ms\tremaining: 11.6s\n",
      "23:\tlearn: 0.4780897\ttotal: 278ms\tremaining: 11.3s\n",
      "24:\tlearn: 0.4757209\ttotal: 283ms\tremaining: 11s\n",
      "25:\tlearn: 0.4730472\ttotal: 289ms\tremaining: 10.8s\n",
      "26:\tlearn: 0.4708989\ttotal: 294ms\tremaining: 10.6s\n",
      "27:\tlearn: 0.4686710\ttotal: 299ms\tremaining: 10.4s\n",
      "28:\tlearn: 0.4663143\ttotal: 305ms\tremaining: 10.2s\n",
      "29:\tlearn: 0.4641331\ttotal: 310ms\tremaining: 10s\n",
      "30:\tlearn: 0.4623739\ttotal: 315ms\tremaining: 9.86s\n",
      "31:\tlearn: 0.4607518\ttotal: 321ms\tremaining: 9.7s\n",
      "32:\tlearn: 0.4592285\ttotal: 326ms\tremaining: 9.56s\n",
      "33:\tlearn: 0.4576609\ttotal: 332ms\tremaining: 9.42s\n",
      "34:\tlearn: 0.4561394\ttotal: 337ms\tremaining: 9.3s\n",
      "35:\tlearn: 0.4548099\ttotal: 343ms\tremaining: 9.17s\n",
      "36:\tlearn: 0.4534666\ttotal: 348ms\tremaining: 9.06s\n",
      "37:\tlearn: 0.4520585\ttotal: 353ms\tremaining: 8.93s\n",
      "38:\tlearn: 0.4509146\ttotal: 359ms\tremaining: 8.86s\n",
      "39:\tlearn: 0.4498856\ttotal: 366ms\tremaining: 8.79s\n",
      "40:\tlearn: 0.4492172\ttotal: 372ms\tremaining: 8.7s\n",
      "41:\tlearn: 0.4483724\ttotal: 378ms\tremaining: 8.62s\n",
      "42:\tlearn: 0.4475318\ttotal: 383ms\tremaining: 8.53s\n",
      "43:\tlearn: 0.4465894\ttotal: 389ms\tremaining: 8.46s\n",
      "44:\tlearn: 0.4458515\ttotal: 396ms\tremaining: 8.41s\n",
      "45:\tlearn: 0.4452699\ttotal: 402ms\tremaining: 8.34s\n",
      "46:\tlearn: 0.4446519\ttotal: 408ms\tremaining: 8.27s\n",
      "47:\tlearn: 0.4439664\ttotal: 414ms\tremaining: 8.21s\n",
      "48:\tlearn: 0.4434356\ttotal: 420ms\tremaining: 8.15s\n",
      "49:\tlearn: 0.4427496\ttotal: 430ms\tremaining: 8.18s\n",
      "50:\tlearn: 0.4422629\ttotal: 437ms\tremaining: 8.14s\n",
      "51:\tlearn: 0.4416784\ttotal: 443ms\tremaining: 8.07s\n",
      "52:\tlearn: 0.4413657\ttotal: 448ms\tremaining: 8s\n",
      "53:\tlearn: 0.4407844\ttotal: 453ms\tremaining: 7.93s\n",
      "54:\tlearn: 0.4403368\ttotal: 459ms\tremaining: 7.89s\n",
      "55:\tlearn: 0.4398989\ttotal: 468ms\tremaining: 7.89s\n",
      "56:\tlearn: 0.4394206\ttotal: 475ms\tremaining: 7.85s\n",
      "57:\tlearn: 0.4389643\ttotal: 480ms\tremaining: 7.79s\n",
      "58:\tlearn: 0.4385358\ttotal: 486ms\tremaining: 7.74s\n",
      "59:\tlearn: 0.4382178\ttotal: 491ms\tremaining: 7.68s\n",
      "60:\tlearn: 0.4379909\ttotal: 496ms\tremaining: 7.64s\n",
      "61:\tlearn: 0.4376790\ttotal: 503ms\tremaining: 7.6s\n",
      "62:\tlearn: 0.4372988\ttotal: 509ms\tremaining: 7.57s\n",
      "63:\tlearn: 0.4369044\ttotal: 515ms\tremaining: 7.53s\n",
      "64:\tlearn: 0.4366120\ttotal: 523ms\tremaining: 7.52s\n",
      "65:\tlearn: 0.4362969\ttotal: 529ms\tremaining: 7.49s\n",
      "66:\tlearn: 0.4360323\ttotal: 535ms\tremaining: 7.45s\n",
      "67:\tlearn: 0.4357476\ttotal: 542ms\tremaining: 7.42s\n",
      "68:\tlearn: 0.4355561\ttotal: 548ms\tremaining: 7.39s\n",
      "69:\tlearn: 0.4352817\ttotal: 554ms\tremaining: 7.36s\n",
      "70:\tlearn: 0.4350872\ttotal: 560ms\tremaining: 7.33s\n",
      "71:\tlearn: 0.4347730\ttotal: 567ms\tremaining: 7.3s\n",
      "72:\tlearn: 0.4345208\ttotal: 573ms\tremaining: 7.27s\n",
      "73:\tlearn: 0.4342115\ttotal: 579ms\tremaining: 7.24s\n",
      "74:\tlearn: 0.4340216\ttotal: 584ms\tremaining: 7.21s\n",
      "75:\tlearn: 0.4337700\ttotal: 593ms\tremaining: 7.21s\n",
      "76:\tlearn: 0.4334723\ttotal: 601ms\tremaining: 7.2s\n",
      "77:\tlearn: 0.4332644\ttotal: 608ms\tremaining: 7.18s\n",
      "78:\tlearn: 0.4330870\ttotal: 618ms\tremaining: 7.2s\n",
      "79:\tlearn: 0.4328784\ttotal: 626ms\tremaining: 7.2s\n",
      "80:\tlearn: 0.4325795\ttotal: 636ms\tremaining: 7.21s\n",
      "81:\tlearn: 0.4323379\ttotal: 643ms\tremaining: 7.2s\n",
      "82:\tlearn: 0.4321000\ttotal: 650ms\tremaining: 7.18s\n",
      "83:\tlearn: 0.4319196\ttotal: 657ms\tremaining: 7.16s\n",
      "84:\tlearn: 0.4316168\ttotal: 665ms\tremaining: 7.16s\n",
      "85:\tlearn: 0.4314070\ttotal: 671ms\tremaining: 7.14s\n",
      "86:\tlearn: 0.4311555\ttotal: 678ms\tremaining: 7.11s\n",
      "87:\tlearn: 0.4309851\ttotal: 684ms\tremaining: 7.09s\n",
      "88:\tlearn: 0.4308612\ttotal: 690ms\tremaining: 7.06s\n",
      "89:\tlearn: 0.4307224\ttotal: 696ms\tremaining: 7.04s\n",
      "90:\tlearn: 0.4305567\ttotal: 704ms\tremaining: 7.04s\n",
      "91:\tlearn: 0.4304389\ttotal: 710ms\tremaining: 7.01s\n",
      "92:\tlearn: 0.4302385\ttotal: 717ms\tremaining: 6.99s\n",
      "93:\tlearn: 0.4301020\ttotal: 723ms\tremaining: 6.97s\n",
      "94:\tlearn: 0.4299200\ttotal: 730ms\tremaining: 6.95s\n",
      "95:\tlearn: 0.4297322\ttotal: 736ms\tremaining: 6.93s\n",
      "96:\tlearn: 0.4295771\ttotal: 742ms\tremaining: 6.91s\n",
      "97:\tlearn: 0.4294665\ttotal: 749ms\tremaining: 6.89s\n",
      "98:\tlearn: 0.4292793\ttotal: 755ms\tremaining: 6.87s\n",
      "99:\tlearn: 0.4291718\ttotal: 761ms\tremaining: 6.85s\n",
      "100:\tlearn: 0.4290051\ttotal: 767ms\tremaining: 6.83s\n",
      "101:\tlearn: 0.4288374\ttotal: 773ms\tremaining: 6.81s\n",
      "102:\tlearn: 0.4286497\ttotal: 779ms\tremaining: 6.78s\n",
      "103:\tlearn: 0.4284398\ttotal: 785ms\tremaining: 6.77s\n",
      "104:\tlearn: 0.4282976\ttotal: 793ms\tremaining: 6.76s\n",
      "105:\tlearn: 0.4281891\ttotal: 799ms\tremaining: 6.74s\n",
      "106:\tlearn: 0.4280627\ttotal: 806ms\tremaining: 6.72s\n",
      "107:\tlearn: 0.4279019\ttotal: 813ms\tremaining: 6.71s\n",
      "108:\tlearn: 0.4277039\ttotal: 821ms\tremaining: 6.71s\n",
      "109:\tlearn: 0.4275803\ttotal: 828ms\tremaining: 6.7s\n",
      "110:\tlearn: 0.4274072\ttotal: 836ms\tremaining: 6.69s\n",
      "111:\tlearn: 0.4272769\ttotal: 842ms\tremaining: 6.67s\n",
      "112:\tlearn: 0.4271274\ttotal: 848ms\tremaining: 6.65s\n",
      "113:\tlearn: 0.4270069\ttotal: 855ms\tremaining: 6.64s\n",
      "114:\tlearn: 0.4269255\ttotal: 861ms\tremaining: 6.63s\n",
      "115:\tlearn: 0.4268191\ttotal: 868ms\tremaining: 6.62s\n",
      "116:\tlearn: 0.4267186\ttotal: 874ms\tremaining: 6.6s\n",
      "117:\tlearn: 0.4266437\ttotal: 880ms\tremaining: 6.58s\n",
      "118:\tlearn: 0.4265272\ttotal: 888ms\tremaining: 6.57s\n",
      "119:\tlearn: 0.4264001\ttotal: 894ms\tremaining: 6.55s\n",
      "120:\tlearn: 0.4262432\ttotal: 901ms\tremaining: 6.54s\n",
      "121:\tlearn: 0.4260342\ttotal: 906ms\tremaining: 6.52s\n",
      "122:\tlearn: 0.4259503\ttotal: 912ms\tremaining: 6.5s\n",
      "123:\tlearn: 0.4258277\ttotal: 918ms\tremaining: 6.49s\n",
      "124:\tlearn: 0.4257238\ttotal: 924ms\tremaining: 6.47s\n",
      "125:\tlearn: 0.4255794\ttotal: 930ms\tremaining: 6.45s\n",
      "126:\tlearn: 0.4254802\ttotal: 938ms\tremaining: 6.45s\n",
      "127:\tlearn: 0.4253874\ttotal: 944ms\tremaining: 6.43s\n",
      "128:\tlearn: 0.4252691\ttotal: 951ms\tremaining: 6.42s\n",
      "129:\tlearn: 0.4252044\ttotal: 957ms\tremaining: 6.4s\n",
      "130:\tlearn: 0.4250821\ttotal: 963ms\tremaining: 6.39s\n",
      "131:\tlearn: 0.4249062\ttotal: 970ms\tremaining: 6.38s\n",
      "132:\tlearn: 0.4247842\ttotal: 976ms\tremaining: 6.36s\n",
      "133:\tlearn: 0.4246504\ttotal: 982ms\tremaining: 6.35s\n",
      "134:\tlearn: 0.4245657\ttotal: 990ms\tremaining: 6.34s\n",
      "135:\tlearn: 0.4244249\ttotal: 997ms\tremaining: 6.33s\n",
      "136:\tlearn: 0.4243144\ttotal: 1s\tremaining: 6.33s\n",
      "137:\tlearn: 0.4242215\ttotal: 1.01s\tremaining: 6.33s\n",
      "138:\tlearn: 0.4241492\ttotal: 1.02s\tremaining: 6.32s\n",
      "139:\tlearn: 0.4240697\ttotal: 1.03s\tremaining: 6.32s\n",
      "140:\tlearn: 0.4239761\ttotal: 1.04s\tremaining: 6.33s\n",
      "141:\tlearn: 0.4238985\ttotal: 1.05s\tremaining: 6.33s\n",
      "142:\tlearn: 0.4238236\ttotal: 1.05s\tremaining: 6.31s\n",
      "143:\tlearn: 0.4237564\ttotal: 1.06s\tremaining: 6.3s\n",
      "144:\tlearn: 0.4236065\ttotal: 1.07s\tremaining: 6.29s\n",
      "145:\tlearn: 0.4235123\ttotal: 1.07s\tremaining: 6.28s\n",
      "146:\tlearn: 0.4234663\ttotal: 1.08s\tremaining: 6.27s\n",
      "147:\tlearn: 0.4233832\ttotal: 1.09s\tremaining: 6.26s\n",
      "148:\tlearn: 0.4232490\ttotal: 1.09s\tremaining: 6.24s\n",
      "149:\tlearn: 0.4230914\ttotal: 1.1s\tremaining: 6.23s\n",
      "150:\tlearn: 0.4229703\ttotal: 1.11s\tremaining: 6.22s\n",
      "151:\tlearn: 0.4228717\ttotal: 1.11s\tremaining: 6.21s\n",
      "152:\tlearn: 0.4227811\ttotal: 1.12s\tremaining: 6.2s\n",
      "153:\tlearn: 0.4226915\ttotal: 1.13s\tremaining: 6.19s\n",
      "154:\tlearn: 0.4225121\ttotal: 1.13s\tremaining: 6.18s\n",
      "155:\tlearn: 0.4224114\ttotal: 1.14s\tremaining: 6.16s\n",
      "156:\tlearn: 0.4223596\ttotal: 1.14s\tremaining: 6.14s\n",
      "157:\tlearn: 0.4222408\ttotal: 1.15s\tremaining: 6.13s\n",
      "158:\tlearn: 0.4221239\ttotal: 1.16s\tremaining: 6.12s\n",
      "159:\tlearn: 0.4220026\ttotal: 1.16s\tremaining: 6.11s\n",
      "160:\tlearn: 0.4219611\ttotal: 1.17s\tremaining: 6.08s\n",
      "161:\tlearn: 0.4218683\ttotal: 1.17s\tremaining: 6.07s\n",
      "162:\tlearn: 0.4217786\ttotal: 1.18s\tremaining: 6.06s\n",
      "163:\tlearn: 0.4216967\ttotal: 1.19s\tremaining: 6.04s\n",
      "164:\tlearn: 0.4216336\ttotal: 1.19s\tremaining: 6.04s\n",
      "165:\tlearn: 0.4214525\ttotal: 1.2s\tremaining: 6.03s\n",
      "166:\tlearn: 0.4213515\ttotal: 1.21s\tremaining: 6.03s\n",
      "167:\tlearn: 0.4212808\ttotal: 1.21s\tremaining: 6.01s\n",
      "168:\tlearn: 0.4211919\ttotal: 1.22s\tremaining: 6s\n",
      "169:\tlearn: 0.4210997\ttotal: 1.23s\tremaining: 6s\n",
      "170:\tlearn: 0.4210345\ttotal: 1.23s\tremaining: 5.99s\n",
      "171:\tlearn: 0.4209761\ttotal: 1.24s\tremaining: 5.98s\n",
      "172:\tlearn: 0.4208988\ttotal: 1.25s\tremaining: 5.96s\n",
      "173:\tlearn: 0.4207432\ttotal: 1.25s\tremaining: 5.96s\n",
      "174:\tlearn: 0.4206856\ttotal: 1.26s\tremaining: 5.94s\n",
      "175:\tlearn: 0.4206036\ttotal: 1.27s\tremaining: 5.93s\n",
      "176:\tlearn: 0.4205217\ttotal: 1.27s\tremaining: 5.92s\n",
      "177:\tlearn: 0.4204632\ttotal: 1.28s\tremaining: 5.91s\n",
      "178:\tlearn: 0.4203654\ttotal: 1.29s\tremaining: 5.92s\n",
      "179:\tlearn: 0.4202432\ttotal: 1.3s\tremaining: 5.92s\n",
      "180:\tlearn: 0.4201536\ttotal: 1.3s\tremaining: 5.91s\n",
      "181:\tlearn: 0.4201002\ttotal: 1.31s\tremaining: 5.89s\n",
      "182:\tlearn: 0.4200376\ttotal: 1.32s\tremaining: 5.88s\n",
      "183:\tlearn: 0.4199784\ttotal: 1.32s\tremaining: 5.86s\n",
      "184:\tlearn: 0.4198955\ttotal: 1.33s\tremaining: 5.85s\n",
      "185:\tlearn: 0.4197841\ttotal: 1.33s\tremaining: 5.84s\n",
      "186:\tlearn: 0.4196885\ttotal: 1.34s\tremaining: 5.82s\n",
      "187:\tlearn: 0.4195977\ttotal: 1.34s\tremaining: 5.81s\n",
      "188:\tlearn: 0.4195006\ttotal: 1.35s\tremaining: 5.79s\n",
      "189:\tlearn: 0.4194205\ttotal: 1.35s\tremaining: 5.78s\n",
      "190:\tlearn: 0.4193137\ttotal: 1.36s\tremaining: 5.77s\n",
      "191:\tlearn: 0.4191985\ttotal: 1.37s\tremaining: 5.76s\n",
      "192:\tlearn: 0.4191468\ttotal: 1.37s\tremaining: 5.74s\n",
      "193:\tlearn: 0.4190660\ttotal: 1.38s\tremaining: 5.73s\n",
      "194:\tlearn: 0.4190138\ttotal: 1.39s\tremaining: 5.72s\n",
      "195:\tlearn: 0.4189590\ttotal: 1.39s\tremaining: 5.71s\n",
      "196:\tlearn: 0.4188679\ttotal: 1.4s\tremaining: 5.7s\n",
      "197:\tlearn: 0.4187458\ttotal: 1.41s\tremaining: 5.69s\n",
      "198:\tlearn: 0.4186430\ttotal: 1.41s\tremaining: 5.68s\n",
      "199:\tlearn: 0.4185321\ttotal: 1.42s\tremaining: 5.68s\n",
      "200:\tlearn: 0.4184698\ttotal: 1.43s\tremaining: 5.67s\n",
      "201:\tlearn: 0.4183481\ttotal: 1.44s\tremaining: 5.67s\n",
      "202:\tlearn: 0.4182650\ttotal: 1.44s\tremaining: 5.66s\n",
      "203:\tlearn: 0.4181680\ttotal: 1.45s\tremaining: 5.65s\n",
      "204:\tlearn: 0.4180639\ttotal: 1.45s\tremaining: 5.64s\n",
      "205:\tlearn: 0.4179901\ttotal: 1.46s\tremaining: 5.63s\n",
      "206:\tlearn: 0.4179171\ttotal: 1.47s\tremaining: 5.62s\n",
      "207:\tlearn: 0.4178380\ttotal: 1.47s\tremaining: 5.61s\n",
      "208:\tlearn: 0.4177814\ttotal: 1.48s\tremaining: 5.6s\n",
      "209:\tlearn: 0.4177120\ttotal: 1.49s\tremaining: 5.59s\n",
      "210:\tlearn: 0.4176582\ttotal: 1.49s\tremaining: 5.58s\n",
      "211:\tlearn: 0.4175505\ttotal: 1.5s\tremaining: 5.57s\n",
      "212:\tlearn: 0.4174478\ttotal: 1.5s\tremaining: 5.56s\n",
      "213:\tlearn: 0.4173809\ttotal: 1.51s\tremaining: 5.55s\n",
      "214:\tlearn: 0.4172874\ttotal: 1.51s\tremaining: 5.53s\n",
      "215:\tlearn: 0.4171935\ttotal: 1.52s\tremaining: 5.52s\n",
      "216:\tlearn: 0.4171170\ttotal: 1.53s\tremaining: 5.51s\n",
      "217:\tlearn: 0.4169959\ttotal: 1.53s\tremaining: 5.5s\n",
      "218:\tlearn: 0.4168880\ttotal: 1.54s\tremaining: 5.5s\n",
      "219:\tlearn: 0.4167925\ttotal: 1.55s\tremaining: 5.49s\n",
      "220:\tlearn: 0.4166813\ttotal: 1.55s\tremaining: 5.48s\n",
      "221:\tlearn: 0.4166071\ttotal: 1.56s\tremaining: 5.46s\n",
      "222:\tlearn: 0.4165135\ttotal: 1.56s\tremaining: 5.45s\n",
      "223:\tlearn: 0.4164332\ttotal: 1.57s\tremaining: 5.45s\n",
      "224:\tlearn: 0.4163444\ttotal: 1.58s\tremaining: 5.44s\n",
      "225:\tlearn: 0.4162841\ttotal: 1.58s\tremaining: 5.43s\n",
      "226:\tlearn: 0.4162170\ttotal: 1.59s\tremaining: 5.42s\n",
      "227:\tlearn: 0.4161764\ttotal: 1.6s\tremaining: 5.41s\n",
      "228:\tlearn: 0.4161004\ttotal: 1.6s\tremaining: 5.41s\n",
      "229:\tlearn: 0.4160108\ttotal: 1.61s\tremaining: 5.4s\n",
      "230:\tlearn: 0.4159459\ttotal: 1.62s\tremaining: 5.39s\n",
      "231:\tlearn: 0.4158470\ttotal: 1.63s\tremaining: 5.39s\n",
      "232:\tlearn: 0.4157801\ttotal: 1.63s\tremaining: 5.38s\n",
      "233:\tlearn: 0.4156953\ttotal: 1.64s\tremaining: 5.37s\n",
      "234:\tlearn: 0.4156046\ttotal: 1.65s\tremaining: 5.37s\n",
      "235:\tlearn: 0.4155504\ttotal: 1.66s\tremaining: 5.36s\n",
      "236:\tlearn: 0.4154514\ttotal: 1.66s\tremaining: 5.36s\n",
      "237:\tlearn: 0.4153425\ttotal: 1.67s\tremaining: 5.35s\n",
      "238:\tlearn: 0.4152872\ttotal: 1.68s\tremaining: 5.34s\n",
      "239:\tlearn: 0.4152213\ttotal: 1.68s\tremaining: 5.33s\n",
      "240:\tlearn: 0.4151236\ttotal: 1.69s\tremaining: 5.31s\n",
      "241:\tlearn: 0.4150500\ttotal: 1.69s\tremaining: 5.31s\n",
      "242:\tlearn: 0.4150381\ttotal: 1.7s\tremaining: 5.29s\n",
      "243:\tlearn: 0.4149726\ttotal: 1.7s\tremaining: 5.28s\n",
      "244:\tlearn: 0.4148866\ttotal: 1.71s\tremaining: 5.27s\n",
      "245:\tlearn: 0.4148046\ttotal: 1.72s\tremaining: 5.26s\n",
      "246:\tlearn: 0.4147054\ttotal: 1.72s\tremaining: 5.25s\n",
      "247:\tlearn: 0.4146479\ttotal: 1.73s\tremaining: 5.23s\n",
      "248:\tlearn: 0.4145696\ttotal: 1.73s\tremaining: 5.22s\n",
      "249:\tlearn: 0.4144650\ttotal: 1.74s\tremaining: 5.21s\n",
      "250:\tlearn: 0.4144204\ttotal: 1.74s\tremaining: 5.2s\n",
      "251:\tlearn: 0.4142559\ttotal: 1.75s\tremaining: 5.19s\n",
      "252:\tlearn: 0.4141728\ttotal: 1.75s\tremaining: 5.18s\n",
      "253:\tlearn: 0.4140613\ttotal: 1.76s\tremaining: 5.17s\n",
      "254:\tlearn: 0.4140307\ttotal: 1.77s\tremaining: 5.16s\n",
      "255:\tlearn: 0.4139653\ttotal: 1.77s\tremaining: 5.15s\n",
      "256:\tlearn: 0.4138775\ttotal: 1.78s\tremaining: 5.14s\n",
      "257:\tlearn: 0.4137786\ttotal: 1.78s\tremaining: 5.13s\n",
      "258:\tlearn: 0.4137300\ttotal: 1.79s\tremaining: 5.12s\n",
      "259:\tlearn: 0.4136707\ttotal: 1.8s\tremaining: 5.11s\n",
      "260:\tlearn: 0.4135765\ttotal: 1.8s\tremaining: 5.11s\n",
      "261:\tlearn: 0.4134838\ttotal: 1.81s\tremaining: 5.1s\n",
      "262:\tlearn: 0.4133878\ttotal: 1.82s\tremaining: 5.1s\n",
      "263:\tlearn: 0.4133174\ttotal: 1.83s\tremaining: 5.09s\n",
      "264:\tlearn: 0.4132343\ttotal: 1.83s\tremaining: 5.09s\n",
      "265:\tlearn: 0.4131547\ttotal: 1.84s\tremaining: 5.08s\n",
      "266:\tlearn: 0.4131118\ttotal: 1.85s\tremaining: 5.07s\n",
      "267:\tlearn: 0.4130522\ttotal: 1.85s\tremaining: 5.07s\n",
      "268:\tlearn: 0.4129383\ttotal: 1.86s\tremaining: 5.06s\n",
      "269:\tlearn: 0.4128808\ttotal: 1.87s\tremaining: 5.05s\n",
      "270:\tlearn: 0.4127976\ttotal: 1.88s\tremaining: 5.04s\n",
      "271:\tlearn: 0.4126998\ttotal: 1.88s\tremaining: 5.04s\n",
      "272:\tlearn: 0.4126016\ttotal: 1.89s\tremaining: 5.03s\n",
      "273:\tlearn: 0.4125345\ttotal: 1.89s\tremaining: 5.02s\n",
      "274:\tlearn: 0.4124681\ttotal: 1.9s\tremaining: 5.01s\n",
      "275:\tlearn: 0.4123403\ttotal: 1.91s\tremaining: 5s\n",
      "276:\tlearn: 0.4121806\ttotal: 1.91s\tremaining: 5s\n",
      "277:\tlearn: 0.4120915\ttotal: 1.92s\tremaining: 4.99s\n",
      "278:\tlearn: 0.4119891\ttotal: 1.93s\tremaining: 4.98s\n",
      "279:\tlearn: 0.4118481\ttotal: 1.93s\tremaining: 4.97s\n",
      "280:\tlearn: 0.4117158\ttotal: 1.94s\tremaining: 4.96s\n",
      "281:\tlearn: 0.4116149\ttotal: 1.94s\tremaining: 4.95s\n",
      "282:\tlearn: 0.4115331\ttotal: 1.95s\tremaining: 4.94s\n",
      "283:\tlearn: 0.4114352\ttotal: 1.96s\tremaining: 4.94s\n",
      "284:\tlearn: 0.4113476\ttotal: 1.97s\tremaining: 4.93s\n",
      "285:\tlearn: 0.4112558\ttotal: 1.97s\tremaining: 4.92s\n",
      "286:\tlearn: 0.4111698\ttotal: 1.98s\tremaining: 4.92s\n",
      "287:\tlearn: 0.4110339\ttotal: 1.99s\tremaining: 4.91s\n",
      "288:\tlearn: 0.4109709\ttotal: 1.99s\tremaining: 4.9s\n",
      "289:\tlearn: 0.4108965\ttotal: 2s\tremaining: 4.89s\n",
      "290:\tlearn: 0.4107739\ttotal: 2.01s\tremaining: 4.89s\n",
      "291:\tlearn: 0.4107065\ttotal: 2.02s\tremaining: 4.88s\n",
      "292:\tlearn: 0.4106649\ttotal: 2.02s\tremaining: 4.88s\n",
      "293:\tlearn: 0.4105655\ttotal: 2.04s\tremaining: 4.89s\n",
      "294:\tlearn: 0.4105073\ttotal: 2.06s\tremaining: 4.92s\n",
      "295:\tlearn: 0.4103994\ttotal: 2.08s\tremaining: 4.95s\n",
      "296:\tlearn: 0.4102714\ttotal: 2.09s\tremaining: 4.94s\n",
      "297:\tlearn: 0.4102071\ttotal: 2.09s\tremaining: 4.93s\n",
      "298:\tlearn: 0.4101221\ttotal: 2.1s\tremaining: 4.93s\n",
      "299:\tlearn: 0.4100277\ttotal: 2.11s\tremaining: 4.93s\n",
      "300:\tlearn: 0.4098820\ttotal: 2.12s\tremaining: 4.92s\n",
      "301:\tlearn: 0.4097252\ttotal: 2.12s\tremaining: 4.91s\n",
      "302:\tlearn: 0.4095949\ttotal: 2.13s\tremaining: 4.9s\n",
      "303:\tlearn: 0.4095229\ttotal: 2.13s\tremaining: 4.88s\n",
      "304:\tlearn: 0.4094312\ttotal: 2.14s\tremaining: 4.87s\n",
      "305:\tlearn: 0.4093592\ttotal: 2.14s\tremaining: 4.86s\n",
      "306:\tlearn: 0.4092620\ttotal: 2.15s\tremaining: 4.85s\n",
      "307:\tlearn: 0.4091237\ttotal: 2.15s\tremaining: 4.84s\n",
      "308:\tlearn: 0.4090343\ttotal: 2.16s\tremaining: 4.83s\n",
      "309:\tlearn: 0.4088715\ttotal: 2.16s\tremaining: 4.82s\n",
      "310:\tlearn: 0.4087828\ttotal: 2.17s\tremaining: 4.8s\n",
      "311:\tlearn: 0.4086109\ttotal: 2.17s\tremaining: 4.79s\n",
      "312:\tlearn: 0.4084634\ttotal: 2.18s\tremaining: 4.78s\n",
      "313:\tlearn: 0.4083933\ttotal: 2.18s\tremaining: 4.77s\n",
      "314:\tlearn: 0.4082912\ttotal: 2.19s\tremaining: 4.76s\n",
      "315:\tlearn: 0.4082181\ttotal: 2.19s\tremaining: 4.75s\n",
      "316:\tlearn: 0.4081700\ttotal: 2.2s\tremaining: 4.74s\n",
      "317:\tlearn: 0.4080320\ttotal: 2.21s\tremaining: 4.73s\n",
      "318:\tlearn: 0.4079679\ttotal: 2.21s\tremaining: 4.72s\n",
      "319:\tlearn: 0.4079088\ttotal: 2.22s\tremaining: 4.71s\n",
      "320:\tlearn: 0.4077678\ttotal: 2.22s\tremaining: 4.7s\n",
      "321:\tlearn: 0.4077006\ttotal: 2.23s\tremaining: 4.7s\n",
      "322:\tlearn: 0.4075416\ttotal: 2.24s\tremaining: 4.69s\n",
      "323:\tlearn: 0.4074588\ttotal: 2.24s\tremaining: 4.68s\n",
      "324:\tlearn: 0.4073501\ttotal: 2.25s\tremaining: 4.67s\n",
      "325:\tlearn: 0.4071866\ttotal: 2.25s\tremaining: 4.66s\n",
      "326:\tlearn: 0.4070990\ttotal: 2.26s\tremaining: 4.65s\n",
      "327:\tlearn: 0.4070327\ttotal: 2.26s\tremaining: 4.64s\n",
      "328:\tlearn: 0.4069387\ttotal: 2.27s\tremaining: 4.63s\n",
      "329:\tlearn: 0.4068006\ttotal: 2.27s\tremaining: 4.62s\n",
      "330:\tlearn: 0.4067361\ttotal: 2.28s\tremaining: 4.61s\n",
      "331:\tlearn: 0.4066133\ttotal: 2.28s\tremaining: 4.59s\n",
      "332:\tlearn: 0.4064839\ttotal: 2.29s\tremaining: 4.58s\n",
      "333:\tlearn: 0.4064015\ttotal: 2.29s\tremaining: 4.58s\n",
      "334:\tlearn: 0.4062934\ttotal: 2.3s\tremaining: 4.57s\n",
      "335:\tlearn: 0.4062098\ttotal: 2.31s\tremaining: 4.56s\n",
      "336:\tlearn: 0.4060720\ttotal: 2.31s\tremaining: 4.55s\n",
      "337:\tlearn: 0.4059949\ttotal: 2.32s\tremaining: 4.54s\n",
      "338:\tlearn: 0.4059126\ttotal: 2.33s\tremaining: 4.53s\n",
      "339:\tlearn: 0.4057982\ttotal: 2.33s\tremaining: 4.53s\n",
      "340:\tlearn: 0.4056531\ttotal: 2.34s\tremaining: 4.52s\n",
      "341:\tlearn: 0.4055709\ttotal: 2.35s\tremaining: 4.52s\n",
      "342:\tlearn: 0.4054744\ttotal: 2.36s\tremaining: 4.51s\n",
      "343:\tlearn: 0.4053912\ttotal: 2.36s\tremaining: 4.51s\n",
      "344:\tlearn: 0.4053395\ttotal: 2.37s\tremaining: 4.5s\n",
      "345:\tlearn: 0.4052713\ttotal: 2.38s\tremaining: 4.49s\n",
      "346:\tlearn: 0.4051567\ttotal: 2.38s\tremaining: 4.48s\n",
      "347:\tlearn: 0.4050631\ttotal: 2.39s\tremaining: 4.48s\n",
      "348:\tlearn: 0.4049689\ttotal: 2.39s\tremaining: 4.47s\n",
      "349:\tlearn: 0.4048863\ttotal: 2.4s\tremaining: 4.46s\n",
      "350:\tlearn: 0.4047914\ttotal: 2.41s\tremaining: 4.45s\n",
      "351:\tlearn: 0.4047360\ttotal: 2.41s\tremaining: 4.44s\n",
      "352:\tlearn: 0.4046737\ttotal: 2.42s\tremaining: 4.43s\n",
      "353:\tlearn: 0.4045622\ttotal: 2.42s\tremaining: 4.42s\n",
      "354:\tlearn: 0.4044660\ttotal: 2.43s\tremaining: 4.42s\n",
      "355:\tlearn: 0.4044194\ttotal: 2.44s\tremaining: 4.41s\n",
      "356:\tlearn: 0.4043310\ttotal: 2.44s\tremaining: 4.4s\n",
      "357:\tlearn: 0.4042552\ttotal: 2.45s\tremaining: 4.39s\n",
      "358:\tlearn: 0.4041991\ttotal: 2.46s\tremaining: 4.38s\n",
      "359:\tlearn: 0.4041228\ttotal: 2.46s\tremaining: 4.37s\n",
      "360:\tlearn: 0.4040442\ttotal: 2.46s\tremaining: 4.36s\n",
      "361:\tlearn: 0.4039165\ttotal: 2.47s\tremaining: 4.35s\n",
      "362:\tlearn: 0.4038798\ttotal: 2.48s\tremaining: 4.34s\n",
      "363:\tlearn: 0.4038011\ttotal: 2.48s\tremaining: 4.33s\n",
      "364:\tlearn: 0.4037083\ttotal: 2.48s\tremaining: 4.32s\n",
      "365:\tlearn: 0.4035845\ttotal: 2.49s\tremaining: 4.31s\n",
      "366:\tlearn: 0.4035074\ttotal: 2.5s\tremaining: 4.3s\n",
      "367:\tlearn: 0.4034224\ttotal: 2.5s\tremaining: 4.29s\n",
      "368:\tlearn: 0.4033389\ttotal: 2.5s\tremaining: 4.28s\n",
      "369:\tlearn: 0.4033004\ttotal: 2.51s\tremaining: 4.27s\n",
      "370:\tlearn: 0.4031767\ttotal: 2.52s\tremaining: 4.26s\n",
      "371:\tlearn: 0.4030872\ttotal: 2.52s\tremaining: 4.25s\n",
      "372:\tlearn: 0.4029923\ttotal: 2.52s\tremaining: 4.24s\n",
      "373:\tlearn: 0.4028382\ttotal: 2.53s\tremaining: 4.23s\n",
      "374:\tlearn: 0.4027511\ttotal: 2.53s\tremaining: 4.22s\n",
      "375:\tlearn: 0.4027115\ttotal: 2.54s\tremaining: 4.21s\n",
      "376:\tlearn: 0.4026071\ttotal: 2.54s\tremaining: 4.21s\n",
      "377:\tlearn: 0.4025707\ttotal: 2.55s\tremaining: 4.2s\n",
      "378:\tlearn: 0.4024715\ttotal: 2.56s\tremaining: 4.19s\n",
      "379:\tlearn: 0.4024167\ttotal: 2.56s\tremaining: 4.18s\n",
      "380:\tlearn: 0.4022924\ttotal: 2.56s\tremaining: 4.17s\n",
      "381:\tlearn: 0.4022383\ttotal: 2.57s\tremaining: 4.16s\n",
      "382:\tlearn: 0.4021834\ttotal: 2.58s\tremaining: 4.15s\n",
      "383:\tlearn: 0.4020504\ttotal: 2.58s\tremaining: 4.14s\n",
      "384:\tlearn: 0.4019684\ttotal: 2.59s\tremaining: 4.13s\n",
      "385:\tlearn: 0.4018791\ttotal: 2.59s\tremaining: 4.12s\n",
      "386:\tlearn: 0.4018032\ttotal: 2.6s\tremaining: 4.12s\n",
      "387:\tlearn: 0.4016959\ttotal: 2.6s\tremaining: 4.11s\n",
      "388:\tlearn: 0.4016246\ttotal: 2.61s\tremaining: 4.1s\n",
      "389:\tlearn: 0.4015420\ttotal: 2.62s\tremaining: 4.09s\n",
      "390:\tlearn: 0.4014575\ttotal: 2.62s\tremaining: 4.08s\n",
      "391:\tlearn: 0.4013953\ttotal: 2.63s\tremaining: 4.08s\n",
      "392:\tlearn: 0.4012765\ttotal: 2.64s\tremaining: 4.08s\n",
      "393:\tlearn: 0.4011418\ttotal: 2.65s\tremaining: 4.07s\n",
      "394:\tlearn: 0.4010499\ttotal: 2.65s\tremaining: 4.06s\n",
      "395:\tlearn: 0.4009618\ttotal: 2.66s\tremaining: 4.06s\n",
      "396:\tlearn: 0.4008896\ttotal: 2.67s\tremaining: 4.05s\n",
      "397:\tlearn: 0.4007653\ttotal: 2.67s\tremaining: 4.04s\n",
      "398:\tlearn: 0.4007392\ttotal: 2.68s\tremaining: 4.04s\n",
      "399:\tlearn: 0.4006416\ttotal: 2.69s\tremaining: 4.03s\n",
      "400:\tlearn: 0.4005940\ttotal: 2.69s\tremaining: 4.02s\n",
      "401:\tlearn: 0.4005362\ttotal: 2.7s\tremaining: 4.01s\n",
      "402:\tlearn: 0.4004627\ttotal: 2.7s\tremaining: 4s\n",
      "403:\tlearn: 0.4004025\ttotal: 2.71s\tremaining: 3.99s\n",
      "404:\tlearn: 0.4003528\ttotal: 2.71s\tremaining: 3.98s\n",
      "405:\tlearn: 0.4002644\ttotal: 2.72s\tremaining: 3.98s\n",
      "406:\tlearn: 0.4001946\ttotal: 2.72s\tremaining: 3.97s\n",
      "407:\tlearn: 0.4001443\ttotal: 2.73s\tremaining: 3.96s\n",
      "408:\tlearn: 0.4000876\ttotal: 2.73s\tremaining: 3.95s\n",
      "409:\tlearn: 0.4000212\ttotal: 2.74s\tremaining: 3.94s\n",
      "410:\tlearn: 0.3998979\ttotal: 2.75s\tremaining: 3.93s\n",
      "411:\tlearn: 0.3998345\ttotal: 2.75s\tremaining: 3.93s\n",
      "412:\tlearn: 0.3997566\ttotal: 2.76s\tremaining: 3.92s\n",
      "413:\tlearn: 0.3996715\ttotal: 2.76s\tremaining: 3.91s\n",
      "414:\tlearn: 0.3996133\ttotal: 2.77s\tremaining: 3.9s\n",
      "415:\tlearn: 0.3995189\ttotal: 2.77s\tremaining: 3.89s\n",
      "416:\tlearn: 0.3994569\ttotal: 2.78s\tremaining: 3.88s\n",
      "417:\tlearn: 0.3994148\ttotal: 2.78s\tremaining: 3.87s\n",
      "418:\tlearn: 0.3993418\ttotal: 2.79s\tremaining: 3.87s\n",
      "419:\tlearn: 0.3993200\ttotal: 2.79s\tremaining: 3.86s\n",
      "420:\tlearn: 0.3992441\ttotal: 2.8s\tremaining: 3.85s\n",
      "421:\tlearn: 0.3991766\ttotal: 2.8s\tremaining: 3.84s\n",
      "422:\tlearn: 0.3991042\ttotal: 2.81s\tremaining: 3.83s\n",
      "423:\tlearn: 0.3990545\ttotal: 2.81s\tremaining: 3.83s\n",
      "424:\tlearn: 0.3990145\ttotal: 2.82s\tremaining: 3.82s\n",
      "425:\tlearn: 0.3989183\ttotal: 2.83s\tremaining: 3.81s\n",
      "426:\tlearn: 0.3988486\ttotal: 2.84s\tremaining: 3.81s\n",
      "427:\tlearn: 0.3988171\ttotal: 2.85s\tremaining: 3.8s\n",
      "428:\tlearn: 0.3987548\ttotal: 2.85s\tremaining: 3.79s\n",
      "429:\tlearn: 0.3986479\ttotal: 2.86s\tremaining: 3.79s\n",
      "430:\tlearn: 0.3986069\ttotal: 2.86s\tremaining: 3.78s\n",
      "431:\tlearn: 0.3985529\ttotal: 2.87s\tremaining: 3.77s\n",
      "432:\tlearn: 0.3984838\ttotal: 2.87s\tremaining: 3.76s\n",
      "433:\tlearn: 0.3984377\ttotal: 2.88s\tremaining: 3.75s\n",
      "434:\tlearn: 0.3983571\ttotal: 2.88s\tremaining: 3.75s\n",
      "435:\tlearn: 0.3982559\ttotal: 2.89s\tremaining: 3.74s\n",
      "436:\tlearn: 0.3981267\ttotal: 2.89s\tremaining: 3.73s\n",
      "437:\tlearn: 0.3979799\ttotal: 2.9s\tremaining: 3.72s\n",
      "438:\tlearn: 0.3979198\ttotal: 2.9s\tremaining: 3.71s\n",
      "439:\tlearn: 0.3978668\ttotal: 2.91s\tremaining: 3.7s\n",
      "440:\tlearn: 0.3977937\ttotal: 2.91s\tremaining: 3.69s\n",
      "441:\tlearn: 0.3977346\ttotal: 2.92s\tremaining: 3.68s\n",
      "442:\tlearn: 0.3976441\ttotal: 2.92s\tremaining: 3.67s\n",
      "443:\tlearn: 0.3976022\ttotal: 2.93s\tremaining: 3.67s\n",
      "444:\tlearn: 0.3975135\ttotal: 2.93s\tremaining: 3.66s\n",
      "445:\tlearn: 0.3974226\ttotal: 2.94s\tremaining: 3.65s\n",
      "446:\tlearn: 0.3973819\ttotal: 2.94s\tremaining: 3.64s\n",
      "447:\tlearn: 0.3973209\ttotal: 2.95s\tremaining: 3.63s\n",
      "448:\tlearn: 0.3972731\ttotal: 2.95s\tremaining: 3.62s\n",
      "449:\tlearn: 0.3972113\ttotal: 2.96s\tremaining: 3.61s\n",
      "450:\tlearn: 0.3971465\ttotal: 2.96s\tremaining: 3.61s\n",
      "451:\tlearn: 0.3970902\ttotal: 2.97s\tremaining: 3.6s\n",
      "452:\tlearn: 0.3970558\ttotal: 2.97s\tremaining: 3.59s\n",
      "453:\tlearn: 0.3969831\ttotal: 2.98s\tremaining: 3.58s\n",
      "454:\tlearn: 0.3969555\ttotal: 2.98s\tremaining: 3.57s\n",
      "455:\tlearn: 0.3969039\ttotal: 2.99s\tremaining: 3.56s\n",
      "456:\tlearn: 0.3968598\ttotal: 2.99s\tremaining: 3.56s\n",
      "457:\tlearn: 0.3968008\ttotal: 3s\tremaining: 3.55s\n",
      "458:\tlearn: 0.3967016\ttotal: 3s\tremaining: 3.54s\n",
      "459:\tlearn: 0.3966238\ttotal: 3.01s\tremaining: 3.53s\n",
      "460:\tlearn: 0.3965753\ttotal: 3.02s\tremaining: 3.52s\n",
      "461:\tlearn: 0.3965189\ttotal: 3.02s\tremaining: 3.52s\n",
      "462:\tlearn: 0.3964900\ttotal: 3.03s\tremaining: 3.51s\n",
      "463:\tlearn: 0.3963609\ttotal: 3.04s\tremaining: 3.51s\n",
      "464:\tlearn: 0.3962449\ttotal: 3.04s\tremaining: 3.5s\n",
      "465:\tlearn: 0.3961705\ttotal: 3.05s\tremaining: 3.5s\n",
      "466:\tlearn: 0.3960783\ttotal: 3.06s\tremaining: 3.49s\n",
      "467:\tlearn: 0.3960231\ttotal: 3.07s\tremaining: 3.48s\n",
      "468:\tlearn: 0.3959180\ttotal: 3.07s\tremaining: 3.48s\n",
      "469:\tlearn: 0.3958892\ttotal: 3.08s\tremaining: 3.48s\n",
      "470:\tlearn: 0.3957980\ttotal: 3.09s\tremaining: 3.47s\n",
      "471:\tlearn: 0.3957407\ttotal: 3.09s\tremaining: 3.46s\n",
      "472:\tlearn: 0.3956645\ttotal: 3.1s\tremaining: 3.46s\n",
      "473:\tlearn: 0.3956392\ttotal: 3.11s\tremaining: 3.45s\n",
      "474:\tlearn: 0.3955599\ttotal: 3.11s\tremaining: 3.44s\n",
      "475:\tlearn: 0.3954890\ttotal: 3.12s\tremaining: 3.43s\n",
      "476:\tlearn: 0.3954001\ttotal: 3.12s\tremaining: 3.42s\n",
      "477:\tlearn: 0.3953585\ttotal: 3.13s\tremaining: 3.42s\n",
      "478:\tlearn: 0.3952899\ttotal: 3.13s\tremaining: 3.41s\n",
      "479:\tlearn: 0.3952161\ttotal: 3.14s\tremaining: 3.4s\n",
      "480:\tlearn: 0.3951815\ttotal: 3.14s\tremaining: 3.39s\n",
      "481:\tlearn: 0.3951432\ttotal: 3.15s\tremaining: 3.38s\n",
      "482:\tlearn: 0.3950997\ttotal: 3.15s\tremaining: 3.38s\n",
      "483:\tlearn: 0.3950542\ttotal: 3.16s\tremaining: 3.37s\n",
      "484:\tlearn: 0.3949260\ttotal: 3.16s\tremaining: 3.36s\n",
      "485:\tlearn: 0.3948159\ttotal: 3.17s\tremaining: 3.35s\n",
      "486:\tlearn: 0.3947614\ttotal: 3.17s\tremaining: 3.34s\n",
      "487:\tlearn: 0.3947206\ttotal: 3.18s\tremaining: 3.34s\n",
      "488:\tlearn: 0.3946404\ttotal: 3.19s\tremaining: 3.33s\n",
      "489:\tlearn: 0.3945598\ttotal: 3.19s\tremaining: 3.32s\n",
      "490:\tlearn: 0.3945078\ttotal: 3.2s\tremaining: 3.31s\n",
      "491:\tlearn: 0.3944237\ttotal: 3.2s\tremaining: 3.31s\n",
      "492:\tlearn: 0.3943295\ttotal: 3.21s\tremaining: 3.3s\n",
      "493:\tlearn: 0.3942321\ttotal: 3.21s\tremaining: 3.29s\n",
      "494:\tlearn: 0.3941715\ttotal: 3.22s\tremaining: 3.29s\n",
      "495:\tlearn: 0.3941192\ttotal: 3.23s\tremaining: 3.28s\n",
      "496:\tlearn: 0.3940478\ttotal: 3.23s\tremaining: 3.27s\n",
      "497:\tlearn: 0.3939646\ttotal: 3.24s\tremaining: 3.27s\n",
      "498:\tlearn: 0.3939062\ttotal: 3.24s\tremaining: 3.26s\n",
      "499:\tlearn: 0.3938479\ttotal: 3.25s\tremaining: 3.25s\n",
      "500:\tlearn: 0.3938084\ttotal: 3.25s\tremaining: 3.24s\n",
      "501:\tlearn: 0.3937546\ttotal: 3.26s\tremaining: 3.23s\n",
      "502:\tlearn: 0.3936634\ttotal: 3.27s\tremaining: 3.23s\n",
      "503:\tlearn: 0.3936118\ttotal: 3.27s\tremaining: 3.22s\n",
      "504:\tlearn: 0.3935363\ttotal: 3.27s\tremaining: 3.21s\n",
      "505:\tlearn: 0.3934327\ttotal: 3.28s\tremaining: 3.2s\n",
      "506:\tlearn: 0.3933894\ttotal: 3.29s\tremaining: 3.19s\n",
      "507:\tlearn: 0.3933077\ttotal: 3.29s\tremaining: 3.19s\n",
      "508:\tlearn: 0.3932212\ttotal: 3.29s\tremaining: 3.18s\n",
      "509:\tlearn: 0.3931435\ttotal: 3.3s\tremaining: 3.17s\n",
      "510:\tlearn: 0.3931093\ttotal: 3.31s\tremaining: 3.16s\n",
      "511:\tlearn: 0.3930576\ttotal: 3.32s\tremaining: 3.16s\n",
      "512:\tlearn: 0.3929257\ttotal: 3.32s\tremaining: 3.15s\n",
      "513:\tlearn: 0.3928672\ttotal: 3.33s\tremaining: 3.15s\n",
      "514:\tlearn: 0.3927822\ttotal: 3.33s\tremaining: 3.14s\n",
      "515:\tlearn: 0.3926653\ttotal: 3.34s\tremaining: 3.13s\n",
      "516:\tlearn: 0.3926152\ttotal: 3.34s\tremaining: 3.12s\n",
      "517:\tlearn: 0.3925577\ttotal: 3.35s\tremaining: 3.12s\n",
      "518:\tlearn: 0.3924944\ttotal: 3.35s\tremaining: 3.11s\n",
      "519:\tlearn: 0.3923587\ttotal: 3.36s\tremaining: 3.1s\n",
      "520:\tlearn: 0.3923059\ttotal: 3.36s\tremaining: 3.09s\n",
      "521:\tlearn: 0.3921698\ttotal: 3.37s\tremaining: 3.09s\n",
      "522:\tlearn: 0.3921046\ttotal: 3.38s\tremaining: 3.08s\n",
      "523:\tlearn: 0.3920513\ttotal: 3.38s\tremaining: 3.07s\n",
      "524:\tlearn: 0.3920353\ttotal: 3.39s\tremaining: 3.07s\n",
      "525:\tlearn: 0.3919631\ttotal: 3.4s\tremaining: 3.06s\n",
      "526:\tlearn: 0.3918583\ttotal: 3.4s\tremaining: 3.06s\n",
      "527:\tlearn: 0.3918297\ttotal: 3.41s\tremaining: 3.05s\n",
      "528:\tlearn: 0.3917620\ttotal: 3.42s\tremaining: 3.04s\n",
      "529:\tlearn: 0.3917351\ttotal: 3.42s\tremaining: 3.04s\n",
      "530:\tlearn: 0.3916839\ttotal: 3.43s\tremaining: 3.03s\n",
      "531:\tlearn: 0.3916248\ttotal: 3.44s\tremaining: 3.02s\n",
      "532:\tlearn: 0.3915675\ttotal: 3.44s\tremaining: 3.02s\n",
      "533:\tlearn: 0.3915059\ttotal: 3.45s\tremaining: 3.01s\n",
      "534:\tlearn: 0.3914628\ttotal: 3.46s\tremaining: 3s\n",
      "535:\tlearn: 0.3913648\ttotal: 3.46s\tremaining: 3s\n",
      "536:\tlearn: 0.3913184\ttotal: 3.47s\tremaining: 2.99s\n",
      "537:\tlearn: 0.3912757\ttotal: 3.48s\tremaining: 2.98s\n",
      "538:\tlearn: 0.3912039\ttotal: 3.48s\tremaining: 2.98s\n",
      "539:\tlearn: 0.3910829\ttotal: 3.49s\tremaining: 2.98s\n",
      "540:\tlearn: 0.3910079\ttotal: 3.5s\tremaining: 2.97s\n",
      "541:\tlearn: 0.3909407\ttotal: 3.5s\tremaining: 2.96s\n",
      "542:\tlearn: 0.3908935\ttotal: 3.51s\tremaining: 2.96s\n",
      "543:\tlearn: 0.3908532\ttotal: 3.52s\tremaining: 2.95s\n",
      "544:\tlearn: 0.3908179\ttotal: 3.52s\tremaining: 2.94s\n",
      "545:\tlearn: 0.3907400\ttotal: 3.53s\tremaining: 2.94s\n",
      "546:\tlearn: 0.3906825\ttotal: 3.54s\tremaining: 2.93s\n",
      "547:\tlearn: 0.3906436\ttotal: 3.54s\tremaining: 2.92s\n",
      "548:\tlearn: 0.3905332\ttotal: 3.55s\tremaining: 2.92s\n",
      "549:\tlearn: 0.3904239\ttotal: 3.56s\tremaining: 2.91s\n",
      "550:\tlearn: 0.3903534\ttotal: 3.56s\tremaining: 2.9s\n",
      "551:\tlearn: 0.3902787\ttotal: 3.57s\tremaining: 2.9s\n",
      "552:\tlearn: 0.3902050\ttotal: 3.58s\tremaining: 2.89s\n",
      "553:\tlearn: 0.3901832\ttotal: 3.58s\tremaining: 2.88s\n",
      "554:\tlearn: 0.3900992\ttotal: 3.59s\tremaining: 2.88s\n",
      "555:\tlearn: 0.3900103\ttotal: 3.6s\tremaining: 2.87s\n",
      "556:\tlearn: 0.3899053\ttotal: 3.61s\tremaining: 2.87s\n",
      "557:\tlearn: 0.3898350\ttotal: 3.61s\tremaining: 2.86s\n",
      "558:\tlearn: 0.3897333\ttotal: 3.62s\tremaining: 2.86s\n",
      "559:\tlearn: 0.3897027\ttotal: 3.63s\tremaining: 2.85s\n",
      "560:\tlearn: 0.3896682\ttotal: 3.63s\tremaining: 2.85s\n",
      "561:\tlearn: 0.3896006\ttotal: 3.65s\tremaining: 2.84s\n",
      "562:\tlearn: 0.3895703\ttotal: 3.65s\tremaining: 2.84s\n",
      "563:\tlearn: 0.3894678\ttotal: 3.66s\tremaining: 2.83s\n",
      "564:\tlearn: 0.3894275\ttotal: 3.67s\tremaining: 2.82s\n",
      "565:\tlearn: 0.3893673\ttotal: 3.68s\tremaining: 2.82s\n",
      "566:\tlearn: 0.3892746\ttotal: 3.68s\tremaining: 2.81s\n",
      "567:\tlearn: 0.3892127\ttotal: 3.69s\tremaining: 2.81s\n",
      "568:\tlearn: 0.3891480\ttotal: 3.69s\tremaining: 2.8s\n",
      "569:\tlearn: 0.3890745\ttotal: 3.7s\tremaining: 2.79s\n",
      "570:\tlearn: 0.3890474\ttotal: 3.71s\tremaining: 2.79s\n",
      "571:\tlearn: 0.3890273\ttotal: 3.71s\tremaining: 2.78s\n",
      "572:\tlearn: 0.3889667\ttotal: 3.72s\tremaining: 2.77s\n",
      "573:\tlearn: 0.3888817\ttotal: 3.73s\tremaining: 2.77s\n",
      "574:\tlearn: 0.3888103\ttotal: 3.73s\tremaining: 2.76s\n",
      "575:\tlearn: 0.3887451\ttotal: 3.74s\tremaining: 2.75s\n",
      "576:\tlearn: 0.3886614\ttotal: 3.75s\tremaining: 2.75s\n",
      "577:\tlearn: 0.3886130\ttotal: 3.76s\tremaining: 2.75s\n",
      "578:\tlearn: 0.3885452\ttotal: 3.77s\tremaining: 2.74s\n",
      "579:\tlearn: 0.3885166\ttotal: 3.77s\tremaining: 2.73s\n",
      "580:\tlearn: 0.3884367\ttotal: 3.78s\tremaining: 2.73s\n",
      "581:\tlearn: 0.3883948\ttotal: 3.79s\tremaining: 2.73s\n",
      "582:\tlearn: 0.3883808\ttotal: 3.8s\tremaining: 2.72s\n",
      "583:\tlearn: 0.3883060\ttotal: 3.81s\tremaining: 2.71s\n",
      "584:\tlearn: 0.3882338\ttotal: 3.82s\tremaining: 2.71s\n",
      "585:\tlearn: 0.3882038\ttotal: 3.82s\tremaining: 2.7s\n",
      "586:\tlearn: 0.3881280\ttotal: 3.83s\tremaining: 2.69s\n",
      "587:\tlearn: 0.3880968\ttotal: 3.84s\tremaining: 2.69s\n",
      "588:\tlearn: 0.3880517\ttotal: 3.84s\tremaining: 2.68s\n",
      "589:\tlearn: 0.3879786\ttotal: 3.85s\tremaining: 2.68s\n",
      "590:\tlearn: 0.3878880\ttotal: 3.86s\tremaining: 2.67s\n",
      "591:\tlearn: 0.3878441\ttotal: 3.87s\tremaining: 2.66s\n",
      "592:\tlearn: 0.3877805\ttotal: 3.87s\tremaining: 2.66s\n",
      "593:\tlearn: 0.3877391\ttotal: 3.88s\tremaining: 2.65s\n",
      "594:\tlearn: 0.3876170\ttotal: 3.89s\tremaining: 2.65s\n",
      "595:\tlearn: 0.3875499\ttotal: 3.89s\tremaining: 2.64s\n",
      "596:\tlearn: 0.3874955\ttotal: 3.9s\tremaining: 2.64s\n",
      "597:\tlearn: 0.3874139\ttotal: 3.91s\tremaining: 2.63s\n",
      "598:\tlearn: 0.3873765\ttotal: 3.92s\tremaining: 2.62s\n",
      "599:\tlearn: 0.3872965\ttotal: 3.92s\tremaining: 2.62s\n",
      "600:\tlearn: 0.3872491\ttotal: 3.93s\tremaining: 2.61s\n",
      "601:\tlearn: 0.3872169\ttotal: 3.94s\tremaining: 2.6s\n",
      "602:\tlearn: 0.3871557\ttotal: 3.94s\tremaining: 2.6s\n",
      "603:\tlearn: 0.3871003\ttotal: 3.95s\tremaining: 2.59s\n",
      "604:\tlearn: 0.3870325\ttotal: 3.96s\tremaining: 2.58s\n",
      "605:\tlearn: 0.3869639\ttotal: 3.97s\tremaining: 2.58s\n",
      "606:\tlearn: 0.3868969\ttotal: 3.98s\tremaining: 2.57s\n",
      "607:\tlearn: 0.3868383\ttotal: 3.98s\tremaining: 2.57s\n",
      "608:\tlearn: 0.3867913\ttotal: 3.99s\tremaining: 2.56s\n",
      "609:\tlearn: 0.3866950\ttotal: 4s\tremaining: 2.56s\n",
      "610:\tlearn: 0.3866496\ttotal: 4.01s\tremaining: 2.55s\n",
      "611:\tlearn: 0.3865757\ttotal: 4.02s\tremaining: 2.55s\n",
      "612:\tlearn: 0.3865407\ttotal: 4.02s\tremaining: 2.54s\n",
      "613:\tlearn: 0.3864675\ttotal: 4.03s\tremaining: 2.54s\n",
      "614:\tlearn: 0.3864101\ttotal: 4.04s\tremaining: 2.53s\n",
      "615:\tlearn: 0.3863773\ttotal: 4.05s\tremaining: 2.52s\n",
      "616:\tlearn: 0.3863349\ttotal: 4.05s\tremaining: 2.52s\n",
      "617:\tlearn: 0.3862699\ttotal: 4.06s\tremaining: 2.51s\n",
      "618:\tlearn: 0.3862043\ttotal: 4.07s\tremaining: 2.5s\n",
      "619:\tlearn: 0.3861411\ttotal: 4.07s\tremaining: 2.49s\n",
      "620:\tlearn: 0.3860495\ttotal: 4.08s\tremaining: 2.49s\n",
      "621:\tlearn: 0.3860117\ttotal: 4.09s\tremaining: 2.48s\n",
      "622:\tlearn: 0.3859371\ttotal: 4.09s\tremaining: 2.48s\n",
      "623:\tlearn: 0.3858567\ttotal: 4.1s\tremaining: 2.47s\n",
      "624:\tlearn: 0.3857966\ttotal: 4.11s\tremaining: 2.46s\n",
      "625:\tlearn: 0.3857228\ttotal: 4.11s\tremaining: 2.46s\n",
      "626:\tlearn: 0.3856899\ttotal: 4.12s\tremaining: 2.45s\n",
      "627:\tlearn: 0.3856262\ttotal: 4.13s\tremaining: 2.44s\n",
      "628:\tlearn: 0.3855282\ttotal: 4.13s\tremaining: 2.44s\n",
      "629:\tlearn: 0.3855148\ttotal: 4.14s\tremaining: 2.43s\n",
      "630:\tlearn: 0.3854274\ttotal: 4.14s\tremaining: 2.42s\n",
      "631:\tlearn: 0.3853701\ttotal: 4.15s\tremaining: 2.42s\n",
      "632:\tlearn: 0.3853027\ttotal: 4.16s\tremaining: 2.41s\n",
      "633:\tlearn: 0.3852408\ttotal: 4.16s\tremaining: 2.4s\n",
      "634:\tlearn: 0.3851787\ttotal: 4.17s\tremaining: 2.4s\n",
      "635:\tlearn: 0.3851319\ttotal: 4.17s\tremaining: 2.39s\n",
      "636:\tlearn: 0.3850297\ttotal: 4.18s\tremaining: 2.38s\n",
      "637:\tlearn: 0.3849689\ttotal: 4.19s\tremaining: 2.38s\n",
      "638:\tlearn: 0.3848904\ttotal: 4.19s\tremaining: 2.37s\n",
      "639:\tlearn: 0.3848457\ttotal: 4.2s\tremaining: 2.36s\n",
      "640:\tlearn: 0.3847858\ttotal: 4.21s\tremaining: 2.35s\n",
      "641:\tlearn: 0.3846999\ttotal: 4.21s\tremaining: 2.35s\n",
      "642:\tlearn: 0.3846195\ttotal: 4.22s\tremaining: 2.34s\n",
      "643:\tlearn: 0.3845714\ttotal: 4.23s\tremaining: 2.34s\n",
      "644:\tlearn: 0.3844985\ttotal: 4.23s\tremaining: 2.33s\n",
      "645:\tlearn: 0.3844507\ttotal: 4.24s\tremaining: 2.32s\n",
      "646:\tlearn: 0.3843919\ttotal: 4.25s\tremaining: 2.32s\n",
      "647:\tlearn: 0.3843105\ttotal: 4.26s\tremaining: 2.31s\n",
      "648:\tlearn: 0.3842294\ttotal: 4.26s\tremaining: 2.31s\n",
      "649:\tlearn: 0.3841565\ttotal: 4.27s\tremaining: 2.3s\n",
      "650:\tlearn: 0.3841290\ttotal: 4.28s\tremaining: 2.29s\n",
      "651:\tlearn: 0.3840629\ttotal: 4.29s\tremaining: 2.29s\n",
      "652:\tlearn: 0.3839962\ttotal: 4.29s\tremaining: 2.28s\n",
      "653:\tlearn: 0.3839562\ttotal: 4.3s\tremaining: 2.27s\n",
      "654:\tlearn: 0.3839228\ttotal: 4.3s\tremaining: 2.27s\n",
      "655:\tlearn: 0.3838106\ttotal: 4.31s\tremaining: 2.26s\n",
      "656:\tlearn: 0.3837331\ttotal: 4.32s\tremaining: 2.25s\n",
      "657:\tlearn: 0.3836522\ttotal: 4.32s\tremaining: 2.25s\n",
      "658:\tlearn: 0.3836107\ttotal: 4.33s\tremaining: 2.24s\n",
      "659:\tlearn: 0.3835277\ttotal: 4.33s\tremaining: 2.23s\n",
      "660:\tlearn: 0.3834796\ttotal: 4.34s\tremaining: 2.22s\n",
      "661:\tlearn: 0.3833673\ttotal: 4.34s\tremaining: 2.22s\n",
      "662:\tlearn: 0.3833098\ttotal: 4.35s\tremaining: 2.21s\n",
      "663:\tlearn: 0.3832589\ttotal: 4.36s\tremaining: 2.2s\n",
      "664:\tlearn: 0.3832454\ttotal: 4.36s\tremaining: 2.2s\n",
      "665:\tlearn: 0.3831710\ttotal: 4.37s\tremaining: 2.19s\n",
      "666:\tlearn: 0.3831290\ttotal: 4.37s\tremaining: 2.18s\n",
      "667:\tlearn: 0.3830693\ttotal: 4.38s\tremaining: 2.18s\n",
      "668:\tlearn: 0.3830559\ttotal: 4.39s\tremaining: 2.17s\n",
      "669:\tlearn: 0.3829906\ttotal: 4.39s\tremaining: 2.16s\n",
      "670:\tlearn: 0.3829450\ttotal: 4.4s\tremaining: 2.16s\n",
      "671:\tlearn: 0.3828851\ttotal: 4.41s\tremaining: 2.15s\n",
      "672:\tlearn: 0.3828560\ttotal: 4.41s\tremaining: 2.14s\n",
      "673:\tlearn: 0.3828064\ttotal: 4.42s\tremaining: 2.14s\n",
      "674:\tlearn: 0.3827520\ttotal: 4.43s\tremaining: 2.13s\n",
      "675:\tlearn: 0.3826582\ttotal: 4.44s\tremaining: 2.13s\n",
      "676:\tlearn: 0.3826003\ttotal: 4.44s\tremaining: 2.12s\n",
      "677:\tlearn: 0.3825245\ttotal: 4.45s\tremaining: 2.11s\n",
      "678:\tlearn: 0.3824530\ttotal: 4.46s\tremaining: 2.11s\n",
      "679:\tlearn: 0.3823804\ttotal: 4.46s\tremaining: 2.1s\n",
      "680:\tlearn: 0.3823035\ttotal: 4.47s\tremaining: 2.09s\n",
      "681:\tlearn: 0.3822624\ttotal: 4.48s\tremaining: 2.09s\n",
      "682:\tlearn: 0.3821916\ttotal: 4.49s\tremaining: 2.08s\n",
      "683:\tlearn: 0.3821153\ttotal: 4.49s\tremaining: 2.08s\n",
      "684:\tlearn: 0.3820395\ttotal: 4.5s\tremaining: 2.07s\n",
      "685:\tlearn: 0.3819654\ttotal: 4.51s\tremaining: 2.06s\n",
      "686:\tlearn: 0.3819252\ttotal: 4.51s\tremaining: 2.06s\n",
      "687:\tlearn: 0.3818507\ttotal: 4.52s\tremaining: 2.05s\n",
      "688:\tlearn: 0.3817726\ttotal: 4.53s\tremaining: 2.04s\n",
      "689:\tlearn: 0.3817255\ttotal: 4.53s\tremaining: 2.04s\n",
      "690:\tlearn: 0.3816710\ttotal: 4.54s\tremaining: 2.03s\n",
      "691:\tlearn: 0.3816090\ttotal: 4.55s\tremaining: 2.02s\n",
      "692:\tlearn: 0.3815091\ttotal: 4.55s\tremaining: 2.02s\n",
      "693:\tlearn: 0.3814659\ttotal: 4.56s\tremaining: 2.01s\n",
      "694:\tlearn: 0.3814266\ttotal: 4.56s\tremaining: 2s\n",
      "695:\tlearn: 0.3813790\ttotal: 4.57s\tremaining: 2s\n",
      "696:\tlearn: 0.3813403\ttotal: 4.58s\tremaining: 1.99s\n",
      "697:\tlearn: 0.3812992\ttotal: 4.58s\tremaining: 1.98s\n",
      "698:\tlearn: 0.3812646\ttotal: 4.59s\tremaining: 1.98s\n",
      "699:\tlearn: 0.3812192\ttotal: 4.6s\tremaining: 1.97s\n",
      "700:\tlearn: 0.3811708\ttotal: 4.6s\tremaining: 1.96s\n",
      "701:\tlearn: 0.3811062\ttotal: 4.61s\tremaining: 1.96s\n",
      "702:\tlearn: 0.3810628\ttotal: 4.62s\tremaining: 1.95s\n",
      "703:\tlearn: 0.3809815\ttotal: 4.62s\tremaining: 1.94s\n",
      "704:\tlearn: 0.3809346\ttotal: 4.63s\tremaining: 1.94s\n",
      "705:\tlearn: 0.3808949\ttotal: 4.64s\tremaining: 1.93s\n",
      "706:\tlearn: 0.3808274\ttotal: 4.65s\tremaining: 1.93s\n",
      "707:\tlearn: 0.3807483\ttotal: 4.65s\tremaining: 1.92s\n",
      "708:\tlearn: 0.3806970\ttotal: 4.66s\tremaining: 1.91s\n",
      "709:\tlearn: 0.3806722\ttotal: 4.67s\tremaining: 1.91s\n",
      "710:\tlearn: 0.3806424\ttotal: 4.67s\tremaining: 1.9s\n",
      "711:\tlearn: 0.3805556\ttotal: 4.68s\tremaining: 1.89s\n",
      "712:\tlearn: 0.3804967\ttotal: 4.69s\tremaining: 1.89s\n",
      "713:\tlearn: 0.3804007\ttotal: 4.7s\tremaining: 1.88s\n",
      "714:\tlearn: 0.3803331\ttotal: 4.7s\tremaining: 1.87s\n",
      "715:\tlearn: 0.3802203\ttotal: 4.71s\tremaining: 1.87s\n",
      "716:\tlearn: 0.3801625\ttotal: 4.71s\tremaining: 1.86s\n",
      "717:\tlearn: 0.3800871\ttotal: 4.72s\tremaining: 1.85s\n",
      "718:\tlearn: 0.3800194\ttotal: 4.73s\tremaining: 1.85s\n",
      "719:\tlearn: 0.3799518\ttotal: 4.73s\tremaining: 1.84s\n",
      "720:\tlearn: 0.3798809\ttotal: 4.74s\tremaining: 1.83s\n",
      "721:\tlearn: 0.3798287\ttotal: 4.75s\tremaining: 1.83s\n",
      "722:\tlearn: 0.3797625\ttotal: 4.75s\tremaining: 1.82s\n",
      "723:\tlearn: 0.3796985\ttotal: 4.76s\tremaining: 1.81s\n",
      "724:\tlearn: 0.3796593\ttotal: 4.76s\tremaining: 1.81s\n",
      "725:\tlearn: 0.3796208\ttotal: 4.77s\tremaining: 1.8s\n",
      "726:\tlearn: 0.3795917\ttotal: 4.78s\tremaining: 1.79s\n",
      "727:\tlearn: 0.3795194\ttotal: 4.78s\tremaining: 1.79s\n",
      "728:\tlearn: 0.3794830\ttotal: 4.79s\tremaining: 1.78s\n",
      "729:\tlearn: 0.3794271\ttotal: 4.79s\tremaining: 1.77s\n",
      "730:\tlearn: 0.3793684\ttotal: 4.8s\tremaining: 1.77s\n",
      "731:\tlearn: 0.3792574\ttotal: 4.81s\tremaining: 1.76s\n",
      "732:\tlearn: 0.3792308\ttotal: 4.81s\tremaining: 1.75s\n",
      "733:\tlearn: 0.3791762\ttotal: 4.82s\tremaining: 1.75s\n",
      "734:\tlearn: 0.3790963\ttotal: 4.83s\tremaining: 1.74s\n",
      "735:\tlearn: 0.3790501\ttotal: 4.83s\tremaining: 1.73s\n",
      "736:\tlearn: 0.3789515\ttotal: 4.84s\tremaining: 1.73s\n",
      "737:\tlearn: 0.3788763\ttotal: 4.85s\tremaining: 1.72s\n",
      "738:\tlearn: 0.3788251\ttotal: 4.86s\tremaining: 1.72s\n",
      "739:\tlearn: 0.3787881\ttotal: 4.86s\tremaining: 1.71s\n",
      "740:\tlearn: 0.3787786\ttotal: 4.87s\tremaining: 1.7s\n",
      "741:\tlearn: 0.3787353\ttotal: 4.87s\tremaining: 1.69s\n",
      "742:\tlearn: 0.3786269\ttotal: 4.88s\tremaining: 1.69s\n",
      "743:\tlearn: 0.3785169\ttotal: 4.88s\tremaining: 1.68s\n",
      "744:\tlearn: 0.3784753\ttotal: 4.89s\tremaining: 1.67s\n",
      "745:\tlearn: 0.3783549\ttotal: 4.9s\tremaining: 1.67s\n",
      "746:\tlearn: 0.3782863\ttotal: 4.9s\tremaining: 1.66s\n",
      "747:\tlearn: 0.3782591\ttotal: 4.91s\tremaining: 1.65s\n",
      "748:\tlearn: 0.3782106\ttotal: 4.91s\tremaining: 1.65s\n",
      "749:\tlearn: 0.3781532\ttotal: 4.92s\tremaining: 1.64s\n",
      "750:\tlearn: 0.3780817\ttotal: 4.92s\tremaining: 1.63s\n",
      "751:\tlearn: 0.3780200\ttotal: 4.93s\tremaining: 1.63s\n",
      "752:\tlearn: 0.3779683\ttotal: 4.93s\tremaining: 1.62s\n",
      "753:\tlearn: 0.3779430\ttotal: 4.94s\tremaining: 1.61s\n",
      "754:\tlearn: 0.3779060\ttotal: 4.94s\tremaining: 1.6s\n",
      "755:\tlearn: 0.3778212\ttotal: 4.95s\tremaining: 1.6s\n",
      "756:\tlearn: 0.3777603\ttotal: 4.95s\tremaining: 1.59s\n",
      "757:\tlearn: 0.3777052\ttotal: 4.96s\tremaining: 1.58s\n",
      "758:\tlearn: 0.3776461\ttotal: 4.96s\tremaining: 1.58s\n",
      "759:\tlearn: 0.3775791\ttotal: 4.97s\tremaining: 1.57s\n",
      "760:\tlearn: 0.3775160\ttotal: 4.98s\tremaining: 1.56s\n",
      "761:\tlearn: 0.3774306\ttotal: 4.99s\tremaining: 1.56s\n",
      "762:\tlearn: 0.3773397\ttotal: 4.99s\tremaining: 1.55s\n",
      "763:\tlearn: 0.3772838\ttotal: 5s\tremaining: 1.54s\n",
      "764:\tlearn: 0.3772290\ttotal: 5s\tremaining: 1.54s\n",
      "765:\tlearn: 0.3771654\ttotal: 5.01s\tremaining: 1.53s\n",
      "766:\tlearn: 0.3771246\ttotal: 5.01s\tremaining: 1.52s\n",
      "767:\tlearn: 0.3770583\ttotal: 5.02s\tremaining: 1.52s\n",
      "768:\tlearn: 0.3770335\ttotal: 5.03s\tremaining: 1.51s\n",
      "769:\tlearn: 0.3769978\ttotal: 5.03s\tremaining: 1.5s\n",
      "770:\tlearn: 0.3769261\ttotal: 5.04s\tremaining: 1.5s\n",
      "771:\tlearn: 0.3768540\ttotal: 5.05s\tremaining: 1.49s\n",
      "772:\tlearn: 0.3768023\ttotal: 5.06s\tremaining: 1.48s\n",
      "773:\tlearn: 0.3767815\ttotal: 5.06s\tremaining: 1.48s\n",
      "774:\tlearn: 0.3767130\ttotal: 5.07s\tremaining: 1.47s\n",
      "775:\tlearn: 0.3766456\ttotal: 5.07s\tremaining: 1.46s\n",
      "776:\tlearn: 0.3766173\ttotal: 5.08s\tremaining: 1.46s\n",
      "777:\tlearn: 0.3765544\ttotal: 5.08s\tremaining: 1.45s\n",
      "778:\tlearn: 0.3764726\ttotal: 5.09s\tremaining: 1.44s\n",
      "779:\tlearn: 0.3764410\ttotal: 5.1s\tremaining: 1.44s\n",
      "780:\tlearn: 0.3763783\ttotal: 5.1s\tremaining: 1.43s\n",
      "781:\tlearn: 0.3763097\ttotal: 5.11s\tremaining: 1.42s\n",
      "782:\tlearn: 0.3762429\ttotal: 5.11s\tremaining: 1.42s\n",
      "783:\tlearn: 0.3761966\ttotal: 5.12s\tremaining: 1.41s\n",
      "784:\tlearn: 0.3761573\ttotal: 5.12s\tremaining: 1.4s\n",
      "785:\tlearn: 0.3761310\ttotal: 5.13s\tremaining: 1.4s\n",
      "786:\tlearn: 0.3760908\ttotal: 5.13s\tremaining: 1.39s\n",
      "787:\tlearn: 0.3760026\ttotal: 5.14s\tremaining: 1.38s\n",
      "788:\tlearn: 0.3759835\ttotal: 5.14s\tremaining: 1.38s\n",
      "789:\tlearn: 0.3759443\ttotal: 5.15s\tremaining: 1.37s\n",
      "790:\tlearn: 0.3759225\ttotal: 5.15s\tremaining: 1.36s\n",
      "791:\tlearn: 0.3758673\ttotal: 5.16s\tremaining: 1.35s\n",
      "792:\tlearn: 0.3757975\ttotal: 5.16s\tremaining: 1.35s\n",
      "793:\tlearn: 0.3757277\ttotal: 5.17s\tremaining: 1.34s\n",
      "794:\tlearn: 0.3756915\ttotal: 5.17s\tremaining: 1.33s\n",
      "795:\tlearn: 0.3756475\ttotal: 5.18s\tremaining: 1.33s\n",
      "796:\tlearn: 0.3755747\ttotal: 5.18s\tremaining: 1.32s\n",
      "797:\tlearn: 0.3755481\ttotal: 5.19s\tremaining: 1.31s\n",
      "798:\tlearn: 0.3755092\ttotal: 5.2s\tremaining: 1.31s\n",
      "799:\tlearn: 0.3754801\ttotal: 5.2s\tremaining: 1.3s\n",
      "800:\tlearn: 0.3754434\ttotal: 5.21s\tremaining: 1.29s\n",
      "801:\tlearn: 0.3753796\ttotal: 5.21s\tremaining: 1.29s\n",
      "802:\tlearn: 0.3753423\ttotal: 5.22s\tremaining: 1.28s\n",
      "803:\tlearn: 0.3752705\ttotal: 5.23s\tremaining: 1.27s\n",
      "804:\tlearn: 0.3752064\ttotal: 5.23s\tremaining: 1.27s\n",
      "805:\tlearn: 0.3751956\ttotal: 5.24s\tremaining: 1.26s\n",
      "806:\tlearn: 0.3751516\ttotal: 5.25s\tremaining: 1.25s\n",
      "807:\tlearn: 0.3751070\ttotal: 5.25s\tremaining: 1.25s\n",
      "808:\tlearn: 0.3750793\ttotal: 5.26s\tremaining: 1.24s\n",
      "809:\tlearn: 0.3750333\ttotal: 5.26s\tremaining: 1.23s\n",
      "810:\tlearn: 0.3749877\ttotal: 5.27s\tremaining: 1.23s\n",
      "811:\tlearn: 0.3749551\ttotal: 5.27s\tremaining: 1.22s\n",
      "812:\tlearn: 0.3749078\ttotal: 5.28s\tremaining: 1.21s\n",
      "813:\tlearn: 0.3748575\ttotal: 5.28s\tremaining: 1.21s\n",
      "814:\tlearn: 0.3748078\ttotal: 5.29s\tremaining: 1.2s\n",
      "815:\tlearn: 0.3747114\ttotal: 5.29s\tremaining: 1.19s\n",
      "816:\tlearn: 0.3746610\ttotal: 5.3s\tremaining: 1.19s\n",
      "817:\tlearn: 0.3746170\ttotal: 5.3s\tremaining: 1.18s\n",
      "818:\tlearn: 0.3745941\ttotal: 5.31s\tremaining: 1.17s\n",
      "819:\tlearn: 0.3745055\ttotal: 5.32s\tremaining: 1.17s\n",
      "820:\tlearn: 0.3744454\ttotal: 5.32s\tremaining: 1.16s\n",
      "821:\tlearn: 0.3743806\ttotal: 5.33s\tremaining: 1.15s\n",
      "822:\tlearn: 0.3743124\ttotal: 5.33s\tremaining: 1.15s\n",
      "823:\tlearn: 0.3742462\ttotal: 5.33s\tremaining: 1.14s\n",
      "824:\tlearn: 0.3741818\ttotal: 5.34s\tremaining: 1.13s\n",
      "825:\tlearn: 0.3741569\ttotal: 5.35s\tremaining: 1.13s\n",
      "826:\tlearn: 0.3741014\ttotal: 5.35s\tremaining: 1.12s\n",
      "827:\tlearn: 0.3740398\ttotal: 5.36s\tremaining: 1.11s\n",
      "828:\tlearn: 0.3739902\ttotal: 5.36s\tremaining: 1.11s\n",
      "829:\tlearn: 0.3739315\ttotal: 5.37s\tremaining: 1.1s\n",
      "830:\tlearn: 0.3738668\ttotal: 5.37s\tremaining: 1.09s\n",
      "831:\tlearn: 0.3738344\ttotal: 5.38s\tremaining: 1.09s\n",
      "832:\tlearn: 0.3737371\ttotal: 5.39s\tremaining: 1.08s\n",
      "833:\tlearn: 0.3736949\ttotal: 5.39s\tremaining: 1.07s\n",
      "834:\tlearn: 0.3736613\ttotal: 5.4s\tremaining: 1.07s\n",
      "835:\tlearn: 0.3736110\ttotal: 5.4s\tremaining: 1.06s\n",
      "836:\tlearn: 0.3735793\ttotal: 5.41s\tremaining: 1.05s\n",
      "837:\tlearn: 0.3735225\ttotal: 5.41s\tremaining: 1.05s\n",
      "838:\tlearn: 0.3734529\ttotal: 5.42s\tremaining: 1.04s\n",
      "839:\tlearn: 0.3733811\ttotal: 5.43s\tremaining: 1.03s\n",
      "840:\tlearn: 0.3733231\ttotal: 5.44s\tremaining: 1.03s\n",
      "841:\tlearn: 0.3732645\ttotal: 5.44s\tremaining: 1.02s\n",
      "842:\tlearn: 0.3732191\ttotal: 5.45s\tremaining: 1.01s\n",
      "843:\tlearn: 0.3732027\ttotal: 5.46s\tremaining: 1.01s\n",
      "844:\tlearn: 0.3731685\ttotal: 5.46s\tremaining: 1s\n",
      "845:\tlearn: 0.3730887\ttotal: 5.47s\tremaining: 995ms\n",
      "846:\tlearn: 0.3729967\ttotal: 5.47s\tremaining: 989ms\n",
      "847:\tlearn: 0.3729495\ttotal: 5.48s\tremaining: 982ms\n",
      "848:\tlearn: 0.3728923\ttotal: 5.48s\tremaining: 975ms\n",
      "849:\tlearn: 0.3728201\ttotal: 5.49s\tremaining: 969ms\n",
      "850:\tlearn: 0.3727773\ttotal: 5.49s\tremaining: 962ms\n",
      "851:\tlearn: 0.3727152\ttotal: 5.5s\tremaining: 955ms\n",
      "852:\tlearn: 0.3726661\ttotal: 5.5s\tremaining: 949ms\n",
      "853:\tlearn: 0.3725810\ttotal: 5.51s\tremaining: 942ms\n",
      "854:\tlearn: 0.3725492\ttotal: 5.51s\tremaining: 935ms\n",
      "855:\tlearn: 0.3724613\ttotal: 5.52s\tremaining: 929ms\n",
      "856:\tlearn: 0.3724217\ttotal: 5.53s\tremaining: 922ms\n",
      "857:\tlearn: 0.3723871\ttotal: 5.53s\tremaining: 915ms\n",
      "858:\tlearn: 0.3723263\ttotal: 5.54s\tremaining: 909ms\n",
      "859:\tlearn: 0.3722789\ttotal: 5.54s\tremaining: 902ms\n",
      "860:\tlearn: 0.3722347\ttotal: 5.54s\tremaining: 895ms\n",
      "861:\tlearn: 0.3721908\ttotal: 5.55s\tremaining: 888ms\n",
      "862:\tlearn: 0.3721428\ttotal: 5.55s\tremaining: 882ms\n",
      "863:\tlearn: 0.3720429\ttotal: 5.56s\tremaining: 875ms\n",
      "864:\tlearn: 0.3720143\ttotal: 5.56s\tremaining: 868ms\n",
      "865:\tlearn: 0.3719427\ttotal: 5.57s\tremaining: 862ms\n",
      "866:\tlearn: 0.3718816\ttotal: 5.58s\tremaining: 855ms\n",
      "867:\tlearn: 0.3718229\ttotal: 5.58s\tremaining: 849ms\n",
      "868:\tlearn: 0.3717482\ttotal: 5.59s\tremaining: 842ms\n",
      "869:\tlearn: 0.3717232\ttotal: 5.59s\tremaining: 836ms\n",
      "870:\tlearn: 0.3716855\ttotal: 5.6s\tremaining: 829ms\n",
      "871:\tlearn: 0.3716338\ttotal: 5.6s\tremaining: 822ms\n",
      "872:\tlearn: 0.3716092\ttotal: 5.61s\tremaining: 816ms\n",
      "873:\tlearn: 0.3715480\ttotal: 5.62s\tremaining: 810ms\n",
      "874:\tlearn: 0.3714823\ttotal: 5.62s\tremaining: 803ms\n",
      "875:\tlearn: 0.3714464\ttotal: 5.63s\tremaining: 797ms\n",
      "876:\tlearn: 0.3714141\ttotal: 5.64s\tremaining: 791ms\n",
      "877:\tlearn: 0.3713872\ttotal: 5.64s\tremaining: 784ms\n",
      "878:\tlearn: 0.3713221\ttotal: 5.65s\tremaining: 778ms\n",
      "879:\tlearn: 0.3712725\ttotal: 5.65s\tremaining: 771ms\n",
      "880:\tlearn: 0.3712183\ttotal: 5.66s\tremaining: 764ms\n",
      "881:\tlearn: 0.3711553\ttotal: 5.66s\tremaining: 758ms\n",
      "882:\tlearn: 0.3710796\ttotal: 5.67s\tremaining: 751ms\n",
      "883:\tlearn: 0.3710129\ttotal: 5.67s\tremaining: 745ms\n",
      "884:\tlearn: 0.3709871\ttotal: 5.68s\tremaining: 738ms\n",
      "885:\tlearn: 0.3709544\ttotal: 5.68s\tremaining: 731ms\n",
      "886:\tlearn: 0.3708638\ttotal: 5.69s\tremaining: 725ms\n",
      "887:\tlearn: 0.3708023\ttotal: 5.69s\tremaining: 718ms\n",
      "888:\tlearn: 0.3707693\ttotal: 5.7s\tremaining: 712ms\n",
      "889:\tlearn: 0.3707278\ttotal: 5.7s\tremaining: 705ms\n",
      "890:\tlearn: 0.3707135\ttotal: 5.71s\tremaining: 698ms\n",
      "891:\tlearn: 0.3706458\ttotal: 5.71s\tremaining: 692ms\n",
      "892:\tlearn: 0.3705365\ttotal: 5.72s\tremaining: 685ms\n",
      "893:\tlearn: 0.3704905\ttotal: 5.72s\tremaining: 679ms\n",
      "894:\tlearn: 0.3704409\ttotal: 5.73s\tremaining: 672ms\n",
      "895:\tlearn: 0.3704041\ttotal: 5.73s\tremaining: 666ms\n",
      "896:\tlearn: 0.3703143\ttotal: 5.74s\tremaining: 659ms\n",
      "897:\tlearn: 0.3702718\ttotal: 5.74s\tremaining: 653ms\n",
      "898:\tlearn: 0.3702098\ttotal: 5.75s\tremaining: 646ms\n",
      "899:\tlearn: 0.3701805\ttotal: 5.75s\tremaining: 639ms\n",
      "900:\tlearn: 0.3701360\ttotal: 5.76s\tremaining: 633ms\n",
      "901:\tlearn: 0.3700788\ttotal: 5.76s\tremaining: 626ms\n",
      "902:\tlearn: 0.3700173\ttotal: 5.77s\tremaining: 620ms\n",
      "903:\tlearn: 0.3699768\ttotal: 5.77s\tremaining: 613ms\n",
      "904:\tlearn: 0.3698987\ttotal: 5.78s\tremaining: 607ms\n",
      "905:\tlearn: 0.3698600\ttotal: 5.79s\tremaining: 600ms\n",
      "906:\tlearn: 0.3698233\ttotal: 5.79s\tremaining: 594ms\n",
      "907:\tlearn: 0.3697685\ttotal: 5.8s\tremaining: 587ms\n",
      "908:\tlearn: 0.3697192\ttotal: 5.8s\tremaining: 581ms\n",
      "909:\tlearn: 0.3696981\ttotal: 5.81s\tremaining: 574ms\n",
      "910:\tlearn: 0.3696436\ttotal: 5.81s\tremaining: 568ms\n",
      "911:\tlearn: 0.3695690\ttotal: 5.82s\tremaining: 562ms\n",
      "912:\tlearn: 0.3695193\ttotal: 5.83s\tremaining: 555ms\n",
      "913:\tlearn: 0.3694719\ttotal: 5.83s\tremaining: 549ms\n",
      "914:\tlearn: 0.3693918\ttotal: 5.84s\tremaining: 542ms\n",
      "915:\tlearn: 0.3693286\ttotal: 5.84s\tremaining: 536ms\n",
      "916:\tlearn: 0.3692735\ttotal: 5.85s\tremaining: 530ms\n",
      "917:\tlearn: 0.3692452\ttotal: 5.86s\tremaining: 523ms\n",
      "918:\tlearn: 0.3691690\ttotal: 5.86s\tremaining: 517ms\n",
      "919:\tlearn: 0.3690911\ttotal: 5.87s\tremaining: 510ms\n",
      "920:\tlearn: 0.3690361\ttotal: 5.87s\tremaining: 504ms\n",
      "921:\tlearn: 0.3689664\ttotal: 5.88s\tremaining: 497ms\n",
      "922:\tlearn: 0.3689054\ttotal: 5.88s\tremaining: 491ms\n",
      "923:\tlearn: 0.3688928\ttotal: 5.88s\tremaining: 484ms\n",
      "924:\tlearn: 0.3688576\ttotal: 5.89s\tremaining: 478ms\n",
      "925:\tlearn: 0.3688164\ttotal: 5.89s\tremaining: 471ms\n",
      "926:\tlearn: 0.3687186\ttotal: 5.9s\tremaining: 465ms\n",
      "927:\tlearn: 0.3686855\ttotal: 5.91s\tremaining: 458ms\n",
      "928:\tlearn: 0.3686757\ttotal: 5.91s\tremaining: 452ms\n",
      "929:\tlearn: 0.3686206\ttotal: 5.92s\tremaining: 445ms\n",
      "930:\tlearn: 0.3685859\ttotal: 5.92s\tremaining: 439ms\n",
      "931:\tlearn: 0.3685746\ttotal: 5.92s\tremaining: 432ms\n",
      "932:\tlearn: 0.3685360\ttotal: 5.93s\tremaining: 426ms\n",
      "933:\tlearn: 0.3684712\ttotal: 5.93s\tremaining: 419ms\n",
      "934:\tlearn: 0.3684417\ttotal: 5.94s\tremaining: 413ms\n",
      "935:\tlearn: 0.3684216\ttotal: 5.94s\tremaining: 406ms\n",
      "936:\tlearn: 0.3683790\ttotal: 5.95s\tremaining: 400ms\n",
      "937:\tlearn: 0.3683365\ttotal: 5.95s\tremaining: 394ms\n",
      "938:\tlearn: 0.3682962\ttotal: 5.96s\tremaining: 387ms\n",
      "939:\tlearn: 0.3682458\ttotal: 5.96s\tremaining: 381ms\n",
      "940:\tlearn: 0.3682185\ttotal: 5.97s\tremaining: 374ms\n",
      "941:\tlearn: 0.3681869\ttotal: 5.98s\tremaining: 368ms\n",
      "942:\tlearn: 0.3680862\ttotal: 5.98s\tremaining: 362ms\n",
      "943:\tlearn: 0.3680134\ttotal: 5.99s\tremaining: 355ms\n",
      "944:\tlearn: 0.3679691\ttotal: 5.99s\tremaining: 349ms\n",
      "945:\tlearn: 0.3679381\ttotal: 6s\tremaining: 342ms\n",
      "946:\tlearn: 0.3679177\ttotal: 6s\tremaining: 336ms\n",
      "947:\tlearn: 0.3678485\ttotal: 6.01s\tremaining: 330ms\n",
      "948:\tlearn: 0.3677922\ttotal: 6.02s\tremaining: 324ms\n",
      "949:\tlearn: 0.3677590\ttotal: 6.03s\tremaining: 317ms\n",
      "950:\tlearn: 0.3677281\ttotal: 6.03s\tremaining: 311ms\n",
      "951:\tlearn: 0.3676982\ttotal: 6.04s\tremaining: 304ms\n",
      "952:\tlearn: 0.3675970\ttotal: 6.05s\tremaining: 298ms\n",
      "953:\tlearn: 0.3675595\ttotal: 6.05s\tremaining: 292ms\n",
      "954:\tlearn: 0.3675247\ttotal: 6.06s\tremaining: 285ms\n",
      "955:\tlearn: 0.3674537\ttotal: 6.06s\tremaining: 279ms\n",
      "956:\tlearn: 0.3674137\ttotal: 6.07s\tremaining: 273ms\n",
      "957:\tlearn: 0.3673735\ttotal: 6.07s\tremaining: 266ms\n",
      "958:\tlearn: 0.3673107\ttotal: 6.08s\tremaining: 260ms\n",
      "959:\tlearn: 0.3672465\ttotal: 6.08s\tremaining: 253ms\n",
      "960:\tlearn: 0.3671756\ttotal: 6.09s\tremaining: 247ms\n",
      "961:\tlearn: 0.3671315\ttotal: 6.09s\tremaining: 241ms\n",
      "962:\tlearn: 0.3670681\ttotal: 6.1s\tremaining: 234ms\n",
      "963:\tlearn: 0.3670309\ttotal: 6.1s\tremaining: 228ms\n",
      "964:\tlearn: 0.3669746\ttotal: 6.11s\tremaining: 222ms\n",
      "965:\tlearn: 0.3669002\ttotal: 6.11s\tremaining: 215ms\n",
      "966:\tlearn: 0.3668427\ttotal: 6.12s\tremaining: 209ms\n",
      "967:\tlearn: 0.3667855\ttotal: 6.12s\tremaining: 202ms\n",
      "968:\tlearn: 0.3667695\ttotal: 6.13s\tremaining: 196ms\n",
      "969:\tlearn: 0.3667316\ttotal: 6.13s\tremaining: 190ms\n",
      "970:\tlearn: 0.3667125\ttotal: 6.14s\tremaining: 183ms\n",
      "971:\tlearn: 0.3666590\ttotal: 6.14s\tremaining: 177ms\n",
      "972:\tlearn: 0.3666309\ttotal: 6.15s\tremaining: 171ms\n",
      "973:\tlearn: 0.3665667\ttotal: 6.15s\tremaining: 164ms\n",
      "974:\tlearn: 0.3665086\ttotal: 6.16s\tremaining: 158ms\n",
      "975:\tlearn: 0.3664478\ttotal: 6.16s\tremaining: 152ms\n",
      "976:\tlearn: 0.3664001\ttotal: 6.17s\tremaining: 145ms\n",
      "977:\tlearn: 0.3663780\ttotal: 6.18s\tremaining: 139ms\n",
      "978:\tlearn: 0.3663188\ttotal: 6.18s\tremaining: 133ms\n",
      "979:\tlearn: 0.3662853\ttotal: 6.19s\tremaining: 126ms\n",
      "980:\tlearn: 0.3662179\ttotal: 6.19s\tremaining: 120ms\n",
      "981:\tlearn: 0.3661963\ttotal: 6.2s\tremaining: 114ms\n",
      "982:\tlearn: 0.3661661\ttotal: 6.21s\tremaining: 107ms\n",
      "983:\tlearn: 0.3661533\ttotal: 6.21s\tremaining: 101ms\n",
      "984:\tlearn: 0.3660879\ttotal: 6.22s\tremaining: 94.7ms\n",
      "985:\tlearn: 0.3660433\ttotal: 6.23s\tremaining: 88.5ms\n",
      "986:\tlearn: 0.3659855\ttotal: 6.24s\tremaining: 82.1ms\n",
      "987:\tlearn: 0.3659158\ttotal: 6.24s\tremaining: 75.8ms\n",
      "988:\tlearn: 0.3658599\ttotal: 6.25s\tremaining: 69.5ms\n",
      "989:\tlearn: 0.3658284\ttotal: 6.26s\tremaining: 63.2ms\n",
      "990:\tlearn: 0.3658039\ttotal: 6.26s\tremaining: 56.9ms\n",
      "991:\tlearn: 0.3657808\ttotal: 6.27s\tremaining: 50.6ms\n",
      "992:\tlearn: 0.3657166\ttotal: 6.28s\tremaining: 44.2ms\n",
      "993:\tlearn: 0.3656267\ttotal: 6.28s\tremaining: 37.9ms\n",
      "994:\tlearn: 0.3655513\ttotal: 6.29s\tremaining: 31.6ms\n",
      "995:\tlearn: 0.3655085\ttotal: 6.29s\tremaining: 25.3ms\n",
      "996:\tlearn: 0.3654664\ttotal: 6.3s\tremaining: 18.9ms\n",
      "997:\tlearn: 0.3654015\ttotal: 6.3s\tremaining: 12.6ms\n",
      "998:\tlearn: 0.3653619\ttotal: 6.31s\tremaining: 6.31ms\n",
      "999:\tlearn: 0.3653293\ttotal: 6.31s\tremaining: 0us\n"
     ]
    },
    {
     "name": "stderr",
     "output_type": "stream",
     "text": [
      "2023-03-28 04:15:57.576 | INFO     | CreditCard.utils.common:create_directories:75 - created directory at: reports/model_report/base_model\n",
      "2023-03-28 04:15:57.680 | ERROR    | CreditCard.utils.model_eval:evaluate_classification_model:143 - Index(['62', '57', '39', '66', '84', '9', '58', '27', '8', '53',\n",
      "       ...\n",
      "       '45', '102', '24', '56', '59', '12', '15', '96', '6', '30'],\n",
      "      dtype='object', length=113)\n",
      "Traceback (most recent call last):\n",
      "  File \"/home/pk/project-python/creditcard/src/CreditCard/utils/model_eval.py\", line 125, in evaluate_classification_model\n",
      "    classification_report.save_html(filename=model_report_path)\n",
      "  File \"/home/pk/miniconda3/envs/credit_card/lib/python3.9/site-packages/evidently/suite/base_suite.py\", line 134, in save_html\n",
      "    dashboard_id, dashboard_info, graphs = self._build_dashboard_info()\n",
      "  File \"/home/pk/miniconda3/envs/credit_card/lib/python3.9/site-packages/evidently/report/report.py\", line 148, in _build_dashboard_info\n",
      "    html_info = renderer.render_html(test)\n",
      "  File \"/home/pk/miniconda3/envs/credit_card/lib/python3.9/site-packages/evidently/metrics/data_quality/conflict_target_metric.py\", line 57, in render_html\n",
      "    metric_result = obj.get_result()\n",
      "  File \"/home/pk/miniconda3/envs/credit_card/lib/python3.9/site-packages/evidently/base_metric.py\", line 131, in get_result\n",
      "    raise result.exception\n",
      "  File \"/home/pk/miniconda3/envs/credit_card/lib/python3.9/site-packages/evidently/suite/base_suite.py\", line 291, in run_calculate\n",
      "    calculations[calculation] = calculation.calculate(data)\n",
      "  File \"/home/pk/miniconda3/envs/credit_card/lib/python3.9/site-packages/evidently/metrics/data_quality/conflict_target_metric.py\", line 32, in calculate\n",
      "    duplicates = data.current_data[data.current_data.duplicated(subset=columns, keep=False)]\n",
      "  File \"/home/pk/miniconda3/envs/credit_card/lib/python3.9/site-packages/pandas/core/frame.py\", line 6806, in duplicated\n",
      "    raise KeyError(Index(diff))\n",
      "KeyError: Index(['62', '57', '39', '66', '84', '9', '58', '27', '8', '53',\n",
      "       ...\n",
      "       '45', '102', '24', '56', '59', '12', '15', '96', '6', '30'],\n",
      "      dtype='object', length=113)\n",
      "\n",
      "During handling of the above exception, another exception occurred:\n",
      "\n",
      "Traceback (most recent call last):\n",
      "  File \"/home/pk/project-python/creditcard/src/CreditCard/model_factory/model_factory.py\", line 434, in <module>\n",
      "    trained_model = model_factory.get_best_evaluated_model(train_model_list=model_list, base_accuracy=0.6, base_report_dir=Path(\"reports\"),\n",
      "  File \"/home/pk/project-python/creditcard/src/CreditCard/model_factory/model_factory.py\", line 410, in get_best_evaluated_model\n",
      "    base_metric_info: MetricEvalArtifact = evaluate_classification_model(estimators=train_model_list,\n",
      "  File \"/home/pk/miniconda3/envs/credit_card/lib/python3.9/site-packages/ensure/main.py\", line 849, in __call__\n",
      "    return_val = self.f(*args, **kwargs)\n",
      "  File \"/home/pk/project-python/creditcard/src/CreditCard/utils/model_eval.py\", line 144, in evaluate_classification_model\n",
      "    raise AppException(e, sys)\n",
      "CreditCard.exception.AppException: \n",
      "        Error occurred in script: \n",
      "        [ /home/pk/project-python/creditcard/src/CreditCard/utils/model_eval.py ] at \n",
      "        try block line number: [125] and exception block line number: \n",
      "        [144] \n",
      "        error message: [Index(['62', '57', '39', '66', '84', '9', '58', '27', '8', '53',\n",
      "       ...\n",
      "       '45', '102', '24', '56', '59', '12', '15', '96', '6', '30'],\n",
      "      dtype='object', length=113)]\n",
      "        \n"
     ]
    }
   ],
   "source": [
    "import subprocess\n",
    "\n",
    "test = subprocess.run([\"python\", \"src/CreditCard/model_factory/model_factory.py\", \"--config\", \"configs/model_factoryoptuna.yaml\"])"
   ]
  },
  {
   "cell_type": "code",
   "execution_count": null,
   "metadata": {},
   "outputs": [],
   "source": [
    "!pip install xgboost -q"
   ]
  },
  {
   "cell_type": "code",
   "execution_count": null,
   "metadata": {},
   "outputs": [],
   "source": [
    "from lightgbm import LGBMClassifier"
   ]
  },
  {
   "cell_type": "code",
   "execution_count": 5,
   "metadata": {},
   "outputs": [],
   "source": [
    "from CreditCard.utils import read_yaml\n",
    "from pathlib import Path\n",
    "import os \n",
    "\n",
    "# os.chdir(\"..\")"
   ]
  },
  {
   "cell_type": "code",
   "execution_count": 6,
   "metadata": {},
   "outputs": [
    {
     "name": "stderr",
     "output_type": "stream",
     "text": [
      "2023-03-28 04:06:26.081 | INFO     | CreditCard.utils.common:read_yaml:34 - yaml file: optuna_hyper/model_params.yaml loaded successfully\n"
     ]
    }
   ],
   "source": [
    "data = read_yaml(path_to_yaml=Path(\"optuna_hyper/model_params.yaml\"))"
   ]
  },
  {
   "cell_type": "code",
   "execution_count": 7,
   "metadata": {},
   "outputs": [
    {
     "data": {
      "text/plain": [
       "dict_keys(['model_1', 'model_2', 'model_3', 'model_4', 'model_5', 'model_6'])"
      ]
     },
     "execution_count": 7,
     "metadata": {},
     "output_type": "execute_result"
    }
   ],
   "source": [
    "data.keys()"
   ]
  },
  {
   "cell_type": "code",
   "execution_count": 4,
   "metadata": {},
   "outputs": [
    {
     "data": {
      "text/plain": [
       "ConfigBox({'Model_Best_params': {'shrinkage': 'auto', 'solver': 'lsqr', 'tol': 0.00018924123965722266}, 'Model_Best_params_score': 0.7192492975560604, 'Model_class': 'LinearDiscriminantAnalysis', 'Model_module': 'sklearn.discriminant_analysis', 'training_artifact_file_path': 'optuna_hyper/lda_study.csv'})"
      ]
     },
     "execution_count": 4,
     "metadata": {},
     "output_type": "execute_result"
    }
   ],
   "source": [
    "data.model_1"
   ]
  },
  {
   "cell_type": "code",
   "execution_count": 5,
   "metadata": {},
   "outputs": [
    {
     "name": "stdout",
     "output_type": "stream",
     "text": [
      "sklearn.discriminant_analysis LinearDiscriminantAnalysis {'shrinkage': 'auto', 'solver': 'lsqr', 'tol': 0.00018924123965722266}\n",
      "sklearn.ensemble GradientBoostingClassifier {'ccp_alpha': 0.3352337550892011, 'criterion': 'squared_error', 'learning_rate': 0.00010007903854383786, 'loss': 'exponential', 'max_depth': 6, 'max_features': 'log2', 'min_impurity_decrease': 0.34260975019837975, 'min_samples_leaf': 4, 'min_samples_split': 5, 'min_weight_fraction_leaf': 0.2694083670016785, 'n_estimators': 372, 'subsample': 0.23208030173540176, 'tol': 0.00012082666253305466}\n",
      "lightgbm LGBMClassifier {'bagging_fraction': 0.5, 'bagging_freq': 6, 'feature_fraction': 0.5, 'lambda_l1': 5.0, 'lambda_l2': 15.0, 'learning_rate': 0.01448683388723935, 'max_depth': 5, 'min_data_in_leaf': 2, 'min_gain_to_split': 35.0, 'n_estimators': 475, 'num_leaves': 2}\n",
      "xgboost XGBClassifier {'ccp_alpha': 0.3352337550892011, 'criterion': 'squared_error', 'learning_rate': 0.00010007903854383786, 'loss': 'exponential', 'max_depth': 6, 'max_features': 'log2', 'min_impurity_decrease': 0.34260975019837975, 'min_samples_leaf': 4, 'min_samples_split': 5, 'min_weight_fraction_leaf': 0.2694083670016785, 'n_estimators': 372, 'subsample': 0.23208030173540176, 'tol': 0.00012082666253305466}\n",
      "sklearn.ensemble RandomForestClassifier {'bootstrap': False, 'criterion': 'entropy', 'max_depth': 9, 'max_leaf_nodes': 10, 'min_samples_leaf': 4, 'n_estimators': 723}\n",
      "catboost CatBoostClassifier {'max_depth': 9, 'max_leaf_nodes': 10, 'min_samples_leaf': 4, 'n_estimators': 723}\n"
     ]
    },
    {
     "ename": "TypeError",
     "evalue": "__init__() got an unexpected keyword argument 'max_leaf_nodes'",
     "output_type": "error",
     "traceback": [
      "\u001b[0;31m---------------------------------------------------------------------------\u001b[0m",
      "\u001b[0;31mTypeError\u001b[0m                                 Traceback (most recent call last)",
      "Cell \u001b[0;32mIn[5], line 8\u001b[0m\n\u001b[1;32m      5\u001b[0m model_params \u001b[39m=\u001b[39m model_data\u001b[39m.\u001b[39mModel_Best_params\n\u001b[1;32m      6\u001b[0m \u001b[39mprint\u001b[39m(model_module , model_class , model_params) \n\u001b[0;32m----> 8\u001b[0m model \u001b[39m=\u001b[39m \u001b[39mgetattr\u001b[39;49m(\u001b[39m__import__\u001b[39;49m(model_module, fromlist\u001b[39m=\u001b[39;49m[model_class]), model_class)(\u001b[39m*\u001b[39;49m\u001b[39m*\u001b[39;49mmodel_params)\n\u001b[1;32m      9\u001b[0m model\u001b[39m.\u001b[39mset_params(\u001b[39m*\u001b[39m\u001b[39m*\u001b[39mmodel_params)\n",
      "\u001b[0;31mTypeError\u001b[0m: __init__() got an unexpected keyword argument 'max_leaf_nodes'"
     ]
    }
   ],
   "source": [
    "for models in data.keys():\n",
    "    model_data = data[models]\n",
    "    model_module = model_data.Model_module\n",
    "    model_class = model_data.Model_class\n",
    "    model_params = model_data.Model_Best_params\n",
    "    print(model_module , model_class , model_params) \n",
    "    \n",
    "    model = getattr(__import__(model_module, fromlist=[model_class]), model_class)(**model_params)\n",
    "    model.set_params(**model_params)\n",
    "    "
   ]
  },
  {
   "cell_type": "code",
   "execution_count": 6,
   "metadata": {},
   "outputs": [
    {
     "name": "stdout",
     "output_type": "stream",
     "text": [
      "model_1 sklearn.discriminant_analysis LinearDiscriminantAnalysis {'shrinkage': 'auto', 'solver': 'lsqr', 'tol': 0.00018924123965722266}\n",
      "model_2 sklearn.ensemble GradientBoostingClassifier {'ccp_alpha': 0.3352337550892011, 'criterion': 'squared_error', 'learning_rate': 0.00010007903854383786, 'loss': 'exponential', 'max_depth': 6, 'max_features': 'log2', 'min_impurity_decrease': 0.34260975019837975, 'min_samples_leaf': 4, 'min_samples_split': 5, 'min_weight_fraction_leaf': 0.2694083670016785, 'n_estimators': 372, 'subsample': 0.23208030173540176, 'tol': 0.00012082666253305466}\n",
      "model_3 lightgbm LGBMClassifier {'bagging_fraction': 0.5, 'bagging_freq': 6, 'feature_fraction': 0.5, 'lambda_l1': 5.0, 'lambda_l2': 15.0, 'learning_rate': 0.01448683388723935, 'max_depth': 5, 'min_data_in_leaf': 2, 'min_gain_to_split': 35.0, 'n_estimators': 475, 'num_leaves': 2}\n",
      "model_4 xgboost XGBClassifier {'ccp_alpha': 0.3352337550892011, 'criterion': 'squared_error', 'learning_rate': 0.00010007903854383786, 'loss': 'exponential', 'max_depth': 6, 'max_features': 'log2', 'min_impurity_decrease': 0.34260975019837975, 'min_samples_leaf': 4, 'min_samples_split': 5, 'min_weight_fraction_leaf': 0.2694083670016785, 'n_estimators': 372, 'subsample': 0.23208030173540176, 'tol': 0.00012082666253305466}\n",
      "model_5 sklearn.ensemble RandomForestClassifier {'bootstrap': False, 'criterion': 'entropy', 'max_depth': 9, 'max_leaf_nodes': 10, 'min_samples_leaf': 4, 'n_estimators': 723}\n",
      "model_6 catboost CatBoostClassifier {'max_depth': 9, 'max_leaf_nodes': 10, 'min_samples_leaf': 4, 'n_estimators': 723}\n"
     ]
    }
   ],
   "source": [
    "for model_key , model_info in data.items():\n",
    "    print(model_key , model_info.Model_module , model_info.Model_class , model_info.Model_Best_params)"
   ]
  },
  {
   "cell_type": "code",
   "execution_count": null,
   "metadata": {},
   "outputs": [],
   "source": []
  }
 ],
 "metadata": {
  "kernelspec": {
   "display_name": "creditcard",
   "language": "python",
   "name": "python3"
  },
  "language_info": {
   "codemirror_mode": {
    "name": "ipython",
    "version": 3
   },
   "file_extension": ".py",
   "mimetype": "text/x-python",
   "name": "python",
   "nbconvert_exporter": "python",
   "pygments_lexer": "ipython3",
   "version": "3.9.0"
  },
  "orig_nbformat": 4
 },
 "nbformat": 4,
 "nbformat_minor": 2
}
