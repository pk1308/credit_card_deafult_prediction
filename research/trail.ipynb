{
 "cells": [
  {
   "cell_type": "code",
   "execution_count": 1,
   "metadata": {},
   "outputs": [],
   "source": [
    "import subprocess"
   ]
  },
  {
   "cell_type": "code",
   "execution_count": 4,
   "metadata": {},
   "outputs": [
    {
     "name": "stderr",
     "output_type": "stream",
     "text": [
      "ERROR: argument COMMAND: invalid choice: 'import git@github.com:pk1308/DataRegistry/tree/master/ucicredit/UCI_Credit_Card.csv' (choose from 'init', 'queue', 'get', 'get-url', 'destroy', 'add', 'remove', 'move', 'unprotect', 'run', 'repro', 'pull', 'push', 'fetch', 'status', 'gc', 'import', 'import-url', 'config', 'checkout', 'remote', 'cache', 'metrics', 'params', 'install', 'root', 'list', 'ls', 'list-url', 'ls-url', 'freeze', 'unfreeze', 'dag', 'daemon', 'commit', 'completion', 'diff', 'version', 'doctor', 'update', 'git-hook', 'plots', 'stage', 'experiments', 'exp', 'check-ignore', 'machine', 'data')\n"
     ]
    },
    {
     "name": "stdout",
     "output_type": "stream",
     "text": [
      "usage: dvc [-q | -v] [-h] [-V] [--cd <path>] COMMAND ...\n",
      "\n",
      "Data Version Control\n",
      "\n",
      "optional arguments:\n",
      "  -q, --quiet        Be quiet.\n",
      "  -v, --verbose      Be verbose.\n",
      "  -h, --help         Show this help message and exit.\n",
      "  -V, --version      Show program's version.\n",
      "  --cd <path>        Change to directory before executing.\n",
      "\n",
      "Available Commands:\n",
      "  COMMAND            Use `dvc COMMAND --help` for command-specific help.\n",
      "    init             Initialize DVC in the current directory.\n",
      "    queue            Commands to manage experiments queue.\n",
      "    get              Download file or directory tracked by DVC or by Git.\n",
      "    get-url          Download or copy files from URL.\n",
      "    destroy          Remove DVC files, local DVC config and data cache.\n",
      "    add              Track data files or directories with DVC.\n",
      "    remove           Remove stages from dvc.yaml and/or stop tracking files or directories.\n",
      "    move             Rename or move a DVC controlled data file or a directory.\n",
      "    unprotect        Unprotect tracked files or directories (when hardlinks or symlinks have been enabled with `dvc config cache.type`).\n",
      "    run              Generate a dvc.yaml file from a command and execute the command.\n",
      "    repro            Reproduce complete or partial pipelines by executing their stages.\n",
      "    pull             Download tracked files or directories from remote storage.\n",
      "    push             Upload tracked files or directories to remote storage.\n",
      "    fetch            Download files or directories from remote storage to the cache.\n",
      "    status           Show changed stages, compare local cache and a remote storage.\n",
      "    gc               Garbage collect unused objects from cache or remote storage.\n",
      "    import           Download file or directory tracked by DVC or by Git into the workspace, and track it.\n",
      "    import-url       Download or copy file from URL and take it under DVC control.\n",
      "    config           Get or set config options.\n",
      "    checkout         Checkout data files from cache.\n",
      "    remote           Set up and manage data remotes.\n",
      "    cache            Manage cache settings.\n",
      "    metrics          Commands to display and compare metrics.\n",
      "    params           Commands to display params.\n",
      "    install          Install DVC git hooks into the repository.\n",
      "    root             Return the relative path to the root of the DVC project.\n",
      "    list (ls)        List repository contents, including files and directories tracked by DVC and by Git.\n",
      "    list-url (ls-url)\n",
      "                     List directory contents from URL.\n",
      "    freeze           Freeze stages or .dvc files.\n",
      "    unfreeze         Unfreeze stages or .dvc files.\n",
      "    dag              Visualize DVC project DAG.\n",
      "    commit           Record changes to files or directories tracked by DVC by storing the current versions in the cache.\n",
      "    completion       Generate shell tab completion.\n",
      "    diff             Show added, modified, or deleted data between commits in the DVC repository, or between a commit and the workspace.\n",
      "    version (doctor)\n",
      "                     Display the DVC version and system/environment information.\n",
      "    update           Update data artifact imported (via dvc import or dvc import-url) from an external DVC repository or URL.\n",
      "    plots            Commands to visualize and compare plot data.\n",
      "    stage            Commands to list and create stages.\n",
      "    experiments (exp)\n",
      "                     Commands to run and compare experiments.\n",
      "    check-ignore     Check whether files or directories are excluded due to `.dvcignore`.\n"
     ]
    },
    {
     "data": {
      "text/plain": [
       "CompletedProcess(args=['dvc', 'import git@github.com:pk1308/DataRegistry/tree/master/ucicredit/UCI_Credit_Card.csv'], returncode=254)"
      ]
     },
     "execution_count": 4,
     "metadata": {},
     "output_type": "execute_result"
    }
   ],
   "source": [
    "subprocess.run([\"dvc\", \"import git@github.com:pk1308/DataRegistry/tree/master/ucicredit/UCI_Credit_Card.csv\"])"
   ]
  },
  {
   "cell_type": "code",
   "execution_count": null,
   "metadata": {},
   "outputs": [],
   "source": []
  }
 ],
 "metadata": {
  "kernelspec": {
   "display_name": "credit_card",
   "language": "python",
   "name": "python3"
  },
  "language_info": {
   "codemirror_mode": {
    "name": "ipython",
    "version": 3
   },
   "file_extension": ".py",
   "mimetype": "text/x-python",
   "name": "python",
   "nbconvert_exporter": "python",
   "pygments_lexer": "ipython3",
   "version": "3.9.0"
  },
  "orig_nbformat": 4
 },
 "nbformat": 4,
 "nbformat_minor": 2
}
